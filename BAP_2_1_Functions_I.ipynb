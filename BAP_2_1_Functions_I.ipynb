{
  "nbformat": 4,
  "nbformat_minor": 0,
  "metadata": {
    "kernelspec": {
      "display_name": "Python 3",
      "language": "python",
      "name": "python3"
    },
    "language_info": {
      "codemirror_mode": {
        "name": "ipython",
        "version": 3
      },
      "file_extension": ".py",
      "mimetype": "text/x-python",
      "name": "python",
      "nbconvert_exporter": "python",
      "pygments_lexer": "ipython3",
      "version": "3.7.1"
    },
    "colab": {
      "provenance": [],
      "include_colab_link": true
    }
  },
  "cells": [
    {
      "cell_type": "markdown",
      "metadata": {
        "id": "view-in-github",
        "colab_type": "text"
      },
      "source": [
        "<a href=\"https://colab.research.google.com/github/ananya1512/Churn-Analysis/blob/main/BAP_2_1_Functions_I.ipynb\" target=\"_parent\"><img src=\"https://colab.research.google.com/assets/colab-badge.svg\" alt=\"Open In Colab\"/></a>"
      ]
    },
    {
      "cell_type": "markdown",
      "metadata": {
        "id": "PWpx6A6L7J6M"
      },
      "source": [
        "# Lesson 2.1 Functions in Python I\n",
        "\n",
        "## This lesson introduces functions in python and provides several examples."
      ]
    },
    {
      "cell_type": "markdown",
      "metadata": {
        "id": "U7_XcFiM7J6O"
      },
      "source": [
        "### Warm-up and Exercises\n",
        "[Replit Coding Warm-up and Exercises](https://repl.it/@careybaldwin/BAP-21-Exercises?language=python3&folderId=20cc2382-84ed-44e1-ade0-f27dbd48a562)"
      ]
    },
    {
      "cell_type": "markdown",
      "metadata": {
        "id": "pnBi2PJ17J6P"
      },
      "source": [
        "#### Warm-up 1\n",
        "Write a program to convert degrees Celcius into degrees Farenheit, using the relationship ```F=(9/5*C)+32```"
      ]
    },
    {
      "cell_type": "code",
      "metadata": {
        "id": "qMpc4wr_7J6Q"
      },
      "source": [
        "# code here:"
      ],
      "execution_count": null,
      "outputs": []
    },
    {
      "cell_type": "markdown",
      "metadata": {
        "id": "0y2SAU297J6b"
      },
      "source": [
        "#### Warm-up 2\n",
        "Write a program that accepts these inputs:\n",
        "```\n",
        "apr (float),\n",
        "years (int),\n",
        "principal (float),\n",
        "```\n",
        "and prints the principal value after the time period has passed.  Use the relationship: principal=principal*(1+apr).  We need a for loop to repeat the process for each year."
      ]
    },
    {
      "cell_type": "code",
      "metadata": {
        "id": "VQtVII6-7J6b"
      },
      "source": [
        "# Code here:"
      ],
      "execution_count": null,
      "outputs": []
    },
    {
      "cell_type": "markdown",
      "metadata": {
        "id": "hH1lWOyl7J6h"
      },
      "source": [
        "### References\n",
        "\n",
        "[A Practical Introduction to Python Programming](https://www.brianheinold.net/python/A_Practical_Introduction_to_Python_Programming_Heinold.pdf)\n",
        "\n",
        "[Markdown Syntax](https://help.github.com/en/articles/basic-writing-and-formatting-syntax#quoting-code)"
      ]
    },
    {
      "cell_type": "markdown",
      "metadata": {
        "id": "QfhSYBO27J6h"
      },
      "source": [
        "### Objectives\n",
        "- Be able to build basic functions in python and understand the syntax\n",
        "- Understand the return statement and know how to use it\n",
        "- Be able to import modules and individual functions from modules\n",
        "- Be able to use functions within other functions\n",
        "- Learn to use default arguments and understand ordering\n",
        "- Understand the difference between local and Global Variables"
      ]
    },
    {
      "cell_type": "markdown",
      "metadata": {
        "id": "fdpK_wFS7J6i"
      },
      "source": [
        "### Videos\n",
        "- [intro to functions](https://youtu.be/-fBkBVo2iTc)\n",
        "- [return statements in functions](https://youtu.be/6u_d4nL3xwI)\n",
        "- [importing functions](https://youtu.be/xi7VYG4BN6s)\n",
        "- [default arguments](https://youtu.be/bUAaZFG7uQk)"
      ]
    },
    {
      "cell_type": "markdown",
      "metadata": {
        "id": "1K5TCkWg7J6j"
      },
      "source": [
        "### 2.1 Functions in Python\n",
        "\n",
        "We have seen many functions that have been built into python, such as print(), find() etc.  Functions allow us to make our code reusable.  It is also helpful to use functions to break up program so that it is easier to read and maintain."
      ]
    },
    {
      "cell_type": "markdown",
      "metadata": {
        "id": "Hnbtdp7E7J6l"
      },
      "source": [
        "#### 2.1.1 Basics\n",
        "\n",
        "When we build our own function, it is defined with the def statement, then we give the function a name and end the statement with a colon.\n",
        "```\n",
        "def function_name():\n",
        "```\n",
        "When we give a function a name, we are adding that name to the namespace of the program we are building.  The namespace is the collection of recognized identifiers.\n",
        "\n",
        "A function can be as basic as printing something.  The indentation after the colon shows that what follows is part of the say_hello function."
      ]
    },
    {
      "cell_type": "code",
      "metadata": {
        "id": "uWPEGmdH7J6m"
      },
      "source": [
        "def say_hello():\n",
        "    print(\"Hello, how are you?\")"
      ],
      "execution_count": null,
      "outputs": []
    },
    {
      "cell_type": "markdown",
      "metadata": {
        "id": "5va2SQp87J6q"
      },
      "source": [
        "When we want to use the function we “call” or “invoke” the function like so:"
      ]
    },
    {
      "cell_type": "code",
      "metadata": {
        "id": "xZIQbtzc7J6r"
      },
      "source": [
        "say_hello()"
      ],
      "execution_count": null,
      "outputs": []
    },
    {
      "cell_type": "markdown",
      "metadata": {
        "id": "UoDPZv9r7J6v"
      },
      "source": [
        "#### 2.1.2 Arguments\n",
        "\n",
        "A function like this has no arguments specified (nothing in the parentheses), but we can write a function in such a way to accept one or more arguments.  Think of arguments as changeable parts of the function. They allow us to customize our result.  We give arguments a name when building the function and allow the user to specify a value when calling the function.  The name of an argument is called a \"parameter\".  You will see the terms \"argument\" and \"parameter used interchangeably\".   "
      ]
    },
    {
      "cell_type": "code",
      "metadata": {
        "id": "sgtyWyx67J6w"
      },
      "source": [
        "def say_hello(name):\n",
        "    print(\"Hello\", name,\"how are you?\")"
      ],
      "execution_count": null,
      "outputs": []
    },
    {
      "cell_type": "markdown",
      "metadata": {
        "id": "qLpiBcWh7J63"
      },
      "source": [
        "Call the function:"
      ]
    },
    {
      "cell_type": "code",
      "metadata": {
        "id": "maC8EHJ37J65"
      },
      "source": [
        "say_hello('Howard')"
      ],
      "execution_count": null,
      "outputs": []
    },
    {
      "cell_type": "markdown",
      "metadata": {
        "id": "exx4O1k27J6-"
      },
      "source": [
        "#### 2.1.3 Returning Values\n",
        "\n",
        "The return statement can be used to send the result of the function’s calculations back to the caller.  We see this in functions that perform calculations.  It is often advantageous to have a the value returned by a function accessible throughout the program."
      ]
    },
    {
      "cell_type": "markdown",
      "metadata": {
        "id": "2fXFhMdL7J7A"
      },
      "source": [
        "A function to convert a temperature from celsius to Fahrenheit."
      ]
    },
    {
      "cell_type": "code",
      "metadata": {
        "id": "2FhwYh5v7J7B",
        "colab": {
          "base_uri": "https://localhost:8080/"
        },
        "outputId": "c706817c-03a1-49aa-cfed-c0ef48b34033"
      },
      "source": [
        "def convert(temp):\n",
        "  return temp*9/5+32\n",
        "\n",
        "type(convert(20))"
      ],
      "execution_count": null,
      "outputs": [
        {
          "output_type": "execute_result",
          "data": {
            "text/plain": [
              "float"
            ]
          },
          "metadata": {},
          "execution_count": 7
        }
      ]
    },
    {
      "cell_type": "code",
      "metadata": {
        "colab": {
          "base_uri": "https://localhost:8080/"
        },
        "id": "ELC61JkdutmE",
        "outputId": "716a4e43-4516-4a5b-81f3-0ecb7c953773"
      },
      "source": [
        "def convert(temp):\n",
        "  print(temp*9/5+32)\n",
        "\n",
        "type(convert(20))"
      ],
      "execution_count": null,
      "outputs": [
        {
          "output_type": "stream",
          "name": "stdout",
          "text": [
            "68.0\n"
          ]
        },
        {
          "output_type": "execute_result",
          "data": {
            "text/plain": [
              "NoneType"
            ]
          },
          "metadata": {},
          "execution_count": 6
        }
      ]
    },
    {
      "cell_type": "markdown",
      "metadata": {
        "id": "AKX5CpHd7J7I"
      },
      "source": [
        "Because we returned a value, we can reference the function and combine it with other operations like so."
      ]
    },
    {
      "cell_type": "code",
      "metadata": {
        "id": "DR3UxL8S7J7J"
      },
      "source": [
        "convert(20)+10"
      ],
      "execution_count": null,
      "outputs": []
    },
    {
      "cell_type": "markdown",
      "metadata": {
        "id": "c2H9Xps57J7P"
      },
      "source": [
        "If no return statement, python returns None"
      ]
    },
    {
      "cell_type": "code",
      "metadata": {
        "id": "ZN4IU2BB7J7R"
      },
      "source": [
        "def convert(temp):\n",
        "    # missing return statement\n",
        "    temp*9/5+32\n",
        "\n",
        "print(convert(20))"
      ],
      "execution_count": null,
      "outputs": []
    },
    {
      "cell_type": "markdown",
      "metadata": {
        "id": "MCgk3i-D7J7W"
      },
      "source": [
        "We can return multiple values form a function.  Write a function that returns the first and last character of a string."
      ]
    },
    {
      "cell_type": "code",
      "metadata": {
        "id": "uICUWiOu7J7X"
      },
      "source": [
        "def first_last(str):\n",
        "    return str[0],str[-1]\n",
        "\n",
        "first_last('abcdefg')"
      ],
      "execution_count": null,
      "outputs": []
    },
    {
      "cell_type": "markdown",
      "metadata": {
        "id": "AXNjlJ157J7b"
      },
      "source": [
        "Write a function that add up the digits of a three digit integer and returns the result."
      ]
    },
    {
      "cell_type": "code",
      "metadata": {
        "id": "uwOh2jIz7J7b"
      },
      "source": [
        "def add_digits(num):\n",
        "    string=str(num)\n",
        "    sum=int(string[0])+int(string[1])+int(string[2])\n",
        "    print(\"adding the digits of\", num, \"yields\", sum)\n",
        "    return sum\n",
        "\n",
        "add_digits(123)"
      ],
      "execution_count": null,
      "outputs": []
    },
    {
      "cell_type": "markdown",
      "metadata": {
        "id": "cNSHa_m67J7f"
      },
      "source": [
        "#### Exercise 1\n",
        "\n",
        "Write a function that takes in a name and hometown argument (both strings) and prints a statement that says \"Hello, my name is (name) and I am from (hometown)\""
      ]
    },
    {
      "cell_type": "code",
      "metadata": {
        "id": "2sW8_TC37J7g"
      },
      "source": [
        "# code here:\n"
      ],
      "execution_count": null,
      "outputs": []
    },
    {
      "cell_type": "markdown",
      "metadata": {
        "id": "deJb7_k17J7j"
      },
      "source": [
        "#### Exercise 2\n",
        "Write a function that accepts a start_price and an end_price and returns the percent increase using the relationship\n",
        "```\n",
        "(end_price-start_price)/start_price*100\n",
        "```"
      ]
    },
    {
      "cell_type": "code",
      "metadata": {
        "id": "0Sz-WOwK7J7k"
      },
      "source": [
        "# code here:\n"
      ],
      "execution_count": null,
      "outputs": []
    },
    {
      "cell_type": "markdown",
      "metadata": {
        "id": "XkRwePSI7J7n"
      },
      "source": [
        "#### 2.1.4 Importing Functions\n",
        "\n",
        "Importing Functions: Python has a multitude of functions available for import. Here are some ways we can do this with the math module which will give us access to a collection of functions."
      ]
    },
    {
      "cell_type": "code",
      "metadata": {
        "id": "bOQHxGan7J7o"
      },
      "source": [
        "# import the math module into our program\n",
        "import math\n",
        "# try the sqrt function\n",
        "math.sqrt(81) # we need to provide a reference to the module (disambiguate)"
      ],
      "execution_count": null,
      "outputs": []
    },
    {
      "cell_type": "code",
      "metadata": {
        "id": "WO9OEeqd7J7s"
      },
      "source": [
        "# import the math module into our program but give it the name 'm' (m is now an alias for math)\n",
        "import math as m\n",
        "# this makes it a little easier to reference the math module\n",
        "m.sqrt(81)"
      ],
      "execution_count": null,
      "outputs": []
    },
    {
      "cell_type": "code",
      "metadata": {
        "id": "rvHgLNuw7J7v"
      },
      "source": [
        "# import the sqrt function into our program (this only pulls in the one function)\n",
        "from math import sqrt\n",
        "# We do not need to reference the module that holds this function\n",
        "sqrt(81)"
      ],
      "execution_count": null,
      "outputs": []
    },
    {
      "cell_type": "code",
      "metadata": {
        "colab": {
          "base_uri": "https://localhost:8080/",
          "height": 132
        },
        "id": "cFbGeHkcuRQB",
        "outputId": "8f179068-47de-454f-9eb1-dd45e26246d9"
      },
      "source": [
        "# import sqrt from math"
      ],
      "execution_count": null,
      "outputs": [
        {
          "output_type": "error",
          "ename": "SyntaxError",
          "evalue": "ignored",
          "traceback": [
            "\u001b[0;36m  File \u001b[0;32m\"<ipython-input-1-6d73e0924ea2>\"\u001b[0;36m, line \u001b[0;32m1\u001b[0m\n\u001b[0;31m    import sqrt from math\u001b[0m\n\u001b[0m                   ^\u001b[0m\n\u001b[0;31mSyntaxError\u001b[0m\u001b[0;31m:\u001b[0m invalid syntax\n"
          ]
        }
      ]
    },
    {
      "cell_type": "markdown",
      "metadata": {
        "id": "gxwc-Swl7J7y"
      },
      "source": [
        "#### 2.1.5 Combining Functions\n",
        "\n",
        "We can use imported or user-defined functions within other functions.  This is very useful for breaking down your program into manageable pieces."
      ]
    },
    {
      "cell_type": "code",
      "metadata": {
        "id": "r7e8-KtX7J7y"
      },
      "source": [
        "# import a module to calculate some statistical values\n",
        "from numpy import mean, median, std, percentile"
      ],
      "execution_count": null,
      "outputs": []
    },
    {
      "cell_type": "markdown",
      "metadata": {
        "id": "u6dWFEhE7J71"
      },
      "source": [
        "Write a function that returns measures of central tendency, variability, and extremity for a list of data values."
      ]
    },
    {
      "cell_type": "code",
      "metadata": {
        "id": "MFmZmhB27J72",
        "colab": {
          "base_uri": "https://localhost:8080/"
        },
        "outputId": "3e41e403-b909-4413-c40e-fcebc531d7a8"
      },
      "source": [
        "def summary(num_list):\n",
        "    from numpy import mean, median, std, percentile\n",
        "    m=mean(num_list)\n",
        "    med=median(num_list)\n",
        "    s=std(num_list)\n",
        "    p1=percentile(num_list,25)\n",
        "\n",
        "    print('mean:',m)\n",
        "    print('median:', med)\n",
        "\n",
        "    return m, med, round(s,2), p1\n",
        "\n",
        "summary([2,5,3,3,3,16,7,18])"
      ],
      "execution_count": null,
      "outputs": [
        {
          "output_type": "stream",
          "name": "stdout",
          "text": [
            "mean: 7.125\n",
            "median: 4.0\n"
          ]
        },
        {
          "output_type": "execute_result",
          "data": {
            "text/plain": [
              "(7.125, 4.0, 5.9, 3.0)"
            ]
          },
          "metadata": {},
          "execution_count": 6
        }
      ]
    },
    {
      "cell_type": "markdown",
      "metadata": {
        "id": "xn66pvFh7J76"
      },
      "source": [
        "#### 2.1.6 Default Arguments"
      ]
    },
    {
      "cell_type": "markdown",
      "metadata": {
        "id": "LkMZrGv47J77"
      },
      "source": [
        "You can specify a default value for an argument. This makes it optional, and if the caller decides not to use it, then it takes the default value. Here is an example:"
      ]
    },
    {
      "cell_type": "markdown",
      "metadata": {
        "id": "eure-7Gd7J78"
      },
      "source": [
        "The default number is specified as 123.  If the user fails to input a number to the function, the number 123 will be used."
      ]
    },
    {
      "cell_type": "code",
      "metadata": {
        "id": "m0qMayhq7J7-",
        "outputId": "cd4909e4-a344-4596-f015-76bae385993d"
      },
      "source": [
        "def add_digits(num=123):\n",
        "    string=str(num)\n",
        "    sum=int(string[0])+int(string[1])+int(string[2])\n",
        "    print(\"adding the digits of\", num, \"yields\", sum)\n",
        "    return sum\n",
        "\n",
        "add_digits(345)"
      ],
      "execution_count": null,
      "outputs": [
        {
          "output_type": "stream",
          "text": [
            "adding the digits of 345 yields 12\n"
          ],
          "name": "stdout"
        },
        {
          "output_type": "execute_result",
          "data": {
            "text/plain": [
              "12"
            ]
          },
          "metadata": {
            "tags": []
          },
          "execution_count": 29
        }
      ]
    },
    {
      "cell_type": "markdown",
      "metadata": {
        "id": "WPFuV2Pl7J8B"
      },
      "source": [
        "Another example"
      ]
    },
    {
      "cell_type": "code",
      "metadata": {
        "id": "hwRbMWOu7J8C",
        "outputId": "102ba50d-d89f-4828-cd78-a942dc9d55f6"
      },
      "source": [
        "def divisible(dividend=45, divisor=5):\n",
        "    if dividend%divisor ==0:\n",
        "        return True\n",
        "    else:\n",
        "        return False\n",
        "\n",
        "divisible(36,5)"
      ],
      "execution_count": null,
      "outputs": [
        {
          "output_type": "execute_result",
          "data": {
            "text/plain": [
              "False"
            ]
          },
          "metadata": {
            "tags": []
          },
          "execution_count": 31
        }
      ]
    },
    {
      "cell_type": "markdown",
      "metadata": {
        "id": "Vzn3weOr7J8G"
      },
      "source": [
        "##### Ordering Arguments\n",
        "\n",
        "We either have to input the values in the correct order or reference them by name when calling the function."
      ]
    },
    {
      "cell_type": "code",
      "metadata": {
        "id": "lBj0loNL7J8G",
        "outputId": "f484236e-020c-4067-a34b-5b4104777602"
      },
      "source": [
        "# specify values in order\n",
        "print(divisible(36,6))\n",
        "\n",
        "# name the values when inputting\n",
        "print(divisible(divisor=6, dividend=36))\n",
        "\n",
        "# this one won't work as intended\n",
        "print(divisible(6,36))"
      ],
      "execution_count": null,
      "outputs": [
        {
          "output_type": "stream",
          "text": [
            "True\n",
            "True\n",
            "False\n"
          ],
          "name": "stdout"
        }
      ]
    },
    {
      "cell_type": "markdown",
      "metadata": {
        "id": "AkXC5Fa47J8L"
      },
      "source": [
        "#### Exercise 3\n",
        "\n",
        "Write a function that calculates the value of the principal invested at a given percentage rate after a specified time frame.  The function should take in three arguments: principal (float), apr (float), time (int).  Use the relationship\n",
        "\n",
        "![image](https://drive.google.com/uc?id=1o5VcSq_Rc9JiX5Qv7ujr8gg69AeyBpY2)"
      ]
    },
    {
      "cell_type": "code",
      "metadata": {
        "id": "ADwsE_8B7J8M"
      },
      "source": [
        "# code here\n",
        "\n",
        "\n",
        "\n",
        "\n"
      ],
      "execution_count": null,
      "outputs": []
    },
    {
      "cell_type": "markdown",
      "source": [
        "### Exercise 4\n",
        "\n",
        "Write a function to calculate and return a mortgage payment given the amount of the loan, total interest rate, and number of months to pay off the mortgage. Set the default interest rate to be 6.89% and the default number of months to be 360.\n",
        "\n",
        "For your mortgage calc, you’ll use the following equation:\n",
        "```\n",
        "M = P [ i(1 + i)^n ] / [ (1 + i)^n – 1].\n",
        "```\n",
        "Here’s a breakdown of each of the variables:\n",
        "\n",
        "M = Total monthly payment\n",
        "\n",
        "P = The total amount of your loan\n",
        "\n",
        "i = Your interest rate, as a monthly percentage (need to divide total interest rate by 12)\n",
        "\n",
        "n = The total amount of months in your timeline for paying off your mortgage"
      ],
      "metadata": {
        "id": "RUfV00uCISqK"
      }
    },
    {
      "cell_type": "code",
      "source": [
        "# Code\n",
        "\n",
        "\n",
        "\n"
      ],
      "metadata": {
        "id": "ep5VnkP8JUp_"
      },
      "execution_count": null,
      "outputs": []
    },
    {
      "cell_type": "markdown",
      "metadata": {
        "id": "9h6GtwqD7J8P"
      },
      "source": [
        "#### 2.1.7 Local and Global Variables\n",
        "\n",
        "Let’s examine the behavior of the variables in the following functions:"
      ]
    },
    {
      "cell_type": "code",
      "metadata": {
        "id": "w1n91MEA7J8P"
      },
      "source": [
        "def func1():\n",
        "    for i in range(10):\n",
        "        print(i)\n",
        "\n",
        "print(func1())\n",
        "\n",
        "def func2():\n",
        "    i=100\n",
        "    func1()\n",
        "    print(i)\n",
        "\n",
        "print(func2())"
      ],
      "execution_count": null,
      "outputs": []
    },
    {
      "cell_type": "markdown",
      "metadata": {
        "id": "OFwO57b57J8S"
      },
      "source": [
        "A problem that could arise here is that when we call func1, we might mess up the value of i in func2. In a large program it would be a nightmare trying to make sure that we don’t repeat variable names in different functions, and, fortunately, we don’t have to worry about this. When a variable is defined inside a function, it is local to that function, which means it essentially does not exist outside that function. This way each function can define its own variables and not have to worry about if those variable names are used in other functions."
      ]
    },
    {
      "cell_type": "markdown",
      "metadata": {
        "id": "pUV4YeqB7J8T"
      },
      "source": [
        "Global variables On the other hand, sometimes you actually do want the same variable to be available to multiple functions. Such a variable is called a global variable. You have to be careful using global variables, especially in larger programs, but a few global variables used judiciously are fine in smaller programs. Here is a short example:"
      ]
    },
    {
      "cell_type": "code",
      "metadata": {
        "id": "JGwUcFVu7J8T"
      },
      "source": [
        "def reset():\n",
        "    global time_left\n",
        "    time_left = 0\n",
        "\n",
        "def print_time():\n",
        "    print(time_left)\n",
        "    time_left=30"
      ],
      "execution_count": null,
      "outputs": []
    },
    {
      "cell_type": "markdown",
      "metadata": {
        "id": "Lb0CzkPn7J8W"
      },
      "source": [
        "In this program we have a variable time_left that we would like multiple functions to have access to. If a function wants to change the value of that variable, we need to tell the function that time_left is a global variable. We use a global statement in the function to do this. On the other hand, if we just want to use the value of the global variable, we do not need a global statement."
      ]
    }
  ]
}