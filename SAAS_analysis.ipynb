{
 "cells": [
  {
   "cell_type": "markdown",
   "metadata": {
    "application/vnd.databricks.v1+cell": {
     "cellMetadata": {
      "byteLimit": 2048000,
      "rowLimit": 10000
     },
     "inputWidgets": {},
     "nuid": "dba1e855-0506-48ee-8b68-4c551e6b5dee",
     "showTitle": false,
     "title": ""
    }
   },
   "source": [
    "### Data Structure  \n",
    "This data is about a subscription-based digital product offering for financial advisory that includes newsletters, webinars, and investment recommendations. The offering has a couple of varieties, annual subscription, and digital subscription. The product also provides daytime support for customers to reach out to a care team that can help them with any product-related questions and signup/cancellation-related queries.  \n",
    "1. product_info encompasses product names, corresponding pricing details, and the duration of each subscription plan.    \n",
    "2. customer_info includes customer demographics like age and gender.   \n",
    "3. customer_product details customer sign-up and cancellation dates at the product level, if they have not yet ended their subscription cancel date is null.    \n",
    "4. customer_cases captures records of customer contacts with support, including timestamps, contact methods (like phone or email), and the reason for each contact.  \n",
    "\n",
    "\n",
    "\n",
    "\n",
    "\n",
    "\n",
    "\n",
    "\n",
    "\n"
   ]
  },
  {
   "cell_type": "markdown",
   "metadata": {
    "application/vnd.databricks.v1+cell": {
     "cellMetadata": {
      "byteLimit": 2048000,
      "rowLimit": 10000
     },
     "inputWidgets": {},
     "nuid": "3aecc11a-6566-490b-8b23-6c649f28ceaf",
     "showTitle": false,
     "title": ""
    }
   },
   "source": [
    "####Product Info"
   ]
  },
  {
   "cell_type": "code",
   "execution_count": 0,
   "metadata": {
    "application/vnd.databricks.v1+cell": {
     "cellMetadata": {
      "byteLimit": 2048000,
      "rowLimit": 10000
     },
     "inputWidgets": {},
     "nuid": "91ab1321-14b9-49fb-bb01-32e671a60995",
     "showTitle": false,
     "title": ""
    }
   },
   "outputs": [
    {
     "output_type": "display_data",
     "data": {
      "text/html": [
       "<style scoped>\n",
       "  .table-result-container {\n",
       "    max-height: 300px;\n",
       "    overflow: auto;\n",
       "  }\n",
       "  table, th, td {\n",
       "    border: 1px solid black;\n",
       "    border-collapse: collapse;\n",
       "  }\n",
       "  th, td {\n",
       "    padding: 5px;\n",
       "  }\n",
       "  th {\n",
       "    text-align: left;\n",
       "  }\n",
       "</style><div class='table-result-container'><table class='table-result'><thead style='background-color: white'><tr><th>product_id</th><th>name</th><th>price</th><th>billing_cycle</th></tr></thead><tbody><tr><td>prd_1</td><td>annual_subscription</td><td>1200</td><td>12</td></tr><tr><td>prd_2</td><td>monthly_subscription</td><td>125</td><td>1</td></tr></tbody></table></div>"
      ]
     },
     "metadata": {
      "application/vnd.databricks.v1+output": {
       "addedWidgets": {},
       "aggData": [],
       "aggError": "",
       "aggOverflow": false,
       "aggSchema": [],
       "aggSeriesLimitReached": false,
       "aggType": "",
       "arguments": {},
       "columnCustomDisplayInfos": {},
       "data": [
        [
         "prd_1",
         "annual_subscription",
         1200,
         12
        ],
        [
         "prd_2",
         "monthly_subscription",
         125,
         1
        ]
       ],
       "datasetInfos": [],
       "dbfsResultPath": null,
       "isJsonSchema": true,
       "metadata": {
        "isDbfsCommandResult": false
       },
       "overflow": false,
       "plotOptions": {
        "customPlotOptions": {},
        "displayType": "table",
        "pivotAggregation": null,
        "pivotColumns": null,
        "xColumns": null,
        "yColumns": null
       },
       "removedWidgets": [],
       "schema": [
        {
         "metadata": "{}",
         "name": "product_id",
         "type": "\"string\""
        },
        {
         "metadata": "{}",
         "name": "name",
         "type": "\"string\""
        },
        {
         "metadata": "{}",
         "name": "price",
         "type": "\"integer\""
        },
        {
         "metadata": "{}",
         "name": "billing_cycle",
         "type": "\"integer\""
        }
       ],
       "type": "table"
      }
     },
     "output_type": "display_data"
    }
   ],
   "source": [
    "%sql\n",
    "select * from product_info;"
   ]
  },
  {
   "cell_type": "code",
   "execution_count": 0,
   "metadata": {
    "application/vnd.databricks.v1+cell": {
     "cellMetadata": {
      "byteLimit": 2048000,
      "rowLimit": 10000
     },
     "inputWidgets": {},
     "nuid": "5db90d6e-8bfe-47b8-82a6-9f23e8fca142",
     "showTitle": false,
     "title": ""
    }
   },
   "outputs": [
    {
     "output_type": "display_data",
     "data": {
      "text/html": [
       "<style scoped>\n",
       "  .table-result-container {\n",
       "    max-height: 300px;\n",
       "    overflow: auto;\n",
       "  }\n",
       "  table, th, td {\n",
       "    border: 1px solid black;\n",
       "    border-collapse: collapse;\n",
       "  }\n",
       "  th, td {\n",
       "    padding: 5px;\n",
       "  }\n",
       "  th {\n",
       "    text-align: left;\n",
       "  }\n",
       "</style><div class='table-result-container'><table class='table-result'><thead style='background-color: white'><tr><th>col_name</th><th>data_type</th><th>comment</th></tr></thead><tbody><tr><td>product_id</td><td>string</td><td>null</td></tr><tr><td>name</td><td>string</td><td>null</td></tr><tr><td>price</td><td>int</td><td>null</td></tr><tr><td>billing_cycle</td><td>int</td><td>null</td></tr></tbody></table></div>"
      ]
     },
     "metadata": {
      "application/vnd.databricks.v1+output": {
       "addedWidgets": {},
       "aggData": [],
       "aggError": "",
       "aggOverflow": false,
       "aggSchema": [],
       "aggSeriesLimitReached": false,
       "aggType": "",
       "arguments": {},
       "columnCustomDisplayInfos": {},
       "data": [
        [
         "product_id",
         "string",
         null
        ],
        [
         "name",
         "string",
         null
        ],
        [
         "price",
         "int",
         null
        ],
        [
         "billing_cycle",
         "int",
         null
        ]
       ],
       "datasetInfos": [],
       "dbfsResultPath": null,
       "isJsonSchema": true,
       "metadata": {
        "isDbfsCommandResult": false
       },
       "overflow": false,
       "plotOptions": {
        "customPlotOptions": {},
        "displayType": "table",
        "pivotAggregation": null,
        "pivotColumns": null,
        "xColumns": null,
        "yColumns": null
       },
       "removedWidgets": [],
       "schema": [
        {
         "metadata": "{\"comment\":\"name of the column\"}",
         "name": "col_name",
         "type": "\"string\""
        },
        {
         "metadata": "{\"comment\":\"data type of the column\"}",
         "name": "data_type",
         "type": "\"string\""
        },
        {
         "metadata": "{\"comment\":\"comment of the column\"}",
         "name": "comment",
         "type": "\"string\""
        }
       ],
       "type": "table"
      }
     },
     "output_type": "display_data"
    }
   ],
   "source": [
    "%sql\n",
    "\n",
    "describe table product_info;"
   ]
  },
  {
   "cell_type": "markdown",
   "metadata": {
    "application/vnd.databricks.v1+cell": {
     "cellMetadata": {
      "byteLimit": 2048000,
      "rowLimit": 10000
     },
     "inputWidgets": {},
     "nuid": "512a51dd-cd30-4aa1-b187-9a7e0689727f",
     "showTitle": false,
     "title": ""
    }
   },
   "source": [
    "####Customer Info"
   ]
  },
  {
   "cell_type": "code",
   "execution_count": 0,
   "metadata": {
    "application/vnd.databricks.v1+cell": {
     "cellMetadata": {
      "byteLimit": 2048000,
      "rowLimit": 10000
     },
     "inputWidgets": {},
     "nuid": "25684073-330b-41f0-84a4-6475d7385ba1",
     "showTitle": false,
     "title": ""
    }
   },
   "outputs": [
    {
     "output_type": "display_data",
     "data": {
      "text/html": [
       "<style scoped>\n",
       "  .table-result-container {\n",
       "    max-height: 300px;\n",
       "    overflow: auto;\n",
       "  }\n",
       "  table, th, td {\n",
       "    border: 1px solid black;\n",
       "    border-collapse: collapse;\n",
       "  }\n",
       "  th, td {\n",
       "    padding: 5px;\n",
       "  }\n",
       "  th {\n",
       "    text-align: left;\n",
       "  }\n",
       "</style><div class='table-result-container'><table class='table-result'><thead style='background-color: white'><tr><th>_c0</th><th>customer_id</th><th>age</th><th>gender</th><th>age_bracket</th></tr></thead><tbody><tr><td>1</td><td>C2448</td><td>76</td><td>female</td><td>70-79</td></tr><tr><td>2</td><td>C2449</td><td>61</td><td>male</td><td>60-69</td></tr><tr><td>3</td><td>C2450</td><td>58</td><td>female</td><td>50-59</td></tr><tr><td>4</td><td>C2451</td><td>62</td><td>female</td><td>60-69</td></tr><tr><td>5</td><td>C2452</td><td>71</td><td>male</td><td>70-79</td></tr></tbody></table></div>"
      ]
     },
     "metadata": {
      "application/vnd.databricks.v1+output": {
       "addedWidgets": {},
       "aggData": [],
       "aggError": "",
       "aggOverflow": false,
       "aggSchema": [],
       "aggSeriesLimitReached": false,
       "aggType": "",
       "arguments": {},
       "columnCustomDisplayInfos": {},
       "data": [
        [
         1,
         "C2448",
         76,
         "female",
         "70-79"
        ],
        [
         2,
         "C2449",
         61,
         "male",
         "60-69"
        ],
        [
         3,
         "C2450",
         58,
         "female",
         "50-59"
        ],
        [
         4,
         "C2451",
         62,
         "female",
         "60-69"
        ],
        [
         5,
         "C2452",
         71,
         "male",
         "70-79"
        ]
       ],
       "datasetInfos": [],
       "dbfsResultPath": null,
       "isJsonSchema": true,
       "metadata": {
        "isDbfsCommandResult": false
       },
       "overflow": false,
       "plotOptions": {
        "customPlotOptions": {},
        "displayType": "table",
        "pivotAggregation": null,
        "pivotColumns": null,
        "xColumns": null,
        "yColumns": null
       },
       "removedWidgets": [],
       "schema": [
        {
         "metadata": "{}",
         "name": "_c0",
         "type": "\"integer\""
        },
        {
         "metadata": "{}",
         "name": "customer_id",
         "type": "\"string\""
        },
        {
         "metadata": "{}",
         "name": "age",
         "type": "\"integer\""
        },
        {
         "metadata": "{}",
         "name": "gender",
         "type": "\"string\""
        },
        {
         "metadata": "{}",
         "name": "age_bracket",
         "type": "\"string\""
        }
       ],
       "type": "table"
      }
     },
     "output_type": "display_data"
    }
   ],
   "source": [
    "%sql\n",
    "select\n",
    "  *\n",
    "from\n",
    "  customer_info\n",
    "limit\n",
    "  5;"
   ]
  },
  {
   "cell_type": "code",
   "execution_count": 0,
   "metadata": {
    "application/vnd.databricks.v1+cell": {
     "cellMetadata": {
      "byteLimit": 2048000,
      "rowLimit": 10000
     },
     "inputWidgets": {},
     "nuid": "709a45e6-d136-4b2f-8da9-932a0d52e8f6",
     "showTitle": false,
     "title": ""
    }
   },
   "outputs": [
    {
     "output_type": "display_data",
     "data": {
      "text/html": [
       "<style scoped>\n",
       "  .table-result-container {\n",
       "    max-height: 300px;\n",
       "    overflow: auto;\n",
       "  }\n",
       "  table, th, td {\n",
       "    border: 1px solid black;\n",
       "    border-collapse: collapse;\n",
       "  }\n",
       "  th, td {\n",
       "    padding: 5px;\n",
       "  }\n",
       "  th {\n",
       "    text-align: left;\n",
       "  }\n",
       "</style><div class='table-result-container'><table class='table-result'><thead style='background-color: white'><tr><th>col_name</th><th>data_type</th><th>comment</th></tr></thead><tbody><tr><td>_c0</td><td>int</td><td>null</td></tr><tr><td>customer_id</td><td>string</td><td>null</td></tr><tr><td>age</td><td>int</td><td>null</td></tr><tr><td>gender</td><td>string</td><td>null</td></tr><tr><td>age_bracket</td><td>string</td><td>null</td></tr></tbody></table></div>"
      ]
     },
     "metadata": {
      "application/vnd.databricks.v1+output": {
       "addedWidgets": {},
       "aggData": [],
       "aggError": "",
       "aggOverflow": false,
       "aggSchema": [],
       "aggSeriesLimitReached": false,
       "aggType": "",
       "arguments": {},
       "columnCustomDisplayInfos": {},
       "data": [
        [
         "_c0",
         "int",
         null
        ],
        [
         "customer_id",
         "string",
         null
        ],
        [
         "age",
         "int",
         null
        ],
        [
         "gender",
         "string",
         null
        ],
        [
         "age_bracket",
         "string",
         null
        ]
       ],
       "datasetInfos": [],
       "dbfsResultPath": null,
       "isJsonSchema": true,
       "metadata": {
        "isDbfsCommandResult": false
       },
       "overflow": false,
       "plotOptions": {
        "customPlotOptions": {},
        "displayType": "table",
        "pivotAggregation": null,
        "pivotColumns": null,
        "xColumns": null,
        "yColumns": null
       },
       "removedWidgets": [],
       "schema": [
        {
         "metadata": "{\"comment\":\"name of the column\"}",
         "name": "col_name",
         "type": "\"string\""
        },
        {
         "metadata": "{\"comment\":\"data type of the column\"}",
         "name": "data_type",
         "type": "\"string\""
        },
        {
         "metadata": "{\"comment\":\"comment of the column\"}",
         "name": "comment",
         "type": "\"string\""
        }
       ],
       "type": "table"
      }
     },
     "output_type": "display_data"
    }
   ],
   "source": [
    "%sql\n",
    "describe table customer_info;"
   ]
  },
  {
   "cell_type": "code",
   "execution_count": 0,
   "metadata": {
    "application/vnd.databricks.v1+cell": {
     "cellMetadata": {
      "byteLimit": 2048000,
      "rowLimit": 10000
     },
     "inputWidgets": {},
     "nuid": "5882568f-d5c3-4cea-9e83-b8b18b82bf1f",
     "showTitle": false,
     "title": ""
    }
   },
   "outputs": [
    {
     "output_type": "display_data",
     "data": {
      "text/html": [
       "<style scoped>\n",
       "  .table-result-container {\n",
       "    max-height: 300px;\n",
       "    overflow: auto;\n",
       "  }\n",
       "  table, th, td {\n",
       "    border: 1px solid black;\n",
       "    border-collapse: collapse;\n",
       "  }\n",
       "  th, td {\n",
       "    padding: 5px;\n",
       "  }\n",
       "  th {\n",
       "    text-align: left;\n",
       "  }\n",
       "</style><div class='table-result-container'><table class='table-result'><thead style='background-color: white'><tr><th>gender</th></tr></thead><tbody><tr><td>female</td></tr><tr><td>male</td></tr></tbody></table></div>"
      ]
     },
     "metadata": {
      "application/vnd.databricks.v1+output": {
       "addedWidgets": {},
       "aggData": [],
       "aggError": "",
       "aggOverflow": false,
       "aggSchema": [],
       "aggSeriesLimitReached": false,
       "aggType": "",
       "arguments": {},
       "columnCustomDisplayInfos": {},
       "data": [
        [
         "female"
        ],
        [
         "male"
        ]
       ],
       "datasetInfos": [],
       "dbfsResultPath": null,
       "isJsonSchema": true,
       "metadata": {
        "isDbfsCommandResult": false
       },
       "overflow": false,
       "plotOptions": {
        "customPlotOptions": {},
        "displayType": "table",
        "pivotAggregation": null,
        "pivotColumns": null,
        "xColumns": null,
        "yColumns": null
       },
       "removedWidgets": [],
       "schema": [
        {
         "metadata": "{}",
         "name": "gender",
         "type": "\"string\""
        }
       ],
       "type": "table"
      }
     },
     "output_type": "display_data"
    }
   ],
   "source": [
    "%sql\n",
    "select distinct(gender)\n",
    "from customer_info;"
   ]
  },
  {
   "cell_type": "markdown",
   "metadata": {
    "application/vnd.databricks.v1+cell": {
     "cellMetadata": {
      "byteLimit": 2048000,
      "rowLimit": 10000
     },
     "inputWidgets": {},
     "nuid": "59b3ac0c-33cc-42b5-869a-f228bb06db20",
     "showTitle": false,
     "title": ""
    }
   },
   "source": [
    "####Customer Product"
   ]
  },
  {
   "cell_type": "code",
   "execution_count": 0,
   "metadata": {
    "application/vnd.databricks.v1+cell": {
     "cellMetadata": {
      "byteLimit": 2048000,
      "rowLimit": 10000
     },
     "inputWidgets": {},
     "nuid": "eceb73be-73cc-400d-bdf7-816c37361476",
     "showTitle": false,
     "title": ""
    }
   },
   "outputs": [
    {
     "output_type": "display_data",
     "data": {
      "text/html": [
       "<style scoped>\n",
       "  .table-result-container {\n",
       "    max-height: 300px;\n",
       "    overflow: auto;\n",
       "  }\n",
       "  table, th, td {\n",
       "    border: 1px solid black;\n",
       "    border-collapse: collapse;\n",
       "  }\n",
       "  th, td {\n",
       "    padding: 5px;\n",
       "  }\n",
       "  th {\n",
       "    text-align: left;\n",
       "  }\n",
       "</style><div class='table-result-container'><table class='table-result'><thead style='background-color: white'><tr><th>signup_id</th><th>customer_id</th><th>product</th><th>signup_date_time</th><th>cancel_date_time</th></tr></thead><tbody><tr><td>1</td><td>C2448</td><td>prd_1</td><td>2017-01-01T10:35:00.000+0000</td><td>null</td></tr><tr><td>2</td><td>C2449</td><td>prd_1</td><td>2017-01-01T11:39:00.000+0000</td><td>2021-09-05T10:00:00.000+0000</td></tr><tr><td>3</td><td>C2450</td><td>prd_1</td><td>2017-01-01T11:42:00.000+0000</td><td>2019-01-13T16:24:00.000+0000</td></tr><tr><td>4</td><td>C2451</td><td>prd_2</td><td>2017-01-01T13:32:00.000+0000</td><td>null</td></tr><tr><td>5</td><td>C2452</td><td>prd_1</td><td>2017-01-01T13:57:00.000+0000</td><td>2021-06-28T18:06:00.000+0000</td></tr></tbody></table></div>"
      ]
     },
     "metadata": {
      "application/vnd.databricks.v1+output": {
       "addedWidgets": {},
       "aggData": [],
       "aggError": "",
       "aggOverflow": false,
       "aggSchema": [],
       "aggSeriesLimitReached": false,
       "aggType": "",
       "arguments": {},
       "columnCustomDisplayInfos": {},
       "data": [
        [
         1,
         "C2448",
         "prd_1",
         "2017-01-01T10:35:00.000+0000",
         null
        ],
        [
         2,
         "C2449",
         "prd_1",
         "2017-01-01T11:39:00.000+0000",
         "2021-09-05T10:00:00.000+0000"
        ],
        [
         3,
         "C2450",
         "prd_1",
         "2017-01-01T11:42:00.000+0000",
         "2019-01-13T16:24:00.000+0000"
        ],
        [
         4,
         "C2451",
         "prd_2",
         "2017-01-01T13:32:00.000+0000",
         null
        ],
        [
         5,
         "C2452",
         "prd_1",
         "2017-01-01T13:57:00.000+0000",
         "2021-06-28T18:06:00.000+0000"
        ]
       ],
       "datasetInfos": [],
       "dbfsResultPath": null,
       "isJsonSchema": true,
       "metadata": {
        "isDbfsCommandResult": false
       },
       "overflow": false,
       "plotOptions": {
        "customPlotOptions": {},
        "displayType": "table",
        "pivotAggregation": null,
        "pivotColumns": null,
        "xColumns": null,
        "yColumns": null
       },
       "removedWidgets": [],
       "schema": [
        {
         "metadata": "{}",
         "name": "signup_id",
         "type": "\"integer\""
        },
        {
         "metadata": "{}",
         "name": "customer_id",
         "type": "\"string\""
        },
        {
         "metadata": "{}",
         "name": "product",
         "type": "\"string\""
        },
        {
         "metadata": "{}",
         "name": "signup_date_time",
         "type": "\"timestamp\""
        },
        {
         "metadata": "{}",
         "name": "cancel_date_time",
         "type": "\"timestamp\""
        }
       ],
       "type": "table"
      }
     },
     "output_type": "display_data"
    }
   ],
   "source": [
    "%sql\n",
    "select * from customer_product\n",
    "limit 5;"
   ]
  },
  {
   "cell_type": "code",
   "execution_count": 0,
   "metadata": {
    "application/vnd.databricks.v1+cell": {
     "cellMetadata": {
      "byteLimit": 2048000,
      "rowLimit": 10000
     },
     "inputWidgets": {},
     "nuid": "c89e031e-2229-4886-afef-ed27ba3393b0",
     "showTitle": false,
     "title": ""
    }
   },
   "outputs": [
    {
     "output_type": "display_data",
     "data": {
      "text/html": [
       "<style scoped>\n",
       "  .table-result-container {\n",
       "    max-height: 300px;\n",
       "    overflow: auto;\n",
       "  }\n",
       "  table, th, td {\n",
       "    border: 1px solid black;\n",
       "    border-collapse: collapse;\n",
       "  }\n",
       "  th, td {\n",
       "    padding: 5px;\n",
       "  }\n",
       "  th {\n",
       "    text-align: left;\n",
       "  }\n",
       "</style><div class='table-result-container'><table class='table-result'><thead style='background-color: white'><tr><th>col_name</th><th>data_type</th><th>comment</th></tr></thead><tbody><tr><td>signup_id</td><td>int</td><td>null</td></tr><tr><td>customer_id</td><td>string</td><td>null</td></tr><tr><td>product</td><td>string</td><td>null</td></tr><tr><td>signup_date_time</td><td>timestamp</td><td>null</td></tr><tr><td>cancel_date_time</td><td>timestamp</td><td>null</td></tr></tbody></table></div>"
      ]
     },
     "metadata": {
      "application/vnd.databricks.v1+output": {
       "addedWidgets": {},
       "aggData": [],
       "aggError": "",
       "aggOverflow": false,
       "aggSchema": [],
       "aggSeriesLimitReached": false,
       "aggType": "",
       "arguments": {},
       "columnCustomDisplayInfos": {},
       "data": [
        [
         "signup_id",
         "int",
         null
        ],
        [
         "customer_id",
         "string",
         null
        ],
        [
         "product",
         "string",
         null
        ],
        [
         "signup_date_time",
         "timestamp",
         null
        ],
        [
         "cancel_date_time",
         "timestamp",
         null
        ]
       ],
       "datasetInfos": [],
       "dbfsResultPath": null,
       "isJsonSchema": true,
       "metadata": {
        "isDbfsCommandResult": false
       },
       "overflow": false,
       "plotOptions": {
        "customPlotOptions": {},
        "displayType": "table",
        "pivotAggregation": null,
        "pivotColumns": null,
        "xColumns": null,
        "yColumns": null
       },
       "removedWidgets": [],
       "schema": [
        {
         "metadata": "{\"comment\":\"name of the column\"}",
         "name": "col_name",
         "type": "\"string\""
        },
        {
         "metadata": "{\"comment\":\"data type of the column\"}",
         "name": "data_type",
         "type": "\"string\""
        },
        {
         "metadata": "{\"comment\":\"comment of the column\"}",
         "name": "comment",
         "type": "\"string\""
        }
       ],
       "type": "table"
      }
     },
     "output_type": "display_data"
    }
   ],
   "source": [
    "%sql\n",
    "describe table customer_product;"
   ]
  },
  {
   "cell_type": "code",
   "execution_count": 0,
   "metadata": {
    "application/vnd.databricks.v1+cell": {
     "cellMetadata": {
      "byteLimit": 2048000,
      "rowLimit": 10000
     },
     "inputWidgets": {},
     "nuid": "d0546df3-af4b-4815-89e6-f81cdf677702",
     "showTitle": false,
     "title": ""
    }
   },
   "outputs": [
    {
     "output_type": "display_data",
     "data": {
      "text/html": [
       "<style scoped>\n",
       "  .table-result-container {\n",
       "    max-height: 300px;\n",
       "    overflow: auto;\n",
       "  }\n",
       "  table, th, td {\n",
       "    border: 1px solid black;\n",
       "    border-collapse: collapse;\n",
       "  }\n",
       "  th, td {\n",
       "    padding: 5px;\n",
       "  }\n",
       "  th {\n",
       "    text-align: left;\n",
       "  }\n",
       "</style><div class='table-result-container'><table class='table-result'><thead style='background-color: white'><tr><th>product</th></tr></thead><tbody><tr><td>prd_1</td></tr><tr><td>prd_2</td></tr></tbody></table></div>"
      ]
     },
     "metadata": {
      "application/vnd.databricks.v1+output": {
       "addedWidgets": {},
       "aggData": [],
       "aggError": "",
       "aggOverflow": false,
       "aggSchema": [],
       "aggSeriesLimitReached": false,
       "aggType": "",
       "arguments": {},
       "columnCustomDisplayInfos": {},
       "data": [
        [
         "prd_1"
        ],
        [
         "prd_2"
        ]
       ],
       "datasetInfos": [],
       "dbfsResultPath": null,
       "isJsonSchema": true,
       "metadata": {
        "isDbfsCommandResult": false
       },
       "overflow": false,
       "plotOptions": {
        "customPlotOptions": {},
        "displayType": "table",
        "pivotAggregation": null,
        "pivotColumns": null,
        "xColumns": null,
        "yColumns": null
       },
       "removedWidgets": [],
       "schema": [
        {
         "metadata": "{}",
         "name": "product",
         "type": "\"string\""
        }
       ],
       "type": "table"
      }
     },
     "output_type": "display_data"
    }
   ],
   "source": [
    "%sql\n",
    "select distinct(product) from customer_product;"
   ]
  },
  {
   "cell_type": "markdown",
   "metadata": {
    "application/vnd.databricks.v1+cell": {
     "cellMetadata": {
      "byteLimit": 2048000,
      "rowLimit": 10000
     },
     "inputWidgets": {},
     "nuid": "2cd37b90-2cad-4f50-a680-346acd4bc497",
     "showTitle": true,
     "title": ""
    }
   },
   "source": [
    "####Customer Cases"
   ]
  },
  {
   "cell_type": "code",
   "execution_count": 0,
   "metadata": {
    "application/vnd.databricks.v1+cell": {
     "cellMetadata": {
      "byteLimit": 2048000,
      "rowLimit": 10000
     },
     "inputWidgets": {},
     "nuid": "36a43b43-5232-4c28-9c9b-2c0f4c93a2fe",
     "showTitle": false,
     "title": ""
    }
   },
   "outputs": [
    {
     "output_type": "display_data",
     "data": {
      "text/html": [
       "<style scoped>\n",
       "  .table-result-container {\n",
       "    max-height: 300px;\n",
       "    overflow: auto;\n",
       "  }\n",
       "  table, th, td {\n",
       "    border: 1px solid black;\n",
       "    border-collapse: collapse;\n",
       "  }\n",
       "  th, td {\n",
       "    padding: 5px;\n",
       "  }\n",
       "  th {\n",
       "    text-align: left;\n",
       "  }\n",
       "</style><div class='table-result-container'><table class='table-result'><thead style='background-color: white'><tr><th>_c0</th><th>case_id</th><th>date_time</th><th>customer_id</th><th>channel</th><th>reason</th></tr></thead><tbody><tr><td>1</td><td>CC101</td><td>2017-01-01T10:32:03.000+0000</td><td>C2448</td><td>phone</td><td>signup</td></tr><tr><td>2</td><td>CC102</td><td>2017-01-01T11:35:47.000+0000</td><td>C2449</td><td>phone</td><td>signup</td></tr><tr><td>3</td><td>CC103</td><td>2017-01-01T11:37:09.000+0000</td><td>C2450</td><td>phone</td><td>signup</td></tr><tr><td>4</td><td>CC104</td><td>2017-01-01T13:28:14.000+0000</td><td>C2451</td><td>phone</td><td>signup</td></tr><tr><td>5</td><td>CC105</td><td>2017-01-01T13:52:22.000+0000</td><td>C2452</td><td>phone</td><td>signup</td></tr></tbody></table></div>"
      ]
     },
     "metadata": {
      "application/vnd.databricks.v1+output": {
       "addedWidgets": {},
       "aggData": [],
       "aggError": "",
       "aggOverflow": false,
       "aggSchema": [],
       "aggSeriesLimitReached": false,
       "aggType": "",
       "arguments": {},
       "columnCustomDisplayInfos": {},
       "data": [
        [
         1,
         "CC101",
         "2017-01-01T10:32:03.000+0000",
         "C2448",
         "phone",
         "signup"
        ],
        [
         2,
         "CC102",
         "2017-01-01T11:35:47.000+0000",
         "C2449",
         "phone",
         "signup"
        ],
        [
         3,
         "CC103",
         "2017-01-01T11:37:09.000+0000",
         "C2450",
         "phone",
         "signup"
        ],
        [
         4,
         "CC104",
         "2017-01-01T13:28:14.000+0000",
         "C2451",
         "phone",
         "signup"
        ],
        [
         5,
         "CC105",
         "2017-01-01T13:52:22.000+0000",
         "C2452",
         "phone",
         "signup"
        ]
       ],
       "datasetInfos": [],
       "dbfsResultPath": null,
       "isJsonSchema": true,
       "metadata": {
        "isDbfsCommandResult": false
       },
       "overflow": false,
       "plotOptions": {
        "customPlotOptions": {},
        "displayType": "table",
        "pivotAggregation": null,
        "pivotColumns": null,
        "xColumns": null,
        "yColumns": null
       },
       "removedWidgets": [],
       "schema": [
        {
         "metadata": "{}",
         "name": "_c0",
         "type": "\"integer\""
        },
        {
         "metadata": "{}",
         "name": "case_id",
         "type": "\"string\""
        },
        {
         "metadata": "{}",
         "name": "date_time",
         "type": "\"timestamp\""
        },
        {
         "metadata": "{}",
         "name": "customer_id",
         "type": "\"string\""
        },
        {
         "metadata": "{}",
         "name": "channel",
         "type": "\"string\""
        },
        {
         "metadata": "{}",
         "name": "reason",
         "type": "\"string\""
        }
       ],
       "type": "table"
      }
     },
     "output_type": "display_data"
    }
   ],
   "source": [
    "%sql\n",
    "select * from customer_cases\n",
    "limit 5;"
   ]
  },
  {
   "cell_type": "code",
   "execution_count": 0,
   "metadata": {
    "application/vnd.databricks.v1+cell": {
     "cellMetadata": {
      "byteLimit": 2048000,
      "rowLimit": 10000
     },
     "inputWidgets": {},
     "nuid": "31ca7f80-30f6-4e9d-a1fb-ce1664283b62",
     "showTitle": false,
     "title": ""
    }
   },
   "outputs": [
    {
     "output_type": "display_data",
     "data": {
      "text/html": [
       "<style scoped>\n",
       "  .table-result-container {\n",
       "    max-height: 300px;\n",
       "    overflow: auto;\n",
       "  }\n",
       "  table, th, td {\n",
       "    border: 1px solid black;\n",
       "    border-collapse: collapse;\n",
       "  }\n",
       "  th, td {\n",
       "    padding: 5px;\n",
       "  }\n",
       "  th {\n",
       "    text-align: left;\n",
       "  }\n",
       "</style><div class='table-result-container'><table class='table-result'><thead style='background-color: white'><tr><th>col_name</th><th>data_type</th><th>comment</th></tr></thead><tbody><tr><td>_c0</td><td>int</td><td>null</td></tr><tr><td>case_id</td><td>string</td><td>null</td></tr><tr><td>date_time</td><td>timestamp</td><td>null</td></tr><tr><td>customer_id</td><td>string</td><td>null</td></tr><tr><td>channel</td><td>string</td><td>null</td></tr><tr><td>reason</td><td>string</td><td>null</td></tr></tbody></table></div>"
      ]
     },
     "metadata": {
      "application/vnd.databricks.v1+output": {
       "addedWidgets": {},
       "aggData": [],
       "aggError": "",
       "aggOverflow": false,
       "aggSchema": [],
       "aggSeriesLimitReached": false,
       "aggType": "",
       "arguments": {},
       "columnCustomDisplayInfos": {},
       "data": [
        [
         "_c0",
         "int",
         null
        ],
        [
         "case_id",
         "string",
         null
        ],
        [
         "date_time",
         "timestamp",
         null
        ],
        [
         "customer_id",
         "string",
         null
        ],
        [
         "channel",
         "string",
         null
        ],
        [
         "reason",
         "string",
         null
        ]
       ],
       "datasetInfos": [],
       "dbfsResultPath": null,
       "isJsonSchema": true,
       "metadata": {
        "isDbfsCommandResult": false
       },
       "overflow": false,
       "plotOptions": {
        "customPlotOptions": {},
        "displayType": "table",
        "pivotAggregation": null,
        "pivotColumns": null,
        "xColumns": null,
        "yColumns": null
       },
       "removedWidgets": [],
       "schema": [
        {
         "metadata": "{\"comment\":\"name of the column\"}",
         "name": "col_name",
         "type": "\"string\""
        },
        {
         "metadata": "{\"comment\":\"data type of the column\"}",
         "name": "data_type",
         "type": "\"string\""
        },
        {
         "metadata": "{\"comment\":\"comment of the column\"}",
         "name": "comment",
         "type": "\"string\""
        }
       ],
       "type": "table"
      }
     },
     "output_type": "display_data"
    }
   ],
   "source": [
    "%sql\n",
    "describe table customer_cases;"
   ]
  },
  {
   "cell_type": "code",
   "execution_count": 0,
   "metadata": {
    "application/vnd.databricks.v1+cell": {
     "cellMetadata": {
      "byteLimit": 2048000,
      "rowLimit": 10000
     },
     "inputWidgets": {},
     "nuid": "2cc5d1ea-bd7f-41ea-9b8c-363c52b7b520",
     "showTitle": false,
     "title": ""
    }
   },
   "outputs": [
    {
     "output_type": "display_data",
     "data": {
      "text/html": [
       "<style scoped>\n",
       "  .table-result-container {\n",
       "    max-height: 300px;\n",
       "    overflow: auto;\n",
       "  }\n",
       "  table, th, td {\n",
       "    border: 1px solid black;\n",
       "    border-collapse: collapse;\n",
       "  }\n",
       "  th, td {\n",
       "    padding: 5px;\n",
       "  }\n",
       "  th {\n",
       "    text-align: left;\n",
       "  }\n",
       "</style><div class='table-result-container'><table class='table-result'><thead style='background-color: white'><tr><th>channel</th></tr></thead><tbody><tr><td>phone</td></tr><tr><td>email</td></tr></tbody></table></div>"
      ]
     },
     "metadata": {
      "application/vnd.databricks.v1+output": {
       "addedWidgets": {},
       "aggData": [],
       "aggError": "",
       "aggOverflow": false,
       "aggSchema": [],
       "aggSeriesLimitReached": false,
       "aggType": "",
       "arguments": {},
       "columnCustomDisplayInfos": {},
       "data": [
        [
         "phone"
        ],
        [
         "email"
        ]
       ],
       "datasetInfos": [],
       "dbfsResultPath": null,
       "isJsonSchema": true,
       "metadata": {
        "isDbfsCommandResult": false
       },
       "overflow": false,
       "plotOptions": {
        "customPlotOptions": {},
        "displayType": "table",
        "pivotAggregation": null,
        "pivotColumns": null,
        "xColumns": null,
        "yColumns": null
       },
       "removedWidgets": [],
       "schema": [
        {
         "metadata": "{}",
         "name": "channel",
         "type": "\"string\""
        }
       ],
       "type": "table"
      }
     },
     "output_type": "display_data"
    }
   ],
   "source": [
    "%sql\n",
    "select distinct(channel) from customer_cases;"
   ]
  },
  {
   "cell_type": "code",
   "execution_count": 0,
   "metadata": {
    "application/vnd.databricks.v1+cell": {
     "cellMetadata": {
      "byteLimit": 2048000,
      "rowLimit": 10000
     },
     "inputWidgets": {},
     "nuid": "a1ffd7bc-1eaa-4a40-a9eb-91ab058e942a",
     "showTitle": false,
     "title": ""
    }
   },
   "outputs": [
    {
     "output_type": "display_data",
     "data": {
      "text/html": [
       "<style scoped>\n",
       "  .table-result-container {\n",
       "    max-height: 300px;\n",
       "    overflow: auto;\n",
       "  }\n",
       "  table, th, td {\n",
       "    border: 1px solid black;\n",
       "    border-collapse: collapse;\n",
       "  }\n",
       "  th, td {\n",
       "    padding: 5px;\n",
       "  }\n",
       "  th {\n",
       "    text-align: left;\n",
       "  }\n",
       "</style><div class='table-result-container'><table class='table-result'><thead style='background-color: white'><tr><th>reason</th></tr></thead><tbody><tr><td>signup</td></tr><tr><td>support</td></tr></tbody></table></div>"
      ]
     },
     "metadata": {
      "application/vnd.databricks.v1+output": {
       "addedWidgets": {},
       "aggData": [],
       "aggError": "",
       "aggOverflow": false,
       "aggSchema": [],
       "aggSeriesLimitReached": false,
       "aggType": "",
       "arguments": {},
       "columnCustomDisplayInfos": {},
       "data": [
        [
         "signup"
        ],
        [
         "support"
        ]
       ],
       "datasetInfos": [],
       "dbfsResultPath": null,
       "isJsonSchema": true,
       "metadata": {
        "isDbfsCommandResult": false
       },
       "overflow": false,
       "plotOptions": {
        "customPlotOptions": {},
        "displayType": "table",
        "pivotAggregation": null,
        "pivotColumns": null,
        "xColumns": null,
        "yColumns": null
       },
       "removedWidgets": [],
       "schema": [
        {
         "metadata": "{}",
         "name": "reason",
         "type": "\"string\""
        }
       ],
       "type": "table"
      }
     },
     "output_type": "display_data"
    }
   ],
   "source": [
    "%sql\n",
    "select distinct(reason) from customer_cases;"
   ]
  },
  {
   "cell_type": "markdown",
   "metadata": {
    "application/vnd.databricks.v1+cell": {
     "cellMetadata": {
      "byteLimit": 2048000,
      "rowLimit": 10000
     },
     "inputWidgets": {},
     "nuid": "ac59cdab-c7a8-4e0d-ba51-11c2e7c6c924",
     "showTitle": false,
     "title": ""
    }
   },
   "source": [
    "### Exploratory Data Analysis"
   ]
  },
  {
   "cell_type": "code",
   "execution_count": 0,
   "metadata": {
    "application/vnd.databricks.v1+cell": {
     "cellMetadata": {
      "byteLimit": 2048000,
      "rowLimit": 10000
     },
     "inputWidgets": {},
     "nuid": "6869fe4c-ee56-4219-8f55-719c2aa83663",
     "showTitle": false,
     "title": ""
    }
   },
   "outputs": [
    {
     "output_type": "display_data",
     "data": {
      "text/html": [
       "<style scoped>\n",
       "  .table-result-container {\n",
       "    max-height: 300px;\n",
       "    overflow: auto;\n",
       "  }\n",
       "  table, th, td {\n",
       "    border: 1px solid black;\n",
       "    border-collapse: collapse;\n",
       "  }\n",
       "  th, td {\n",
       "    padding: 5px;\n",
       "  }\n",
       "  th {\n",
       "    text-align: left;\n",
       "  }\n",
       "</style><div class='table-result-container'><table class='table-result'><thead style='background-color: white'><tr><th>Product_Name</th><th>count</th><th>percentage</th></tr></thead><tbody><tr><td>annual_subscription</td><td>325649</td><td>0.64</td></tr><tr><td>monthly_subscription</td><td>183283</td><td>0.36</td></tr></tbody></table></div>"
      ]
     },
     "metadata": {
      "application/vnd.databricks.v1+output": {
       "addedWidgets": {},
       "aggData": [],
       "aggError": "",
       "aggOverflow": false,
       "aggSchema": [],
       "aggSeriesLimitReached": false,
       "aggType": "",
       "arguments": {},
       "columnCustomDisplayInfos": {},
       "data": [
        [
         "annual_subscription",
         325649,
         0.64
        ],
        [
         "monthly_subscription",
         183283,
         0.36
        ]
       ],
       "datasetInfos": [],
       "dbfsResultPath": null,
       "isJsonSchema": true,
       "metadata": {
        "isDbfsCommandResult": false
       },
       "overflow": false,
       "plotOptions": {
        "customPlotOptions": {},
        "displayType": "table",
        "pivotAggregation": null,
        "pivotColumns": null,
        "xColumns": null,
        "yColumns": null
       },
       "removedWidgets": [],
       "schema": [
        {
         "metadata": "{}",
         "name": "Product_Name",
         "type": "\"string\""
        },
        {
         "metadata": "{}",
         "name": "count",
         "type": "\"long\""
        },
        {
         "metadata": "{}",
         "name": "percentage",
         "type": "\"double\""
        }
       ],
       "type": "table"
      }
     },
     "output_type": "display_data"
    }
   ],
   "source": [
    "%sql\n",
    "-- Product distribution subscribers\n",
    "select\n",
    "  name as Product_Name,\n",
    "  count(*) as count,\n",
    "  round(count(*) / sum(count(signup_id))over(), 2) as percentage\n",
    "from\n",
    "  customer_product\n",
    "  left join product_info on customer_product.product = product_info.product_id\n",
    "group by\n",
    "  name;"
   ]
  },
  {
   "cell_type": "markdown",
   "metadata": {
    "application/vnd.databricks.v1+cell": {
     "cellMetadata": {
      "byteLimit": 2048000,
      "rowLimit": 10000
     },
     "inputWidgets": {},
     "nuid": "2b0b66c6-8dba-432d-ab21-b21a055f0c6f",
     "showTitle": false,
     "title": ""
    }
   },
   "source": [
    "Around 65% customers took annual subscription and 35% took monthly"
   ]
  },
  {
   "cell_type": "code",
   "execution_count": 0,
   "metadata": {
    "application/vnd.databricks.v1+cell": {
     "cellMetadata": {
      "byteLimit": 2048000,
      "rowLimit": 10000
     },
     "inputWidgets": {},
     "nuid": "6a48fa68-155b-45f8-bc8c-3c152cb8b883",
     "showTitle": false,
     "title": ""
    }
   },
   "outputs": [
    {
     "output_type": "display_data",
     "data": {
      "text/html": [
       "<style scoped>\n",
       "  .table-result-container {\n",
       "    max-height: 300px;\n",
       "    overflow: auto;\n",
       "  }\n",
       "  table, th, td {\n",
       "    border: 1px solid black;\n",
       "    border-collapse: collapse;\n",
       "  }\n",
       "  th, td {\n",
       "    padding: 5px;\n",
       "  }\n",
       "  th {\n",
       "    text-align: left;\n",
       "  }\n",
       "</style><div class='table-result-container'><table class='table-result'><thead style='background-color: white'><tr><th>gender</th><th>count</th><th>percentage</th></tr></thead><tbody><tr><td>female</td><td>199002</td><td>0.39</td></tr><tr><td>male</td><td>309930</td><td>0.61</td></tr></tbody></table></div>"
      ]
     },
     "metadata": {
      "application/vnd.databricks.v1+output": {
       "addedWidgets": {},
       "aggData": [],
       "aggError": "",
       "aggOverflow": false,
       "aggSchema": [],
       "aggSeriesLimitReached": false,
       "aggType": "",
       "arguments": {},
       "columnCustomDisplayInfos": {},
       "data": [
        [
         "female",
         199002,
         0.39
        ],
        [
         "male",
         309930,
         0.61
        ]
       ],
       "datasetInfos": [],
       "dbfsResultPath": null,
       "isJsonSchema": true,
       "metadata": {
        "isDbfsCommandResult": false
       },
       "overflow": false,
       "plotOptions": {
        "customPlotOptions": {},
        "displayType": "table",
        "pivotAggregation": null,
        "pivotColumns": null,
        "xColumns": null,
        "yColumns": null
       },
       "removedWidgets": [],
       "schema": [
        {
         "metadata": "{}",
         "name": "gender",
         "type": "\"string\""
        },
        {
         "metadata": "{}",
         "name": "count",
         "type": "\"long\""
        },
        {
         "metadata": "{}",
         "name": "percentage",
         "type": "\"double\""
        }
       ],
       "type": "table"
      }
     },
     "output_type": "display_data"
    }
   ],
   "source": [
    "%sql\n",
    "-- Gender distribution of subscribers\n",
    "select\n",
    "  gender,\n",
    "  count(*) as count,\n",
    "  round(count(*) / sum(count(signup_id))over(), 2) as percentage\n",
    "from\n",
    "  customer_product\n",
    "  left join customer_info on customer_product.customer_id = customer_info.customer_id\n",
    "group by\n",
    "  gender;"
   ]
  },
  {
   "cell_type": "markdown",
   "metadata": {
    "application/vnd.databricks.v1+cell": {
     "cellMetadata": {
      "byteLimit": 2048000,
      "rowLimit": 10000
     },
     "inputWidgets": {},
     "nuid": "dce75c68-e33b-4727-be26-0ee0fde93fe5",
     "showTitle": false,
     "title": ""
    }
   },
   "source": [
    "39% are female customers and 61% are male"
   ]
  },
  {
   "cell_type": "code",
   "execution_count": 0,
   "metadata": {
    "application/vnd.databricks.v1+cell": {
     "cellMetadata": {
      "byteLimit": 2048000,
      "rowLimit": 10000
     },
     "inputWidgets": {},
     "nuid": "23201936-8b3c-44dd-be37-4ab99dc3e5cc",
     "showTitle": false,
     "title": ""
    }
   },
   "outputs": [
    {
     "output_type": "display_data",
     "data": {
      "text/html": [
       "<style scoped>\n",
       "  .table-result-container {\n",
       "    max-height: 300px;\n",
       "    overflow: auto;\n",
       "  }\n",
       "  table, th, td {\n",
       "    border: 1px solid black;\n",
       "    border-collapse: collapse;\n",
       "  }\n",
       "  th, td {\n",
       "    padding: 5px;\n",
       "  }\n",
       "  th {\n",
       "    text-align: left;\n",
       "  }\n",
       "</style><div class='table-result-container'><table class='table-result'><thead style='background-color: white'><tr><th>gender</th><th>annual</th><th>monthly</th></tr></thead><tbody><tr><td>female</td><td>126420</td><td>72582</td></tr><tr><td>male</td><td>199229</td><td>110701</td></tr></tbody></table></div>"
      ]
     },
     "metadata": {
      "application/vnd.databricks.v1+output": {
       "addedWidgets": {},
       "aggData": [],
       "aggError": "",
       "aggOverflow": false,
       "aggSchema": [],
       "aggSeriesLimitReached": false,
       "aggType": "",
       "arguments": {},
       "columnCustomDisplayInfos": {},
       "data": [
        [
         "female",
         126420,
         72582
        ],
        [
         "male",
         199229,
         110701
        ]
       ],
       "datasetInfos": [],
       "dbfsResultPath": null,
       "isJsonSchema": true,
       "metadata": {
        "isDbfsCommandResult": false
       },
       "overflow": false,
       "plotOptions": {
        "customPlotOptions": {},
        "displayType": "table",
        "pivotAggregation": null,
        "pivotColumns": null,
        "xColumns": null,
        "yColumns": null
       },
       "removedWidgets": [],
       "schema": [
        {
         "metadata": "{}",
         "name": "gender",
         "type": "\"string\""
        },
        {
         "metadata": "{}",
         "name": "annual",
         "type": "\"long\""
        },
        {
         "metadata": "{}",
         "name": "monthly",
         "type": "\"long\""
        }
       ],
       "type": "table"
      }
     },
     "output_type": "display_data"
    }
   ],
   "source": [
    "%sql\n",
    "-- gender and product distribution\n",
    "select\n",
    "  gender,\n",
    "  annual,\n",
    "  monthly\n",
    "from\n",
    "  (\n",
    "    SELECT\n",
    "      customer_info.gender,\n",
    "      customer_product.product\n",
    "    from\n",
    "      customer_product\n",
    "      left join customer_info on customer_product.customer_id = customer_info.customer_id\n",
    "  ) as cp pivot (\n",
    "    count(*) as customers for product in ('prd_1' as annual, 'prd_2' as monthly)\n",
    "  )\n"
   ]
  },
  {
   "cell_type": "code",
   "execution_count": 0,
   "metadata": {
    "application/vnd.databricks.v1+cell": {
     "cellMetadata": {
      "byteLimit": 2048000,
      "rowLimit": 10000
     },
     "inputWidgets": {},
     "nuid": "1fb67d87-a366-4b52-828c-e6f45ffd3fab",
     "showTitle": false,
     "title": ""
    }
   },
   "outputs": [
    {
     "output_type": "display_data",
     "data": {
      "text/html": [
       "<style scoped>\n",
       "  .table-result-container {\n",
       "    max-height: 300px;\n",
       "    overflow: auto;\n",
       "  }\n",
       "  table, th, td {\n",
       "    border: 1px solid black;\n",
       "    border-collapse: collapse;\n",
       "  }\n",
       "  th, td {\n",
       "    padding: 5px;\n",
       "  }\n",
       "  th {\n",
       "    text-align: left;\n",
       "  }\n",
       "</style><div class='table-result-container'><table class='table-result'><thead style='background-color: white'><tr><th>max_age</th><th>min_age</th><th>avg_age</th></tr></thead><tbody><tr><td>78</td><td>21</td><td>58.0</td></tr></tbody></table></div>"
      ]
     },
     "metadata": {
      "application/vnd.databricks.v1+output": {
       "addedWidgets": {},
       "aggData": [],
       "aggError": "",
       "aggOverflow": false,
       "aggSchema": [],
       "aggSeriesLimitReached": false,
       "aggType": "",
       "arguments": {},
       "columnCustomDisplayInfos": {},
       "data": [
        [
         78,
         21,
         58.0
        ]
       ],
       "datasetInfos": [],
       "dbfsResultPath": null,
       "isJsonSchema": true,
       "metadata": {
        "isDbfsCommandResult": false
       },
       "overflow": false,
       "plotOptions": {
        "customPlotOptions": {},
        "displayType": "table",
        "pivotAggregation": null,
        "pivotColumns": null,
        "xColumns": null,
        "yColumns": null
       },
       "removedWidgets": [],
       "schema": [
        {
         "metadata": "{}",
         "name": "max_age",
         "type": "\"integer\""
        },
        {
         "metadata": "{}",
         "name": "min_age",
         "type": "\"integer\""
        },
        {
         "metadata": "{}",
         "name": "avg_age",
         "type": "\"double\""
        }
       ],
       "type": "table"
      }
     },
     "output_type": "display_data"
    }
   ],
   "source": [
    "%sql\n",
    "select max(age) max_age, min(age) min_age, round(avg(age),0) avg_age\n",
    "from customer_info;"
   ]
  },
  {
   "cell_type": "code",
   "execution_count": 0,
   "metadata": {
    "application/vnd.databricks.v1+cell": {
     "cellMetadata": {
      "byteLimit": 2048000,
      "rowLimit": 10000
     },
     "inputWidgets": {},
     "nuid": "17fce466-f6db-49b2-b79c-6a48d4cd5cfc",
     "showTitle": false,
     "title": ""
    }
   },
   "outputs": [
    {
     "output_type": "display_data",
     "data": {
      "text/html": [
       "<style scoped>\n",
       "  .table-result-container {\n",
       "    max-height: 300px;\n",
       "    overflow: auto;\n",
       "  }\n",
       "  table, th, td {\n",
       "    border: 1px solid black;\n",
       "    border-collapse: collapse;\n",
       "  }\n",
       "  th, td {\n",
       "    padding: 5px;\n",
       "  }\n",
       "  th {\n",
       "    text-align: left;\n",
       "  }\n",
       "</style><div class='table-result-container'><table class='table-result'><thead style='background-color: white'><tr><th>age_bracket</th><th>count</th><th>percentage</th></tr></thead><tbody><tr><td>20-29</td><td>1001</td><td>0.0</td></tr><tr><td>30-39</td><td>9138</td><td>0.02</td></tr><tr><td>40-49</td><td>60209</td><td>0.12</td></tr><tr><td>50-59</td><td>195379</td><td>0.38</td></tr><tr><td>60-69</td><td>202512</td><td>0.4</td></tr><tr><td>70-79</td><td>40693</td><td>0.08</td></tr></tbody></table></div>"
      ]
     },
     "metadata": {
      "application/vnd.databricks.v1+output": {
       "addedWidgets": {},
       "aggData": [],
       "aggError": "",
       "aggOverflow": false,
       "aggSchema": [],
       "aggSeriesLimitReached": false,
       "aggType": "",
       "arguments": {},
       "columnCustomDisplayInfos": {},
       "data": [
        [
         "20-29",
         1001,
         0.0
        ],
        [
         "30-39",
         9138,
         0.02
        ],
        [
         "40-49",
         60209,
         0.12
        ],
        [
         "50-59",
         195379,
         0.38
        ],
        [
         "60-69",
         202512,
         0.4
        ],
        [
         "70-79",
         40693,
         0.08
        ]
       ],
       "datasetInfos": [],
       "dbfsResultPath": null,
       "isJsonSchema": true,
       "metadata": {
        "isDbfsCommandResult": false
       },
       "overflow": false,
       "plotOptions": {
        "customPlotOptions": {},
        "displayType": "table",
        "pivotAggregation": null,
        "pivotColumns": null,
        "xColumns": null,
        "yColumns": null
       },
       "removedWidgets": [],
       "schema": [
        {
         "metadata": "{}",
         "name": "age_bracket",
         "type": "\"string\""
        },
        {
         "metadata": "{}",
         "name": "count",
         "type": "\"long\""
        },
        {
         "metadata": "{}",
         "name": "percentage",
         "type": "\"double\""
        }
       ],
       "type": "table"
      }
     },
     "output_type": "display_data"
    }
   ],
   "source": [
    "%sql\n",
    "select age_bracket, count(*) as count, round(count(*) / sum(count(customer_id))over(), 2) as percentage\n",
    "from customer_info\n",
    "group by age_bracket\n",
    "order by age_bracket;"
   ]
  },
  {
   "cell_type": "markdown",
   "metadata": {
    "application/vnd.databricks.v1+cell": {
     "cellMetadata": {
      "byteLimit": 2048000,
      "rowLimit": 10000
     },
     "inputWidgets": {},
     "nuid": "4f41f4e9-f980-4127-a79d-eb4374da94ef",
     "showTitle": false,
     "title": ""
    }
   },
   "source": [
    "80% Customers are from age 50-70"
   ]
  },
  {
   "cell_type": "code",
   "execution_count": 0,
   "metadata": {
    "application/vnd.databricks.v1+cell": {
     "cellMetadata": {
      "byteLimit": 2048000,
      "rowLimit": 10000
     },
     "inputWidgets": {},
     "nuid": "204c2e01-a105-4fc8-a841-591192f0c5d3",
     "showTitle": false,
     "title": ""
    }
   },
   "outputs": [
    {
     "output_type": "display_data",
     "data": {
      "text/html": [
       "<style scoped>\n",
       "  .table-result-container {\n",
       "    max-height: 300px;\n",
       "    overflow: auto;\n",
       "  }\n",
       "  table, th, td {\n",
       "    border: 1px solid black;\n",
       "    border-collapse: collapse;\n",
       "  }\n",
       "  th, td {\n",
       "    padding: 5px;\n",
       "  }\n",
       "  th {\n",
       "    text-align: left;\n",
       "  }\n",
       "</style><div class='table-result-container'><table class='table-result'><thead style='background-color: white'><tr><th>channel</th><th>count</th><th>percentage</th></tr></thead><tbody><tr><td>phone</td><td>286840</td><td>0.87</td></tr><tr><td>email</td><td>43672</td><td>0.13</td></tr></tbody></table></div>"
      ]
     },
     "metadata": {
      "application/vnd.databricks.v1+output": {
       "addedWidgets": {},
       "aggData": [],
       "aggError": "",
       "aggOverflow": false,
       "aggSchema": [],
       "aggSeriesLimitReached": false,
       "aggType": "",
       "arguments": {},
       "columnCustomDisplayInfos": {},
       "data": [
        [
         "phone",
         286840,
         0.87
        ],
        [
         "email",
         43672,
         0.13
        ]
       ],
       "datasetInfos": [],
       "dbfsResultPath": null,
       "isJsonSchema": true,
       "metadata": {
        "isDbfsCommandResult": false
       },
       "overflow": false,
       "plotOptions": {
        "customPlotOptions": {},
        "displayType": "table",
        "pivotAggregation": null,
        "pivotColumns": null,
        "xColumns": null,
        "yColumns": null
       },
       "removedWidgets": [],
       "schema": [
        {
         "metadata": "{}",
         "name": "channel",
         "type": "\"string\""
        },
        {
         "metadata": "{}",
         "name": "count",
         "type": "\"long\""
        },
        {
         "metadata": "{}",
         "name": "percentage",
         "type": "\"double\""
        }
       ],
       "type": "table"
      }
     },
     "output_type": "display_data"
    }
   ],
   "source": [
    "%sql\n",
    "select channel, count(*) as count,  round(count(*) / sum(count(case_id))over(), 2) as percentage\n",
    "from customer_cases\n",
    "group by channel;"
   ]
  },
  {
   "cell_type": "code",
   "execution_count": 0,
   "metadata": {
    "application/vnd.databricks.v1+cell": {
     "cellMetadata": {
      "byteLimit": 2048000,
      "rowLimit": 10000
     },
     "inputWidgets": {},
     "nuid": "3a8d10a0-9b69-4752-8346-3b28cad34d7c",
     "showTitle": false,
     "title": ""
    }
   },
   "outputs": [
    {
     "output_type": "display_data",
     "data": {
      "text/html": [
       "<style scoped>\n",
       "  .table-result-container {\n",
       "    max-height: 300px;\n",
       "    overflow: auto;\n",
       "  }\n",
       "  table, th, td {\n",
       "    border: 1px solid black;\n",
       "    border-collapse: collapse;\n",
       "  }\n",
       "  th, td {\n",
       "    padding: 5px;\n",
       "  }\n",
       "  th {\n",
       "    text-align: left;\n",
       "  }\n",
       "</style><div class='table-result-container'><table class='table-result'><thead style='background-color: white'><tr><th>reason</th><th>count</th><th>percentage</th></tr></thead><tbody><tr><td>signup</td><td>129527</td><td>0.39</td></tr><tr><td>support</td><td>200985</td><td>0.61</td></tr></tbody></table></div>"
      ]
     },
     "metadata": {
      "application/vnd.databricks.v1+output": {
       "addedWidgets": {},
       "aggData": [],
       "aggError": "",
       "aggOverflow": false,
       "aggSchema": [],
       "aggSeriesLimitReached": false,
       "aggType": "",
       "arguments": {},
       "columnCustomDisplayInfos": {},
       "data": [
        [
         "signup",
         129527,
         0.39
        ],
        [
         "support",
         200985,
         0.61
        ]
       ],
       "datasetInfos": [],
       "dbfsResultPath": null,
       "isJsonSchema": true,
       "metadata": {
        "isDbfsCommandResult": false
       },
       "overflow": false,
       "plotOptions": {
        "customPlotOptions": {},
        "displayType": "table",
        "pivotAggregation": null,
        "pivotColumns": null,
        "xColumns": null,
        "yColumns": null
       },
       "removedWidgets": [],
       "schema": [
        {
         "metadata": "{}",
         "name": "reason",
         "type": "\"string\""
        },
        {
         "metadata": "{}",
         "name": "count",
         "type": "\"long\""
        },
        {
         "metadata": "{}",
         "name": "percentage",
         "type": "\"double\""
        }
       ],
       "type": "table"
      }
     },
     "output_type": "display_data"
    }
   ],
   "source": [
    "%sql\n",
    "select reason, count(*) as count, round(count(*) / sum(count(case_id))over(), 2) as percentage\n",
    "from customer_cases\n",
    "group by reason;"
   ]
  },
  {
   "cell_type": "code",
   "execution_count": 0,
   "metadata": {
    "application/vnd.databricks.v1+cell": {
     "cellMetadata": {
      "byteLimit": 2048000,
      "rowLimit": 10000
     },
     "inputWidgets": {},
     "nuid": "558cb8c1-1884-4229-b18c-8410c9d04577",
     "showTitle": false,
     "title": ""
    }
   },
   "outputs": [
    {
     "output_type": "display_data",
     "data": {
      "text/html": [
       "<style scoped>\n",
       "  .table-result-container {\n",
       "    max-height: 300px;\n",
       "    overflow: auto;\n",
       "  }\n",
       "  table, th, td {\n",
       "    border: 1px solid black;\n",
       "    border-collapse: collapse;\n",
       "  }\n",
       "  th, td {\n",
       "    padding: 5px;\n",
       "  }\n",
       "  th {\n",
       "    text-align: left;\n",
       "  }\n",
       "</style><div class='table-result-container'><table class='table-result'><thead style='background-color: white'><tr><th>age_bracket</th><th>phone</th><th>email</th></tr></thead><tbody><tr><td>20-29</td><td>1279</td><td>97</td></tr><tr><td>30-39</td><td>9953</td><td>782</td></tr><tr><td>40-49</td><td>43323</td><td>5218</td></tr><tr><td>50-59</td><td>102150</td><td>16657</td></tr><tr><td>60-69</td><td>100357</td><td>17435</td></tr><tr><td>70-79</td><td>29778</td><td>3483</td></tr></tbody></table></div>"
      ]
     },
     "metadata": {
      "application/vnd.databricks.v1+output": {
       "addedWidgets": {},
       "aggData": [],
       "aggError": "",
       "aggOverflow": false,
       "aggSchema": [],
       "aggSeriesLimitReached": false,
       "aggType": "",
       "arguments": {},
       "columnCustomDisplayInfos": {},
       "data": [
        [
         "20-29",
         1279,
         97
        ],
        [
         "30-39",
         9953,
         782
        ],
        [
         "40-49",
         43323,
         5218
        ],
        [
         "50-59",
         102150,
         16657
        ],
        [
         "60-69",
         100357,
         17435
        ],
        [
         "70-79",
         29778,
         3483
        ]
       ],
       "datasetInfos": [],
       "dbfsResultPath": null,
       "isJsonSchema": true,
       "metadata": {
        "isDbfsCommandResult": false
       },
       "overflow": false,
       "plotOptions": {
        "customPlotOptions": {},
        "displayType": "table",
        "pivotAggregation": null,
        "pivotColumns": null,
        "xColumns": null,
        "yColumns": null
       },
       "removedWidgets": [],
       "schema": [
        {
         "metadata": "{}",
         "name": "age_bracket",
         "type": "\"string\""
        },
        {
         "metadata": "{}",
         "name": "phone",
         "type": "\"long\""
        },
        {
         "metadata": "{}",
         "name": "email",
         "type": "\"long\""
        }
       ],
       "type": "table"
      }
     },
     "output_type": "display_data"
    }
   ],
   "source": [
    "%sql\n",
    "select\n",
    "  age_bracket,\n",
    "  phone,\n",
    "  email\n",
    "from\n",
    "  (\n",
    "    select\n",
    "      age_bracket,\n",
    "      channel\n",
    "    from\n",
    "      customer_cases\n",
    "      left join customer_info on customer_cases.customer_id = customer_info.customer_id\n",
    "  ) as chan\n",
    "  pivot (\n",
    "    count(*) as customers for channel in ('phone' as phone, 'email' as email)\n",
    "  )\n",
    "  order by age_bracket;"
   ]
  },
  {
   "cell_type": "code",
   "execution_count": 0,
   "metadata": {
    "application/vnd.databricks.v1+cell": {
     "cellMetadata": {
      "byteLimit": 2048000,
      "rowLimit": 10000
     },
     "inputWidgets": {},
     "nuid": "8d9f4cf6-e0ed-4d09-8e2b-ba17c6018e72",
     "showTitle": false,
     "title": ""
    }
   },
   "outputs": [
    {
     "output_type": "display_data",
     "data": {
      "text/html": [
       "<style scoped>\n",
       "  .table-result-container {\n",
       "    max-height: 300px;\n",
       "    overflow: auto;\n",
       "  }\n",
       "  table, th, td {\n",
       "    border: 1px solid black;\n",
       "    border-collapse: collapse;\n",
       "  }\n",
       "  th, td {\n",
       "    padding: 5px;\n",
       "  }\n",
       "  th {\n",
       "    text-align: left;\n",
       "  }\n",
       "</style><div class='table-result-container'><table class='table-result'><thead style='background-color: white'><tr><th>age_bracket</th><th>signup</th><th>support</th></tr></thead><tbody><tr><td>20-29</td><td>964</td><td>412</td></tr><tr><td>30-39</td><td>7020</td><td>3715</td></tr><tr><td>40-49</td><td>24265</td><td>24276</td></tr><tr><td>50-59</td><td>42196</td><td>76611</td></tr><tr><td>60-69</td><td>38147</td><td>79645</td></tr><tr><td>70-79</td><td>16935</td><td>16326</td></tr></tbody></table></div>"
      ]
     },
     "metadata": {
      "application/vnd.databricks.v1+output": {
       "addedWidgets": {},
       "aggData": [],
       "aggError": "",
       "aggOverflow": false,
       "aggSchema": [],
       "aggSeriesLimitReached": false,
       "aggType": "",
       "arguments": {},
       "columnCustomDisplayInfos": {},
       "data": [
        [
         "20-29",
         964,
         412
        ],
        [
         "30-39",
         7020,
         3715
        ],
        [
         "40-49",
         24265,
         24276
        ],
        [
         "50-59",
         42196,
         76611
        ],
        [
         "60-69",
         38147,
         79645
        ],
        [
         "70-79",
         16935,
         16326
        ]
       ],
       "datasetInfos": [],
       "dbfsResultPath": null,
       "isJsonSchema": true,
       "metadata": {
        "isDbfsCommandResult": false
       },
       "overflow": false,
       "plotOptions": {
        "customPlotOptions": {},
        "displayType": "table",
        "pivotAggregation": null,
        "pivotColumns": null,
        "xColumns": null,
        "yColumns": null
       },
       "removedWidgets": [],
       "schema": [
        {
         "metadata": "{}",
         "name": "age_bracket",
         "type": "\"string\""
        },
        {
         "metadata": "{}",
         "name": "signup",
         "type": "\"long\""
        },
        {
         "metadata": "{}",
         "name": "support",
         "type": "\"long\""
        }
       ],
       "type": "table"
      }
     },
     "output_type": "display_data"
    }
   ],
   "source": [
    "%sql\n",
    "select\n",
    "  age_bracket,\n",
    "  signup,\n",
    "  support\n",
    "from\n",
    "  (\n",
    "    select\n",
    "      age_bracket,\n",
    "      reason\n",
    "    from\n",
    "      customer_cases\n",
    "      left join customer_info on customer_cases.customer_id = customer_info.customer_id\n",
    "  ) as age pivot (\n",
    "    count(*) as customers for reason in ('signup' as signup, 'support' as support)\n",
    "  )\n",
    "  order by age_bracket;\n"
   ]
  },
  {
   "cell_type": "markdown",
   "metadata": {
    "application/vnd.databricks.v1+cell": {
     "cellMetadata": {
      "byteLimit": 2048000,
      "rowLimit": 10000
     },
     "inputWidgets": {},
     "nuid": "ed4af98f-93ae-4a90-9881-1d608a6acbe0",
     "showTitle": false,
     "title": ""
    }
   },
   "source": [
    "**channel wise:** it is clear that 87% people tend to use phone over email across all age brackets.  \n",
    "**reason wise:** as age increase the ratio of support request kept increasing "
   ]
  },
  {
   "cell_type": "code",
   "execution_count": 0,
   "metadata": {
    "application/vnd.databricks.v1+cell": {
     "cellMetadata": {
      "byteLimit": 2048000,
      "rowLimit": 10000
     },
     "inputWidgets": {},
     "nuid": "2d0da90b-edde-4bdf-b66f-539e33450c53",
     "showTitle": false,
     "title": ""
    }
   },
   "outputs": [
    {
     "output_type": "display_data",
     "data": {
      "text/html": [
       "<style scoped>\n",
       "  .table-result-container {\n",
       "    max-height: 300px;\n",
       "    overflow: auto;\n",
       "  }\n",
       "  table, th, td {\n",
       "    border: 1px solid black;\n",
       "    border-collapse: collapse;\n",
       "  }\n",
       "  th, td {\n",
       "    padding: 5px;\n",
       "  }\n",
       "  th {\n",
       "    text-align: left;\n",
       "  }\n",
       "</style><div class='table-result-container'><table class='table-result'><thead style='background-color: white'><tr><th>channel</th><th>signup</th><th>support</th></tr></thead><tbody><tr><td>phone</td><td>129527</td><td>157313</td></tr><tr><td>email</td><td>null</td><td>43672</td></tr></tbody></table></div>"
      ]
     },
     "metadata": {
      "application/vnd.databricks.v1+output": {
       "addedWidgets": {},
       "aggData": [],
       "aggError": "",
       "aggOverflow": false,
       "aggSchema": [],
       "aggSeriesLimitReached": false,
       "aggType": "",
       "arguments": {},
       "columnCustomDisplayInfos": {},
       "data": [
        [
         "phone",
         129527,
         157313
        ],
        [
         "email",
         null,
         43672
        ]
       ],
       "datasetInfos": [],
       "dbfsResultPath": null,
       "isJsonSchema": true,
       "metadata": {
        "isDbfsCommandResult": false
       },
       "overflow": false,
       "plotOptions": {
        "customPlotOptions": {},
        "displayType": "table",
        "pivotAggregation": null,
        "pivotColumns": null,
        "xColumns": null,
        "yColumns": null
       },
       "removedWidgets": [],
       "schema": [
        {
         "metadata": "{}",
         "name": "channel",
         "type": "\"string\""
        },
        {
         "metadata": "{}",
         "name": "signup",
         "type": "\"long\""
        },
        {
         "metadata": "{}",
         "name": "support",
         "type": "\"long\""
        }
       ],
       "type": "table"
      }
     },
     "output_type": "display_data"
    }
   ],
   "source": [
    "%sql\n",
    "select\n",
    "  channel,\n",
    "  signup,\n",
    "  support\n",
    "from\n",
    "  (\n",
    "    select\n",
    "      channel,\n",
    "      reason\n",
    "    from\n",
    "      customer_cases\n",
    "  ) as ch pivot (\n",
    "    count(*) as customers for reason in ('signup' as signup, 'support' as support)\n",
    "  )\n",
    "  "
   ]
  },
  {
   "cell_type": "markdown",
   "metadata": {
    "application/vnd.databricks.v1+cell": {
     "cellMetadata": {
      "byteLimit": 2048000,
      "rowLimit": 10000
     },
     "inputWidgets": {},
     "nuid": "51d30125-3474-4fbd-8a33-813e1d6594a0",
     "showTitle": false,
     "title": ""
    }
   },
   "source": [
    "The absence of email signups is a potential area for improvement. Introducing this option could streamline the process for both customers and staff, saving time and effort."
   ]
  },
  {
   "cell_type": "markdown",
   "metadata": {
    "application/vnd.databricks.v1+cell": {
     "cellMetadata": {
      "byteLimit": 2048000,
      "rowLimit": 10000
     },
     "inputWidgets": {},
     "nuid": "48cdb378-3b4f-4521-8a8f-889495aae621",
     "showTitle": false,
     "title": ""
    }
   },
   "source": [
    "### Churn Analysis"
   ]
  },
  {
   "cell_type": "code",
   "execution_count": 0,
   "metadata": {
    "application/vnd.databricks.v1+cell": {
     "cellMetadata": {
      "byteLimit": 2048000,
      "rowLimit": 10000
     },
     "inputWidgets": {},
     "nuid": "1c46741d-17a1-4d3e-bf01-a492b923ffc3",
     "showTitle": false,
     "title": ""
    }
   },
   "outputs": [
    {
     "output_type": "display_data",
     "data": {
      "text/html": [
       "<style scoped>\n",
       "  .table-result-container {\n",
       "    max-height: 300px;\n",
       "    overflow: auto;\n",
       "  }\n",
       "  table, th, td {\n",
       "    border: 1px solid black;\n",
       "    border-collapse: collapse;\n",
       "  }\n",
       "  th, td {\n",
       "    padding: 5px;\n",
       "  }\n",
       "  th {\n",
       "    text-align: left;\n",
       "  }\n",
       "</style><div class='table-result-container'><table class='table-result'><thead style='background-color: white'><tr><th>churn_year</th><th>churn_rate</th></tr></thead><tbody><tr><td>2018</td><td>22.14</td></tr><tr><td>2019</td><td>29.01</td></tr><tr><td>2020</td><td>31.6</td></tr><tr><td>2021</td><td>41.47</td></tr></tbody></table></div>"
      ]
     },
     "metadata": {
      "application/vnd.databricks.v1+output": {
       "addedWidgets": {},
       "aggData": [],
       "aggError": "",
       "aggOverflow": false,
       "aggSchema": [],
       "aggSeriesLimitReached": false,
       "aggType": "",
       "arguments": {},
       "columnCustomDisplayInfos": {},
       "data": [
        [
         2018,
         22.14
        ],
        [
         2019,
         29.01
        ],
        [
         2020,
         31.6
        ],
        [
         2021,
         41.47
        ]
       ],
       "datasetInfos": [],
       "dbfsResultPath": null,
       "isJsonSchema": true,
       "metadata": {
        "isDbfsCommandResult": false
       },
       "overflow": false,
       "plotOptions": {
        "customPlotOptions": {},
        "displayType": "table",
        "pivotAggregation": null,
        "pivotColumns": null,
        "xColumns": null,
        "yColumns": null
       },
       "removedWidgets": [],
       "schema": [
        {
         "metadata": "{}",
         "name": "churn_year",
         "type": "\"integer\""
        },
        {
         "metadata": "{}",
         "name": "churn_rate",
         "type": "\"double\""
        }
       ],
       "type": "table"
      }
     },
     "output_type": "display_data"
    }
   ],
   "source": [
    "%sql\n",
    "WITH GroupedYear AS (\n",
    "  select\n",
    "    *,\n",
    "    (year(signup_date_time) + 1) AS churn_year\n",
    "  FROM\n",
    "    customer_product\n",
    "),\n",
    "CustomersAtYearStart as (\n",
    "  SELECT\n",
    "    churn_year,\n",
    "    count(customer_id) as custs\n",
    "  FROM\n",
    "    GroupedYear\n",
    "  where\n",
    "    year(cancel_date_time) >= churn_year\n",
    "    or year(cancel_date_time) is null\n",
    "  GROUP BY\n",
    "    churn_year\n",
    "),\n",
    "cancelledCustomers AS (\n",
    "  select\n",
    "    year(cancel_date_time) as churn_year,\n",
    "    count(cancel_date_time) as cancelled\n",
    "  FROM\n",
    "    customer_product\n",
    "  where\n",
    "    cancel_date_time IS NOT NULL\n",
    "  group by\n",
    "    year(cancel_date_time)\n",
    ")\n",
    "SELECT\n",
    "  G.churn_year,\n",
    "  round((C.cancelled / G.custs) * 100, 2) as churn_rate\n",
    "from\n",
    "  CustomersAtYearStart G\n",
    "  inner join cancelledCustomers C on C.churn_year = G.churn_year\n",
    "order by\n",
    "  G.churn_year"
   ]
  },
  {
   "cell_type": "markdown",
   "metadata": {
    "application/vnd.databricks.v1+cell": {
     "cellMetadata": {
      "byteLimit": 2048000,
      "rowLimit": 10000
     },
     "inputWidgets": {},
     "nuid": "5aa8be7a-4a32-41a2-9885-50881c44afe9",
     "showTitle": false,
     "title": ""
    }
   },
   "source": [
    "Churn rates have steadily increased over the years, with particularly sharp spikes observed in 2019 and 2021."
   ]
  },
  {
   "cell_type": "code",
   "execution_count": 0,
   "metadata": {
    "application/vnd.databricks.v1+cell": {
     "cellMetadata": {
      "byteLimit": 2048000,
      "rowLimit": 10000
     },
     "inputWidgets": {},
     "nuid": "e9ac8a4b-5a2a-47ab-9fcb-d18884c582e8",
     "showTitle": false,
     "title": ""
    }
   },
   "outputs": [
    {
     "output_type": "display_data",
     "data": {
      "text/html": [
       "<style scoped>\n",
       "  .table-result-container {\n",
       "    max-height: 300px;\n",
       "    overflow: auto;\n",
       "  }\n",
       "  table, th, td {\n",
       "    border: 1px solid black;\n",
       "    border-collapse: collapse;\n",
       "  }\n",
       "  th, td {\n",
       "    padding: 5px;\n",
       "  }\n",
       "  th {\n",
       "    text-align: left;\n",
       "  }\n",
       "</style><div class='table-result-container'><table class='table-result'><thead style='background-color: white'><tr><th>year</th><th>cases</th><th>yoy_change</th></tr></thead><tbody><tr><td>2017</td><td>17823</td><td>null</td></tr><tr><td>2018</td><td>34193</td><td>91.84761263535881</td></tr><tr><td>2019</td><td>61566</td><td>80.0543970988214</td></tr><tr><td>2020</td><td>81390</td><td>32.19959068316928</td></tr><tr><td>2021</td><td>135539</td><td>66.53028627595528</td></tr></tbody></table></div>"
      ]
     },
     "metadata": {
      "application/vnd.databricks.v1+output": {
       "addedWidgets": {},
       "aggData": [],
       "aggError": "",
       "aggOverflow": false,
       "aggSchema": [],
       "aggSeriesLimitReached": false,
       "aggType": "",
       "arguments": {},
       "columnCustomDisplayInfos": {},
       "data": [
        [
         2017,
         17823,
         null
        ],
        [
         2018,
         34193,
         91.84761263535881
        ],
        [
         2019,
         61566,
         80.0543970988214
        ],
        [
         2020,
         81390,
         32.19959068316928
        ],
        [
         2021,
         135539,
         66.53028627595528
        ]
       ],
       "datasetInfos": [],
       "dbfsResultPath": null,
       "isJsonSchema": true,
       "metadata": {
        "isDbfsCommandResult": false
       },
       "overflow": false,
       "plotOptions": {
        "customPlotOptions": {},
        "displayType": "table",
        "pivotAggregation": null,
        "pivotColumns": null,
        "xColumns": null,
        "yColumns": null
       },
       "removedWidgets": [],
       "schema": [
        {
         "metadata": "{}",
         "name": "year",
         "type": "\"integer\""
        },
        {
         "metadata": "{}",
         "name": "cases",
         "type": "\"long\""
        },
        {
         "metadata": "{}",
         "name": "yoy_change",
         "type": "\"double\""
        }
       ],
       "type": "table"
      }
     },
     "output_type": "display_data"
    }
   ],
   "source": [
    "%sql\n",
    "SELECT\n",
    "  YEAR(date_time) AS year,\n",
    "  COUNT(case_id) AS cases,\n",
    "  (\n",
    "    count(case_id) - lag(count(case_id), 1) OVER (\n",
    "      ORDER BY\n",
    "        year(date_time)\n",
    "    )\n",
    "  ) / lag(count(case_id), 1) OVER (\n",
    "    ORDER BY\n",
    "      year(date_time)\n",
    "  ) * 100 as yoy_change\n",
    "FROM\n",
    "  customer_cases\n",
    "WHERE\n",
    "  year(date_time) NOT IN (2022)\n",
    "GROUP BY\n",
    "  YEAR(date_time)\n",
    "ORDER BY\n",
    "  year;"
   ]
  },
  {
   "cell_type": "markdown",
   "metadata": {
    "application/vnd.databricks.v1+cell": {
     "cellMetadata": {
      "byteLimit": 2048000,
      "rowLimit": 10000
     },
     "inputWidgets": {},
     "nuid": "8c88822b-9c36-4627-9e38-654b5b0acf83",
     "showTitle": false,
     "title": ""
    }
   },
   "source": [
    "Overall, the data suggests a consistent increase in the number of cases, with a significant acceleration in the early years and a less year-over-year change from 2020. But, Year 2021 has highest contribution in the number of cases, indicating a possible glitch in the services or increase in signups."
   ]
  },
  {
   "cell_type": "code",
   "execution_count": 0,
   "metadata": {
    "application/vnd.databricks.v1+cell": {
     "cellMetadata": {
      "byteLimit": 2048000,
      "rowLimit": 10000
     },
     "inputWidgets": {},
     "nuid": "97400f7d-904e-4f47-a9c1-b38aa870453c",
     "showTitle": false,
     "title": ""
    }
   },
   "outputs": [
    {
     "output_type": "display_data",
     "data": {
      "text/html": [
       "<style scoped>\n",
       "  .table-result-container {\n",
       "    max-height: 300px;\n",
       "    overflow: auto;\n",
       "  }\n",
       "  table, th, td {\n",
       "    border: 1px solid black;\n",
       "    border-collapse: collapse;\n",
       "  }\n",
       "  th, td {\n",
       "    padding: 5px;\n",
       "  }\n",
       "  th {\n",
       "    text-align: left;\n",
       "  }\n",
       "</style><div class='table-result-container'><table class='table-result'><thead style='background-color: white'><tr><th>year</th><th>signup</th><th>support</th></tr></thead><tbody><tr><td>2017</td><td>8.05</td><td>3.68</td></tr><tr><td>2018</td><td>13.06</td><td>8.59</td></tr><tr><td>2019</td><td>23.19</td><td>15.68</td></tr><tr><td>2020</td><td>26.66</td><td>23.32</td></tr><tr><td>2021</td><td>29.04</td><td>48.72</td></tr><tr><td>2022</td><td>null</td><td>0.0</td></tr></tbody></table></div>"
      ]
     },
     "metadata": {
      "application/vnd.databricks.v1+output": {
       "addedWidgets": {},
       "aggData": [],
       "aggError": "",
       "aggOverflow": false,
       "aggSchema": [],
       "aggSeriesLimitReached": false,
       "aggType": "",
       "arguments": {},
       "columnCustomDisplayInfos": {},
       "data": [
        [
         2017,
         8.05,
         3.68
        ],
        [
         2018,
         13.06,
         8.59
        ],
        [
         2019,
         23.19,
         15.68
        ],
        [
         2020,
         26.66,
         23.32
        ],
        [
         2021,
         29.04,
         48.72
        ],
        [
         2022,
         null,
         0.0
        ]
       ],
       "datasetInfos": [],
       "dbfsResultPath": null,
       "isJsonSchema": true,
       "metadata": {
        "isDbfsCommandResult": false
       },
       "overflow": false,
       "plotOptions": {
        "customPlotOptions": {},
        "displayType": "table",
        "pivotAggregation": null,
        "pivotColumns": null,
        "xColumns": null,
        "yColumns": null
       },
       "removedWidgets": [],
       "schema": [
        {
         "metadata": "{}",
         "name": "year",
         "type": "\"integer\""
        },
        {
         "metadata": "{}",
         "name": "signup",
         "type": "\"double\""
        },
        {
         "metadata": "{}",
         "name": "support",
         "type": "\"double\""
        }
       ],
       "type": "table"
      }
     },
     "output_type": "display_data"
    }
   ],
   "source": [
    "%sql\n",
    "select\n",
    "year,\n",
    "signup,\n",
    "support \n",
    "from(\n",
    "  select\n",
    "  year(date_time) as year,\n",
    "  reason,\n",
    "  round(count(case_id)*100/sum(count(case_id)) over(PARTITION BY reason),2) as percentage\n",
    "from\n",
    "  customer_cases\n",
    "group by\n",
    "  year(date_time),\n",
    "  reason) as pv pivot(\n",
    "    max(percentage) for reason in ('signup' as signup, 'support' as support)\n",
    "  )\n",
    "order by year;"
   ]
  },
  {
   "cell_type": "markdown",
   "metadata": {
    "application/vnd.databricks.v1+cell": {
     "cellMetadata": {
      "byteLimit": 2048000,
      "rowLimit": 10000
     },
     "inputWidgets": {},
     "nuid": "9acdc9e0-415d-4d3e-9d24-3d3a5c770bb6",
     "showTitle": false,
     "title": ""
    }
   },
   "source": [
    "The majority of support calls were concentrated in 2021, suggesting a potential widespread issue that affected a significant number of customers. To maintain a healthy churn rate, it's essential to address this issue and also focus on rate of increase in signups, which have been declining since 2019"
   ]
  },
  {
   "cell_type": "code",
   "execution_count": 0,
   "metadata": {
    "application/vnd.databricks.v1+cell": {
     "cellMetadata": {
      "byteLimit": 2048000,
      "rowLimit": 10000
     },
     "inputWidgets": {},
     "nuid": "b59bf12c-9f63-4aba-a0e4-9dc145729dd6",
     "showTitle": false,
     "title": ""
    }
   },
   "outputs": [
    {
     "output_type": "display_data",
     "data": {
      "text/html": [
       "<style scoped>\n",
       "  .table-result-container {\n",
       "    max-height: 300px;\n",
       "    overflow: auto;\n",
       "  }\n",
       "  table, th, td {\n",
       "    border: 1px solid black;\n",
       "    border-collapse: collapse;\n",
       "  }\n",
       "  th, td {\n",
       "    padding: 5px;\n",
       "  }\n",
       "  th {\n",
       "    text-align: left;\n",
       "  }\n",
       "</style><div class='table-result-container'><table class='table-result'><thead style='background-color: white'><tr><th>churn_year</th><th>female</th><th>male</th></tr></thead><tbody><tr><td>2018</td><td>21.86</td><td>22.33</td></tr><tr><td>2019</td><td>29.63</td><td>28.6</td></tr><tr><td>2020</td><td>31.55</td><td>31.63</td></tr><tr><td>2021</td><td>41.66</td><td>41.35</td></tr></tbody></table></div>"
      ]
     },
     "metadata": {
      "application/vnd.databricks.v1+output": {
       "addedWidgets": {},
       "aggData": [],
       "aggError": "",
       "aggOverflow": false,
       "aggSchema": [],
       "aggSeriesLimitReached": false,
       "aggType": "",
       "arguments": {},
       "columnCustomDisplayInfos": {},
       "data": [
        [
         2018,
         21.86,
         22.33
        ],
        [
         2019,
         29.63,
         28.6
        ],
        [
         2020,
         31.55,
         31.63
        ],
        [
         2021,
         41.66,
         41.35
        ]
       ],
       "datasetInfos": [],
       "dbfsResultPath": null,
       "isJsonSchema": true,
       "metadata": {
        "isDbfsCommandResult": false
       },
       "overflow": false,
       "plotOptions": {
        "customPlotOptions": {},
        "displayType": "table",
        "pivotAggregation": null,
        "pivotColumns": null,
        "xColumns": null,
        "yColumns": null
       },
       "removedWidgets": [],
       "schema": [
        {
         "metadata": "{}",
         "name": "churn_year",
         "type": "\"integer\""
        },
        {
         "metadata": "{}",
         "name": "female",
         "type": "\"double\""
        },
        {
         "metadata": "{}",
         "name": "male",
         "type": "\"double\""
        }
       ],
       "type": "table"
      }
     },
     "output_type": "display_data"
    }
   ],
   "source": [
    "%sql\n",
    "WITH GroupedYear AS (\n",
    "  select\n",
    "    gender,\n",
    "    customer_info.customer_id as customer_id,\n",
    "    (year(signup_date_time) + 1) AS churn_year,\n",
    "    cancel_date_time\n",
    "  FROM\n",
    "    customer_product\n",
    "    left join customer_info on customer_info.customer_id = customer_product.customer_id\n",
    "),\n",
    "CustomersAtYearStart as (\n",
    "  SELECT\n",
    "    churn_year,\n",
    "    gender,\n",
    "    count(customer_id) as custs\n",
    "  FROM\n",
    "    GroupedYear\n",
    "  where\n",
    "    year(cancel_date_time) >= churn_year\n",
    "    or year(cancel_date_time) is null\n",
    "  GROUP BY\n",
    "    churn_year,\n",
    "    gender\n",
    "  order by\n",
    "    churn_year,\n",
    "    gender\n",
    "),\n",
    "cancelledCustomers AS (\n",
    "  select\n",
    "    gender,\n",
    "    year(cancel_date_time) as churn_year,\n",
    "    count(cancel_date_time) as cancelled\n",
    "  FROM\n",
    "    customer_product\n",
    "    left join customer_info on customer_info.customer_id = customer_product.customer_id\n",
    "  where\n",
    "    cancel_date_time IS NOT NULL\n",
    "  group by\n",
    "    year(cancel_date_time),\n",
    "    gender\n",
    "  order by\n",
    "    churn_year,\n",
    "    gender\n",
    ")\n",
    "select\n",
    "  churn_year,\n",
    "  female,\n",
    "  male\n",
    "from(\n",
    "    SELECT\n",
    "      G.churn_year as churn_year,\n",
    "      round((C.cancelled / G.custs) * 100, 2) as churn,\n",
    "      G.gender as gender\n",
    "    from\n",
    "      CustomersAtYearStart G\n",
    "      inner join cancelledCustomers C on C.churn_year = G.churn_year\n",
    "      and C.gender = G.gender\n",
    "  ) as ch pivot (\n",
    "    max(churn) as churn for gender in ('male' as male, 'female' as female)\n",
    "  )"
   ]
  },
  {
   "cell_type": "markdown",
   "metadata": {
    "application/vnd.databricks.v1+cell": {
     "cellMetadata": {
      "byteLimit": 2048000,
      "rowLimit": 10000
     },
     "inputWidgets": {},
     "nuid": "a64eb251-5959-44dd-9792-43ad783f7e9e",
     "showTitle": false,
     "title": ""
    }
   },
   "source": [
    "Gender does not appear to significantly influence churn rates. Both male and female customers exhibit similar patterns of churn"
   ]
  },
  {
   "cell_type": "code",
   "execution_count": 0,
   "metadata": {
    "application/vnd.databricks.v1+cell": {
     "cellMetadata": {
      "byteLimit": 2048000,
      "rowLimit": 10000
     },
     "inputWidgets": {},
     "nuid": "426f4f3f-463b-446e-8595-dd555897ee22",
     "showTitle": false,
     "title": ""
    }
   },
   "outputs": [
    {
     "output_type": "display_data",
     "data": {
      "text/html": [
       "<style scoped>\n",
       "  .table-result-container {\n",
       "    max-height: 300px;\n",
       "    overflow: auto;\n",
       "  }\n",
       "  table, th, td {\n",
       "    border: 1px solid black;\n",
       "    border-collapse: collapse;\n",
       "  }\n",
       "  th, td {\n",
       "    padding: 5px;\n",
       "  }\n",
       "  th {\n",
       "    text-align: left;\n",
       "  }\n",
       "</style><div class='table-result-container'><table class='table-result'><thead style='background-color: white'><tr><th>churn_year</th><th>prd_1</th><th>prd_2</th></tr></thead><tbody><tr><td>2018</td><td>20.04</td><td>32.41</td></tr><tr><td>2019</td><td>25.59</td><td>42.54</td></tr><tr><td>2020</td><td>26.68</td><td>47.85</td></tr><tr><td>2021</td><td>36.59</td><td>49.88</td></tr></tbody></table></div>"
      ]
     },
     "metadata": {
      "application/vnd.databricks.v1+output": {
       "addedWidgets": {},
       "aggData": [],
       "aggError": "",
       "aggOverflow": false,
       "aggSchema": [],
       "aggSeriesLimitReached": false,
       "aggType": "",
       "arguments": {},
       "columnCustomDisplayInfos": {},
       "data": [
        [
         2018,
         20.04,
         32.41
        ],
        [
         2019,
         25.59,
         42.54
        ],
        [
         2020,
         26.68,
         47.85
        ],
        [
         2021,
         36.59,
         49.88
        ]
       ],
       "datasetInfos": [],
       "dbfsResultPath": null,
       "isJsonSchema": true,
       "metadata": {
        "isDbfsCommandResult": false
       },
       "overflow": false,
       "plotOptions": {
        "customPlotOptions": {},
        "displayType": "table",
        "pivotAggregation": null,
        "pivotColumns": null,
        "xColumns": null,
        "yColumns": null
       },
       "removedWidgets": [],
       "schema": [
        {
         "metadata": "{}",
         "name": "churn_year",
         "type": "\"integer\""
        },
        {
         "metadata": "{}",
         "name": "prd_1",
         "type": "\"double\""
        },
        {
         "metadata": "{}",
         "name": "prd_2",
         "type": "\"double\""
        }
       ],
       "type": "table"
      }
     },
     "output_type": "display_data"
    }
   ],
   "source": [
    "%sql\n",
    "WITH GroupedYear AS (\n",
    "  select\n",
    "    product,\n",
    "    customer_id,\n",
    "    (year(signup_date_time) + 1) AS churn_year,\n",
    "    cancel_date_time\n",
    "  FROM\n",
    "    customer_product\n",
    "\n",
    "),\n",
    "CustomersAtYearStart as (\n",
    "  SELECT\n",
    "    churn_year,\n",
    "    product,\n",
    "    count(customer_id) as custs\n",
    "  FROM\n",
    "    GroupedYear\n",
    "  where\n",
    "    year(cancel_date_time) >= churn_year\n",
    "    or year(cancel_date_time) is null\n",
    "  GROUP BY\n",
    "    churn_year,\n",
    "    product\n",
    "  order by\n",
    "    churn_year,\n",
    "    product\n",
    "),\n",
    "cancelledCustomers AS (\n",
    "  select\n",
    "    product,\n",
    "    year(cancel_date_time) as churn_year,\n",
    "    count(cancel_date_time) as cancelled\n",
    "  FROM\n",
    "    customer_product\n",
    "   \n",
    "  where\n",
    "    cancel_date_time IS NOT NULL\n",
    "  group by\n",
    "    year(cancel_date_time),\n",
    "    product\n",
    "  order by\n",
    "    churn_year,\n",
    "    product\n",
    ")\n",
    "select\n",
    "  churn_year,\n",
    "  prd_1,\n",
    "  prd_2\n",
    "from(\n",
    "    SELECT\n",
    "      G.churn_year as churn_year,\n",
    "      round((C.cancelled / G.custs) * 100, 2) as churn,\n",
    "      G.product as product\n",
    "    from\n",
    "      CustomersAtYearStart G\n",
    "      inner join cancelledCustomers C on C.churn_year = G.churn_year\n",
    "      and C.product = G.product\n",
    "  ) as ch pivot (\n",
    "    max(churn) for product in ('prd_1' as prd_1, 'prd_2' as prd_2)\n",
    "  )"
   ]
  },
  {
   "cell_type": "markdown",
   "metadata": {
    "application/vnd.databricks.v1+cell": {
     "cellMetadata": {
      "byteLimit": 2048000,
      "rowLimit": 10000
     },
     "inputWidgets": {},
     "nuid": "de648ab0-2f52-4928-991d-b8845c9abd0a",
     "showTitle": false,
     "title": ""
    }
   },
   "source": [
    "Churn rates exhibit distinct patterns for annual and monthly subscription models, potentially influenced by variations in cancellation rates or customer acquisition challenges"
   ]
  },
  {
   "cell_type": "code",
   "execution_count": 0,
   "metadata": {
    "application/vnd.databricks.v1+cell": {
     "cellMetadata": {
      "byteLimit": 2048000,
      "rowLimit": 10000
     },
     "inputWidgets": {},
     "nuid": "df8997cc-c6f4-4c9f-92e9-461bfe22d9b9",
     "showTitle": false,
     "title": ""
    }
   },
   "outputs": [
    {
     "output_type": "display_data",
     "data": {
      "text/html": [
       "<style scoped>\n",
       "  .table-result-container {\n",
       "    max-height: 300px;\n",
       "    overflow: auto;\n",
       "  }\n",
       "  table, th, td {\n",
       "    border: 1px solid black;\n",
       "    border-collapse: collapse;\n",
       "  }\n",
       "  th, td {\n",
       "    padding: 5px;\n",
       "  }\n",
       "  th {\n",
       "    text-align: left;\n",
       "  }\n",
       "</style><div class='table-result-container'><table class='table-result'><thead style='background-color: white'><tr><th>churn_year</th><th>product</th><th>yoy_cancelled</th><th>yoy_customers</th><th>churn</th></tr></thead><tbody><tr><td>2018</td><td>prd_1</td><td>null</td><td>null</td><td>20.04</td></tr><tr><td>2019</td><td>prd_1</td><td>130.40694071472836</td><td>80.435412441538</td><td>25.59</td></tr><tr><td>2020</td><td>prd_1</td><td>88.92773892773893</td><td>81.1652712467026</td><td>26.68</td></tr><tr><td>2021</td><td>prd_1</td><td>48.15166326579035</td><td>8.031248812975601</td><td>36.59</td></tr><tr><td>2018</td><td>prd_2</td><td>-94.85586162716207</td><td>-94.1914160474438</td><td>32.41</td></tr><tr><td>2019</td><td>prd_2</td><td>191.84308841843088</td><td>122.31638418079096</td><td>42.54</td></tr><tr><td>2020</td><td>prd_2</td><td>143.80200554725837</td><td>116.73624977309855</td><td>47.85</td></tr><tr><td>2021</td><td>prd_2</td><td>116.1372188675943</td><td>107.36599664991624</td><td>49.88</td></tr></tbody></table></div>"
      ]
     },
     "metadata": {
      "application/vnd.databricks.v1+output": {
       "addedWidgets": {},
       "aggData": [],
       "aggError": "",
       "aggOverflow": false,
       "aggSchema": [],
       "aggSeriesLimitReached": false,
       "aggType": "",
       "arguments": {},
       "columnCustomDisplayInfos": {},
       "data": [
        [
         2018,
         "prd_1",
         null,
         null,
         20.04
        ],
        [
         2019,
         "prd_1",
         130.40694071472836,
         80.435412441538,
         25.59
        ],
        [
         2020,
         "prd_1",
         88.92773892773893,
         81.1652712467026,
         26.68
        ],
        [
         2021,
         "prd_1",
         48.15166326579035,
         8.031248812975601,
         36.59
        ],
        [
         2018,
         "prd_2",
         -94.85586162716207,
         -94.1914160474438,
         32.41
        ],
        [
         2019,
         "prd_2",
         191.84308841843088,
         122.31638418079096,
         42.54
        ],
        [
         2020,
         "prd_2",
         143.80200554725837,
         116.73624977309855,
         47.85
        ],
        [
         2021,
         "prd_2",
         116.1372188675943,
         107.36599664991624,
         49.88
        ]
       ],
       "datasetInfos": [],
       "dbfsResultPath": null,
       "isJsonSchema": true,
       "metadata": {
        "isDbfsCommandResult": false
       },
       "overflow": false,
       "plotOptions": {
        "customPlotOptions": {},
        "displayType": "table",
        "pivotAggregation": null,
        "pivotColumns": null,
        "xColumns": null,
        "yColumns": null
       },
       "removedWidgets": [],
       "schema": [
        {
         "metadata": "{}",
         "name": "churn_year",
         "type": "\"integer\""
        },
        {
         "metadata": "{}",
         "name": "product",
         "type": "\"string\""
        },
        {
         "metadata": "{}",
         "name": "yoy_cancelled",
         "type": "\"double\""
        },
        {
         "metadata": "{}",
         "name": "yoy_customers",
         "type": "\"double\""
        },
        {
         "metadata": "{}",
         "name": "churn",
         "type": "\"double\""
        }
       ],
       "type": "table"
      }
     },
     "output_type": "display_data"
    }
   ],
   "source": [
    "%sql\n",
    "WITH GroupedYear AS (\n",
    "  select\n",
    "    product,\n",
    "    customer_id,\n",
    "    (year(signup_date_time) + 1) AS churn_year,\n",
    "    cancel_date_time\n",
    "  FROM\n",
    "    customer_product\n",
    "),\n",
    "CustomersAtYearStart as (\n",
    "  SELECT\n",
    "    churn_year,\n",
    "    product,\n",
    "    count(customer_id) as custs\n",
    "  FROM\n",
    "    GroupedYear\n",
    "  where\n",
    "    year(cancel_date_time) >= churn_year\n",
    "    or year(cancel_date_time) is null\n",
    "  GROUP BY\n",
    "    churn_year,\n",
    "    product\n",
    "  order by\n",
    "    churn_year,\n",
    "    product\n",
    "),\n",
    "cancelledCustomers AS (\n",
    "  select\n",
    "    product,\n",
    "    year(cancel_date_time) as churn_year,\n",
    "    count(cancel_date_time) as cancelled\n",
    "  FROM\n",
    "    customer_product\n",
    "  where\n",
    "    cancel_date_time IS NOT NULL\n",
    "  group by\n",
    "    year(cancel_date_time),\n",
    "    product\n",
    "  order by\n",
    "    churn_year,\n",
    "    product\n",
    ")\n",
    "SELECT\n",
    "  G.churn_year as churn_year,\n",
    "  G.product as product,\n",
    "  (C.cancelled - lag(C.cancelled, 1) over(\n",
    "    ORDER BY\n",
    "      G.product,\n",
    "      G.churn_year\n",
    "  )) / lag(C.cancelled, 1) over(\n",
    "    ORDER BY\n",
    "      G.product,\n",
    "      G.churn_year) * 100\n",
    "   as yoy_cancelled,\n",
    "   (G.custs - lag(G.custs, 1) over(\n",
    "    ORDER BY\n",
    "      G.product,\n",
    "      G.churn_year\n",
    "  )) / lag(G.custs, 1) over(\n",
    "    ORDER BY\n",
    "      G.product,\n",
    "      G.churn_year) * 100\n",
    "   as yoy_customers,\n",
    "  \n",
    "  round((C.cancelled / G.custs) * 100, 2) as churn\n",
    "from\n",
    "  CustomersAtYearStart G\n",
    "  inner join cancelledCustomers C on C.churn_year = G.churn_year\n",
    "  and C.product = G.product\n",
    "ORDER BY\n",
    "  product,\n",
    "  churn_year"
   ]
  },
  {
   "cell_type": "markdown",
   "metadata": {
    "application/vnd.databricks.v1+cell": {
     "cellMetadata": {
      "byteLimit": 2048000,
      "rowLimit": 10000
     },
     "inputWidgets": {},
     "nuid": "68a0f7fc-932b-4709-9e2e-56fbf43c837c",
     "showTitle": false,
     "title": ""
    }
   },
   "source": [
    "\n",
    "\n",
    "**Product 1:** In 2019 a 130% surge in cancellations coupled with an 80% increase in new customers led to a 5% spike in churn. Subsequently, a 48% rise in cancellations and a mere 8% increase in new customers in 2021 resulted in a substantial 10% jump in churn.\n",
    "\n",
    "**Product 2:** In 2019 a dramatic 190% increase in cancelled customers caused a significant 10% spike in churn. Despite subsequent significant increases in both new customers and cancelled customers (over 100% each), the comparable growth rates led to a relatively stable churn rate.\n",
    "\n",
    "**Overall, the data demonstrates that cancellations are a primary driver of churn for both products. Addressing this issue is essential for enhancing customer retention.**  \n",
    "\n",
    "**Key Insight:** The spike in cancellations observed in 2019 for both products suggests a potential underlying issue that was subsequently addressed. It is crucial to monitor for similar trends in the future and take proactive measures to prevent a recurrence\n"
   ]
  },
  {
   "cell_type": "code",
   "execution_count": 0,
   "metadata": {
    "application/vnd.databricks.v1+cell": {
     "cellMetadata": {
      "byteLimit": 2048000,
      "implicitDf": true,
      "rowLimit": 10000
     },
     "inputWidgets": {},
     "nuid": "c17825b2-f250-45c5-9770-51c11425bc88",
     "showTitle": false,
     "title": ""
    }
   },
   "outputs": [
    {
     "output_type": "display_data",
     "data": {
      "text/html": [
       "<style scoped>\n",
       "  .table-result-container {\n",
       "    max-height: 300px;\n",
       "    overflow: auto;\n",
       "  }\n",
       "  table, th, td {\n",
       "    border: 1px solid black;\n",
       "    border-collapse: collapse;\n",
       "  }\n",
       "  th, td {\n",
       "    padding: 5px;\n",
       "  }\n",
       "  th {\n",
       "    text-align: left;\n",
       "  }\n",
       "</style><div class='table-result-container'><table class='table-result'><thead style='background-color: white'><tr><th>year</th><th>month</th><th>reason</th><th>cases</th></tr></thead><tbody><tr><td>2017</td><td>1</td><td>signup</td><td>244</td></tr><tr><td>2017</td><td>1</td><td>support</td><td>26</td></tr><tr><td>2017</td><td>2</td><td>signup</td><td>224</td></tr><tr><td>2017</td><td>2</td><td>support</td><td>54</td></tr><tr><td>2017</td><td>3</td><td>signup</td><td>263</td></tr><tr><td>2017</td><td>3</td><td>support</td><td>89</td></tr><tr><td>2017</td><td>4</td><td>signup</td><td>249</td></tr><tr><td>2017</td><td>4</td><td>support</td><td>122</td></tr><tr><td>2017</td><td>5</td><td>signup</td><td>250</td></tr><tr><td>2017</td><td>5</td><td>support</td><td>182</td></tr><tr><td>2017</td><td>6</td><td>signup</td><td>186</td></tr><tr><td>2017</td><td>6</td><td>support</td><td>186</td></tr><tr><td>2017</td><td>7</td><td>signup</td><td>167</td></tr><tr><td>2017</td><td>7</td><td>support</td><td>220</td></tr><tr><td>2017</td><td>8</td><td>signup</td><td>138</td></tr><tr><td>2017</td><td>8</td><td>support</td><td>230</td></tr><tr><td>2017</td><td>9</td><td>signup</td><td>93</td></tr><tr><td>2017</td><td>9</td><td>support</td><td>212</td></tr><tr><td>2017</td><td>10</td><td>signup</td><td>83</td></tr><tr><td>2017</td><td>10</td><td>support</td><td>222</td></tr><tr><td>2017</td><td>11</td><td>signup</td><td>50</td></tr><tr><td>2017</td><td>11</td><td>support</td><td>206</td></tr><tr><td>2017</td><td>12</td><td>signup</td><td>35</td></tr><tr><td>2017</td><td>12</td><td>support</td><td>176</td></tr><tr><td>2018</td><td>1</td><td>signup</td><td>474</td></tr><tr><td>2018</td><td>1</td><td>support</td><td>220</td></tr><tr><td>2018</td><td>2</td><td>signup</td><td>465</td></tr><tr><td>2018</td><td>2</td><td>support</td><td>251</td></tr><tr><td>2018</td><td>3</td><td>signup</td><td>459</td></tr><tr><td>2018</td><td>3</td><td>support</td><td>294</td></tr><tr><td>2018</td><td>4</td><td>signup</td><td>449</td></tr><tr><td>2018</td><td>4</td><td>support</td><td>339</td></tr><tr><td>2018</td><td>5</td><td>signup</td><td>465</td></tr><tr><td>2018</td><td>5</td><td>support</td><td>448</td></tr><tr><td>2018</td><td>6</td><td>signup</td><td>376</td></tr><tr><td>2018</td><td>6</td><td>support</td><td>484</td></tr><tr><td>2018</td><td>7</td><td>signup</td><td>379</td></tr><tr><td>2018</td><td>7</td><td>support</td><td>474</td></tr><tr><td>2018</td><td>8</td><td>signup</td><td>317</td></tr><tr><td>2018</td><td>8</td><td>support</td><td>507</td></tr><tr><td>2018</td><td>9</td><td>signup</td><td>271</td></tr><tr><td>2018</td><td>9</td><td>support</td><td>498</td></tr><tr><td>2018</td><td>10</td><td>signup</td><td>237</td></tr><tr><td>2018</td><td>10</td><td>support</td><td>509</td></tr><tr><td>2018</td><td>11</td><td>signup</td><td>185</td></tr><tr><td>2018</td><td>11</td><td>support</td><td>457</td></tr><tr><td>2018</td><td>12</td><td>signup</td><td>143</td></tr><tr><td>2018</td><td>12</td><td>support</td><td>427</td></tr><tr><td>2019</td><td>1</td><td>signup</td><td>933</td></tr><tr><td>2019</td><td>1</td><td>support</td><td>456</td></tr><tr><td>2019</td><td>2</td><td>signup</td><td>777</td></tr><tr><td>2019</td><td>2</td><td>support</td><td>499</td></tr><tr><td>2019</td><td>3</td><td>signup</td><td>945</td></tr><tr><td>2019</td><td>3</td><td>support</td><td>623</td></tr><tr><td>2019</td><td>4</td><td>signup</td><td>933</td></tr><tr><td>2019</td><td>4</td><td>support</td><td>707</td></tr><tr><td>2019</td><td>5</td><td>signup</td><td>977</td></tr><tr><td>2019</td><td>5</td><td>support</td><td>792</td></tr><tr><td>2019</td><td>6</td><td>signup</td><td>836</td></tr><tr><td>2019</td><td>6</td><td>support</td><td>923</td></tr><tr><td>2019</td><td>7</td><td>signup</td><td>848</td></tr><tr><td>2019</td><td>7</td><td>support</td><td>851</td></tr><tr><td>2019</td><td>8</td><td>signup</td><td>741</td></tr><tr><td>2019</td><td>8</td><td>support</td><td>920</td></tr><tr><td>2019</td><td>9</td><td>signup</td><td>634</td></tr><tr><td>2019</td><td>9</td><td>support</td><td>888</td></tr><tr><td>2019</td><td>10</td><td>signup</td><td>631</td></tr><tr><td>2019</td><td>10</td><td>support</td><td>906</td></tr><tr><td>2019</td><td>11</td><td>signup</td><td>497</td></tr><tr><td>2019</td><td>11</td><td>support</td><td>836</td></tr><tr><td>2019</td><td>12</td><td>signup</td><td>493</td></tr><tr><td>2019</td><td>12</td><td>support</td><td>770</td></tr><tr><td>2020</td><td>1</td><td>signup</td><td>1716</td></tr><tr><td>2020</td><td>1</td><td>support</td><td>875</td></tr><tr><td>2020</td><td>2</td><td>signup</td><td>1534</td></tr><tr><td>2020</td><td>2</td><td>support</td><td>1027</td></tr><tr><td>2020</td><td>3</td><td>signup</td><td>1655</td></tr><tr><td>2020</td><td>3</td><td>support</td><td>1259</td></tr><tr><td>2020</td><td>4</td><td>signup</td><td>1630</td></tr><tr><td>2020</td><td>4</td><td>support</td><td>1439</td></tr><tr><td>2020</td><td>5</td><td>signup</td><td>1604</td></tr><tr><td>2020</td><td>5</td><td>support</td><td>1681</td></tr><tr><td>2020</td><td>6</td><td>signup</td><td>1575</td></tr><tr><td>2020</td><td>6</td><td>support</td><td>1735</td></tr><tr><td>2020</td><td>7</td><td>signup</td><td>1461</td></tr><tr><td>2020</td><td>7</td><td>support</td><td>1858</td></tr><tr><td>2020</td><td>8</td><td>signup</td><td>1248</td></tr><tr><td>2020</td><td>8</td><td>support</td><td>2011</td></tr><tr><td>2020</td><td>9</td><td>signup</td><td>1120</td></tr><tr><td>2020</td><td>9</td><td>support</td><td>1760</td></tr><tr><td>2020</td><td>10</td><td>signup</td><td>1013</td></tr><tr><td>2020</td><td>10</td><td>support</td><td>1796</td></tr><tr><td>2020</td><td>11</td><td>signup</td><td>784</td></tr><tr><td>2020</td><td>11</td><td>support</td><td>1750</td></tr><tr><td>2020</td><td>12</td><td>signup</td><td>735</td></tr><tr><td>2020</td><td>12</td><td>support</td><td>1601</td></tr><tr><td>2021</td><td>1</td><td>signup</td><td>2303</td></tr><tr><td>2021</td><td>1</td><td>support</td><td>2006</td></tr><tr><td>2021</td><td>2</td><td>signup</td><td>2252</td></tr><tr><td>2021</td><td>2</td><td>support</td><td>2695</td></tr><tr><td>2021</td><td>3</td><td>signup</td><td>2593</td></tr><tr><td>2021</td><td>3</td><td>support</td><td>4165</td></tr><tr><td>2021</td><td>4</td><td>signup</td><td>2480</td></tr><tr><td>2021</td><td>4</td><td>support</td><td>5013</td></tr><tr><td>2021</td><td>5</td><td>signup</td><td>2386</td></tr><tr><td>2021</td><td>5</td><td>support</td><td>6235</td></tr><tr><td>2021</td><td>6</td><td>signup</td><td>2298</td></tr><tr><td>2021</td><td>6</td><td>support</td><td>6634</td></tr><tr><td>2021</td><td>7</td><td>signup</td><td>2021</td></tr><tr><td>2021</td><td>7</td><td>support</td><td>7644</td></tr><tr><td>2021</td><td>8</td><td>signup</td><td>1772</td></tr><tr><td>2021</td><td>8</td><td>support</td><td>8141</td></tr><tr><td>2021</td><td>9</td><td>signup</td><td>1495</td></tr><tr><td>2021</td><td>9</td><td>support</td><td>8297</td></tr><tr><td>2021</td><td>10</td><td>signup</td><td>1206</td></tr><tr><td>2021</td><td>10</td><td>support</td><td>8178</td></tr><tr><td>2021</td><td>11</td><td>signup</td><td>1097</td></tr><tr><td>2021</td><td>11</td><td>support</td><td>7356</td></tr><tr><td>2021</td><td>12</td><td>signup</td><td>888</td></tr><tr><td>2021</td><td>12</td><td>support</td><td>6811</td></tr><tr><td>2022</td><td>1</td><td>support</td><td>1</td></tr></tbody></table></div>"
      ]
     },
     "metadata": {
      "application/vnd.databricks.v1+output": {
       "addedWidgets": {},
       "aggData": [],
       "aggError": "",
       "aggOverflow": false,
       "aggSchema": [],
       "aggSeriesLimitReached": false,
       "aggType": "",
       "arguments": {},
       "columnCustomDisplayInfos": {},
       "data": [
        [
         2017,
         1,
         "signup",
         244
        ],
        [
         2017,
         1,
         "support",
         26
        ],
        [
         2017,
         2,
         "signup",
         224
        ],
        [
         2017,
         2,
         "support",
         54
        ],
        [
         2017,
         3,
         "signup",
         263
        ],
        [
         2017,
         3,
         "support",
         89
        ],
        [
         2017,
         4,
         "signup",
         249
        ],
        [
         2017,
         4,
         "support",
         122
        ],
        [
         2017,
         5,
         "signup",
         250
        ],
        [
         2017,
         5,
         "support",
         182
        ],
        [
         2017,
         6,
         "signup",
         186
        ],
        [
         2017,
         6,
         "support",
         186
        ],
        [
         2017,
         7,
         "signup",
         167
        ],
        [
         2017,
         7,
         "support",
         220
        ],
        [
         2017,
         8,
         "signup",
         138
        ],
        [
         2017,
         8,
         "support",
         230
        ],
        [
         2017,
         9,
         "signup",
         93
        ],
        [
         2017,
         9,
         "support",
         212
        ],
        [
         2017,
         10,
         "signup",
         83
        ],
        [
         2017,
         10,
         "support",
         222
        ],
        [
         2017,
         11,
         "signup",
         50
        ],
        [
         2017,
         11,
         "support",
         206
        ],
        [
         2017,
         12,
         "signup",
         35
        ],
        [
         2017,
         12,
         "support",
         176
        ],
        [
         2018,
         1,
         "signup",
         474
        ],
        [
         2018,
         1,
         "support",
         220
        ],
        [
         2018,
         2,
         "signup",
         465
        ],
        [
         2018,
         2,
         "support",
         251
        ],
        [
         2018,
         3,
         "signup",
         459
        ],
        [
         2018,
         3,
         "support",
         294
        ],
        [
         2018,
         4,
         "signup",
         449
        ],
        [
         2018,
         4,
         "support",
         339
        ],
        [
         2018,
         5,
         "signup",
         465
        ],
        [
         2018,
         5,
         "support",
         448
        ],
        [
         2018,
         6,
         "signup",
         376
        ],
        [
         2018,
         6,
         "support",
         484
        ],
        [
         2018,
         7,
         "signup",
         379
        ],
        [
         2018,
         7,
         "support",
         474
        ],
        [
         2018,
         8,
         "signup",
         317
        ],
        [
         2018,
         8,
         "support",
         507
        ],
        [
         2018,
         9,
         "signup",
         271
        ],
        [
         2018,
         9,
         "support",
         498
        ],
        [
         2018,
         10,
         "signup",
         237
        ],
        [
         2018,
         10,
         "support",
         509
        ],
        [
         2018,
         11,
         "signup",
         185
        ],
        [
         2018,
         11,
         "support",
         457
        ],
        [
         2018,
         12,
         "signup",
         143
        ],
        [
         2018,
         12,
         "support",
         427
        ],
        [
         2019,
         1,
         "signup",
         933
        ],
        [
         2019,
         1,
         "support",
         456
        ],
        [
         2019,
         2,
         "signup",
         777
        ],
        [
         2019,
         2,
         "support",
         499
        ],
        [
         2019,
         3,
         "signup",
         945
        ],
        [
         2019,
         3,
         "support",
         623
        ],
        [
         2019,
         4,
         "signup",
         933
        ],
        [
         2019,
         4,
         "support",
         707
        ],
        [
         2019,
         5,
         "signup",
         977
        ],
        [
         2019,
         5,
         "support",
         792
        ],
        [
         2019,
         6,
         "signup",
         836
        ],
        [
         2019,
         6,
         "support",
         923
        ],
        [
         2019,
         7,
         "signup",
         848
        ],
        [
         2019,
         7,
         "support",
         851
        ],
        [
         2019,
         8,
         "signup",
         741
        ],
        [
         2019,
         8,
         "support",
         920
        ],
        [
         2019,
         9,
         "signup",
         634
        ],
        [
         2019,
         9,
         "support",
         888
        ],
        [
         2019,
         10,
         "signup",
         631
        ],
        [
         2019,
         10,
         "support",
         906
        ],
        [
         2019,
         11,
         "signup",
         497
        ],
        [
         2019,
         11,
         "support",
         836
        ],
        [
         2019,
         12,
         "signup",
         493
        ],
        [
         2019,
         12,
         "support",
         770
        ],
        [
         2020,
         1,
         "signup",
         1716
        ],
        [
         2020,
         1,
         "support",
         875
        ],
        [
         2020,
         2,
         "signup",
         1534
        ],
        [
         2020,
         2,
         "support",
         1027
        ],
        [
         2020,
         3,
         "signup",
         1655
        ],
        [
         2020,
         3,
         "support",
         1259
        ],
        [
         2020,
         4,
         "signup",
         1630
        ],
        [
         2020,
         4,
         "support",
         1439
        ],
        [
         2020,
         5,
         "signup",
         1604
        ],
        [
         2020,
         5,
         "support",
         1681
        ],
        [
         2020,
         6,
         "signup",
         1575
        ],
        [
         2020,
         6,
         "support",
         1735
        ],
        [
         2020,
         7,
         "signup",
         1461
        ],
        [
         2020,
         7,
         "support",
         1858
        ],
        [
         2020,
         8,
         "signup",
         1248
        ],
        [
         2020,
         8,
         "support",
         2011
        ],
        [
         2020,
         9,
         "signup",
         1120
        ],
        [
         2020,
         9,
         "support",
         1760
        ],
        [
         2020,
         10,
         "signup",
         1013
        ],
        [
         2020,
         10,
         "support",
         1796
        ],
        [
         2020,
         11,
         "signup",
         784
        ],
        [
         2020,
         11,
         "support",
         1750
        ],
        [
         2020,
         12,
         "signup",
         735
        ],
        [
         2020,
         12,
         "support",
         1601
        ],
        [
         2021,
         1,
         "signup",
         2303
        ],
        [
         2021,
         1,
         "support",
         2006
        ],
        [
         2021,
         2,
         "signup",
         2252
        ],
        [
         2021,
         2,
         "support",
         2695
        ],
        [
         2021,
         3,
         "signup",
         2593
        ],
        [
         2021,
         3,
         "support",
         4165
        ],
        [
         2021,
         4,
         "signup",
         2480
        ],
        [
         2021,
         4,
         "support",
         5013
        ],
        [
         2021,
         5,
         "signup",
         2386
        ],
        [
         2021,
         5,
         "support",
         6235
        ],
        [
         2021,
         6,
         "signup",
         2298
        ],
        [
         2021,
         6,
         "support",
         6634
        ],
        [
         2021,
         7,
         "signup",
         2021
        ],
        [
         2021,
         7,
         "support",
         7644
        ],
        [
         2021,
         8,
         "signup",
         1772
        ],
        [
         2021,
         8,
         "support",
         8141
        ],
        [
         2021,
         9,
         "signup",
         1495
        ],
        [
         2021,
         9,
         "support",
         8297
        ],
        [
         2021,
         10,
         "signup",
         1206
        ],
        [
         2021,
         10,
         "support",
         8178
        ],
        [
         2021,
         11,
         "signup",
         1097
        ],
        [
         2021,
         11,
         "support",
         7356
        ],
        [
         2021,
         12,
         "signup",
         888
        ],
        [
         2021,
         12,
         "support",
         6811
        ],
        [
         2022,
         1,
         "support",
         1
        ]
       ],
       "datasetInfos": [],
       "dbfsResultPath": null,
       "isJsonSchema": true,
       "metadata": {},
       "overflow": false,
       "plotOptions": {
        "customPlotOptions": {},
        "displayType": "table",
        "pivotAggregation": null,
        "pivotColumns": null,
        "xColumns": null,
        "yColumns": null
       },
       "removedWidgets": [],
       "schema": [
        {
         "metadata": "{}",
         "name": "year",
         "type": "\"integer\""
        },
        {
         "metadata": "{}",
         "name": "month",
         "type": "\"integer\""
        },
        {
         "metadata": "{}",
         "name": "reason",
         "type": "\"string\""
        },
        {
         "metadata": "{}",
         "name": "cases",
         "type": "\"long\""
        }
       ],
       "type": "table"
      }
     },
     "output_type": "display_data"
    }
   ],
   "source": [
    "%sql\n",
    "select year(date_time) as year, month(date_time) as month,reason, count(case_id) as cases from customer_cases left join customer_product on customer_cases.customer_id=customer_product.customer_id\n",
    "where product = 'prd_2'\n",
    "group by year(date_time),month(date_time),reason\n",
    "order by year,month,reason;"
   ]
  },
  {
   "cell_type": "code",
   "execution_count": 0,
   "metadata": {
    "application/vnd.databricks.v1+cell": {
     "cellMetadata": {
      "byteLimit": 2048000,
      "implicitDf": true,
      "rowLimit": 10000
     },
     "inputWidgets": {},
     "nuid": "4165c733-5749-4433-961e-597720f02d4f",
     "showTitle": false,
     "title": ""
    }
   },
   "outputs": [
    {
     "output_type": "display_data",
     "data": {
      "text/html": [
       "<html>\n",
       "<head><meta charset=\"utf-8\" /></head>\n",
       "<body>\n",
       "    <div>            <script src=\"https://cdnjs.cloudflare.com/ajax/libs/mathjax/2.7.5/MathJax.js?config=TeX-AMS-MML_SVG\"></script><script type=\"text/javascript\">if (window.MathJax) {MathJax.Hub.Config({SVG: {font: \"STIX-Web\"}});}</script>                <script type=\"text/javascript\">window.PlotlyConfig = {MathJaxConfig: 'local'};</script>\n",
       "        <script src=\"https://cdn.plot.ly/plotly-2.9.0.min.js\"></script>                <div id=\"3f6e23eb-67cb-42b9-a1b9-3333ca3cafa3\" class=\"plotly-graph-div\" style=\"height:100%; width:100%;\"></div>            <script type=\"text/javascript\">                                    window.PLOTLYENV=window.PLOTLYENV || {};                                    if (document.getElementById(\"3f6e23eb-67cb-42b9-a1b9-3333ca3cafa3\")) {                    Plotly.newPlot(                        \"3f6e23eb-67cb-42b9-a1b9-3333ca3cafa3\",                        [{\"hovertemplate\":\"year=2017<br>month=%{x}<br>cases=%{y}<extra></extra>\",\"legendgroup\":\"2017\",\"line\":{\"color\":\"#636efa\",\"dash\":\"solid\"},\"marker\":{\"symbol\":\"circle\"},\"mode\":\"lines\",\"name\":\"2017\",\"orientation\":\"v\",\"showlegend\":true,\"x\":[1,2,3,4,5,6,7,8,9,10,11,12],\"xaxis\":\"x\",\"y\":[244,224,263,249,250,186,167,138,93,83,50,35],\"yaxis\":\"y\",\"type\":\"scatter\"},{\"hovertemplate\":\"year=2018<br>month=%{x}<br>cases=%{y}<extra></extra>\",\"legendgroup\":\"2018\",\"line\":{\"color\":\"#EF553B\",\"dash\":\"solid\"},\"marker\":{\"symbol\":\"circle\"},\"mode\":\"lines\",\"name\":\"2018\",\"orientation\":\"v\",\"showlegend\":true,\"x\":[1,2,3,4,5,6,7,8,9,10,11,12],\"xaxis\":\"x\",\"y\":[474,465,459,449,465,376,379,317,271,237,185,143],\"yaxis\":\"y\",\"type\":\"scatter\"},{\"hovertemplate\":\"year=2019<br>month=%{x}<br>cases=%{y}<extra></extra>\",\"legendgroup\":\"2019\",\"line\":{\"color\":\"#00cc96\",\"dash\":\"solid\"},\"marker\":{\"symbol\":\"circle\"},\"mode\":\"lines\",\"name\":\"2019\",\"orientation\":\"v\",\"showlegend\":true,\"x\":[1,2,3,4,5,6,7,8,9,10,11,12],\"xaxis\":\"x\",\"y\":[933,777,945,933,977,836,848,741,634,631,497,493],\"yaxis\":\"y\",\"type\":\"scatter\"},{\"hovertemplate\":\"year=2020<br>month=%{x}<br>cases=%{y}<extra></extra>\",\"legendgroup\":\"2020\",\"line\":{\"color\":\"#ab63fa\",\"dash\":\"solid\"},\"marker\":{\"symbol\":\"circle\"},\"mode\":\"lines\",\"name\":\"2020\",\"orientation\":\"v\",\"showlegend\":true,\"x\":[1,2,3,4,5,6,7,8,9,10,11,12],\"xaxis\":\"x\",\"y\":[1716,1534,1655,1630,1604,1575,1461,1248,1120,1013,784,735],\"yaxis\":\"y\",\"type\":\"scatter\"},{\"hovertemplate\":\"year=2021<br>month=%{x}<br>cases=%{y}<extra></extra>\",\"legendgroup\":\"2021\",\"line\":{\"color\":\"#FFA15A\",\"dash\":\"solid\"},\"marker\":{\"symbol\":\"circle\"},\"mode\":\"lines\",\"name\":\"2021\",\"orientation\":\"v\",\"showlegend\":true,\"x\":[1,2,3,4,5,6,7,8,9,10,11,12],\"xaxis\":\"x\",\"y\":[2303,2252,2593,2480,2386,2298,2021,1772,1495,1206,1097,888],\"yaxis\":\"y\",\"type\":\"scatter\"}],                        {\"template\":{\"data\":{\"bar\":[{\"error_x\":{\"color\":\"#2a3f5f\"},\"error_y\":{\"color\":\"#2a3f5f\"},\"marker\":{\"line\":{\"color\":\"#E5ECF6\",\"width\":0.5},\"pattern\":{\"fillmode\":\"overlay\",\"size\":10,\"solidity\":0.2}},\"type\":\"bar\"}],\"barpolar\":[{\"marker\":{\"line\":{\"color\":\"#E5ECF6\",\"width\":0.5},\"pattern\":{\"fillmode\":\"overlay\",\"size\":10,\"solidity\":0.2}},\"type\":\"barpolar\"}],\"carpet\":[{\"aaxis\":{\"endlinecolor\":\"#2a3f5f\",\"gridcolor\":\"white\",\"linecolor\":\"white\",\"minorgridcolor\":\"white\",\"startlinecolor\":\"#2a3f5f\"},\"baxis\":{\"endlinecolor\":\"#2a3f5f\",\"gridcolor\":\"white\",\"linecolor\":\"white\",\"minorgridcolor\":\"white\",\"startlinecolor\":\"#2a3f5f\"},\"type\":\"carpet\"}],\"choropleth\":[{\"colorbar\":{\"outlinewidth\":0,\"ticks\":\"\"},\"type\":\"choropleth\"}],\"contour\":[{\"colorbar\":{\"outlinewidth\":0,\"ticks\":\"\"},\"colorscale\":[[0.0,\"#0d0887\"],[0.1111111111111111,\"#46039f\"],[0.2222222222222222,\"#7201a8\"],[0.3333333333333333,\"#9c179e\"],[0.4444444444444444,\"#bd3786\"],[0.5555555555555556,\"#d8576b\"],[0.6666666666666666,\"#ed7953\"],[0.7777777777777778,\"#fb9f3a\"],[0.8888888888888888,\"#fdca26\"],[1.0,\"#f0f921\"]],\"type\":\"contour\"}],\"contourcarpet\":[{\"colorbar\":{\"outlinewidth\":0,\"ticks\":\"\"},\"type\":\"contourcarpet\"}],\"heatmap\":[{\"colorbar\":{\"outlinewidth\":0,\"ticks\":\"\"},\"colorscale\":[[0.0,\"#0d0887\"],[0.1111111111111111,\"#46039f\"],[0.2222222222222222,\"#7201a8\"],[0.3333333333333333,\"#9c179e\"],[0.4444444444444444,\"#bd3786\"],[0.5555555555555556,\"#d8576b\"],[0.6666666666666666,\"#ed7953\"],[0.7777777777777778,\"#fb9f3a\"],[0.8888888888888888,\"#fdca26\"],[1.0,\"#f0f921\"]],\"type\":\"heatmap\"}],\"heatmapgl\":[{\"colorbar\":{\"outlinewidth\":0,\"ticks\":\"\"},\"colorscale\":[[0.0,\"#0d0887\"],[0.1111111111111111,\"#46039f\"],[0.2222222222222222,\"#7201a8\"],[0.3333333333333333,\"#9c179e\"],[0.4444444444444444,\"#bd3786\"],[0.5555555555555556,\"#d8576b\"],[0.6666666666666666,\"#ed7953\"],[0.7777777777777778,\"#fb9f3a\"],[0.8888888888888888,\"#fdca26\"],[1.0,\"#f0f921\"]],\"type\":\"heatmapgl\"}],\"histogram\":[{\"marker\":{\"pattern\":{\"fillmode\":\"overlay\",\"size\":10,\"solidity\":0.2}},\"type\":\"histogram\"}],\"histogram2d\":[{\"colorbar\":{\"outlinewidth\":0,\"ticks\":\"\"},\"colorscale\":[[0.0,\"#0d0887\"],[0.1111111111111111,\"#46039f\"],[0.2222222222222222,\"#7201a8\"],[0.3333333333333333,\"#9c179e\"],[0.4444444444444444,\"#bd3786\"],[0.5555555555555556,\"#d8576b\"],[0.6666666666666666,\"#ed7953\"],[0.7777777777777778,\"#fb9f3a\"],[0.8888888888888888,\"#fdca26\"],[1.0,\"#f0f921\"]],\"type\":\"histogram2d\"}],\"histogram2dcontour\":[{\"colorbar\":{\"outlinewidth\":0,\"ticks\":\"\"},\"colorscale\":[[0.0,\"#0d0887\"],[0.1111111111111111,\"#46039f\"],[0.2222222222222222,\"#7201a8\"],[0.3333333333333333,\"#9c179e\"],[0.4444444444444444,\"#bd3786\"],[0.5555555555555556,\"#d8576b\"],[0.6666666666666666,\"#ed7953\"],[0.7777777777777778,\"#fb9f3a\"],[0.8888888888888888,\"#fdca26\"],[1.0,\"#f0f921\"]],\"type\":\"histogram2dcontour\"}],\"mesh3d\":[{\"colorbar\":{\"outlinewidth\":0,\"ticks\":\"\"},\"type\":\"mesh3d\"}],\"parcoords\":[{\"line\":{\"colorbar\":{\"outlinewidth\":0,\"ticks\":\"\"}},\"type\":\"parcoords\"}],\"pie\":[{\"automargin\":true,\"type\":\"pie\"}],\"scatter\":[{\"marker\":{\"colorbar\":{\"outlinewidth\":0,\"ticks\":\"\"}},\"type\":\"scatter\"}],\"scatter3d\":[{\"line\":{\"colorbar\":{\"outlinewidth\":0,\"ticks\":\"\"}},\"marker\":{\"colorbar\":{\"outlinewidth\":0,\"ticks\":\"\"}},\"type\":\"scatter3d\"}],\"scattercarpet\":[{\"marker\":{\"colorbar\":{\"outlinewidth\":0,\"ticks\":\"\"}},\"type\":\"scattercarpet\"}],\"scattergeo\":[{\"marker\":{\"colorbar\":{\"outlinewidth\":0,\"ticks\":\"\"}},\"type\":\"scattergeo\"}],\"scattergl\":[{\"marker\":{\"colorbar\":{\"outlinewidth\":0,\"ticks\":\"\"}},\"type\":\"scattergl\"}],\"scattermapbox\":[{\"marker\":{\"colorbar\":{\"outlinewidth\":0,\"ticks\":\"\"}},\"type\":\"scattermapbox\"}],\"scatterpolar\":[{\"marker\":{\"colorbar\":{\"outlinewidth\":0,\"ticks\":\"\"}},\"type\":\"scatterpolar\"}],\"scatterpolargl\":[{\"marker\":{\"colorbar\":{\"outlinewidth\":0,\"ticks\":\"\"}},\"type\":\"scatterpolargl\"}],\"scatterternary\":[{\"marker\":{\"colorbar\":{\"outlinewidth\":0,\"ticks\":\"\"}},\"type\":\"scatterternary\"}],\"surface\":[{\"colorbar\":{\"outlinewidth\":0,\"ticks\":\"\"},\"colorscale\":[[0.0,\"#0d0887\"],[0.1111111111111111,\"#46039f\"],[0.2222222222222222,\"#7201a8\"],[0.3333333333333333,\"#9c179e\"],[0.4444444444444444,\"#bd3786\"],[0.5555555555555556,\"#d8576b\"],[0.6666666666666666,\"#ed7953\"],[0.7777777777777778,\"#fb9f3a\"],[0.8888888888888888,\"#fdca26\"],[1.0,\"#f0f921\"]],\"type\":\"surface\"}],\"table\":[{\"cells\":{\"fill\":{\"color\":\"#EBF0F8\"},\"line\":{\"color\":\"white\"}},\"header\":{\"fill\":{\"color\":\"#C8D4E3\"},\"line\":{\"color\":\"white\"}},\"type\":\"table\"}]},\"layout\":{\"annotationdefaults\":{\"arrowcolor\":\"#2a3f5f\",\"arrowhead\":0,\"arrowwidth\":1},\"autotypenumbers\":\"strict\",\"coloraxis\":{\"colorbar\":{\"outlinewidth\":0,\"ticks\":\"\"}},\"colorscale\":{\"diverging\":[[0,\"#8e0152\"],[0.1,\"#c51b7d\"],[0.2,\"#de77ae\"],[0.3,\"#f1b6da\"],[0.4,\"#fde0ef\"],[0.5,\"#f7f7f7\"],[0.6,\"#e6f5d0\"],[0.7,\"#b8e186\"],[0.8,\"#7fbc41\"],[0.9,\"#4d9221\"],[1,\"#276419\"]],\"sequential\":[[0.0,\"#0d0887\"],[0.1111111111111111,\"#46039f\"],[0.2222222222222222,\"#7201a8\"],[0.3333333333333333,\"#9c179e\"],[0.4444444444444444,\"#bd3786\"],[0.5555555555555556,\"#d8576b\"],[0.6666666666666666,\"#ed7953\"],[0.7777777777777778,\"#fb9f3a\"],[0.8888888888888888,\"#fdca26\"],[1.0,\"#f0f921\"]],\"sequentialminus\":[[0.0,\"#0d0887\"],[0.1111111111111111,\"#46039f\"],[0.2222222222222222,\"#7201a8\"],[0.3333333333333333,\"#9c179e\"],[0.4444444444444444,\"#bd3786\"],[0.5555555555555556,\"#d8576b\"],[0.6666666666666666,\"#ed7953\"],[0.7777777777777778,\"#fb9f3a\"],[0.8888888888888888,\"#fdca26\"],[1.0,\"#f0f921\"]]},\"colorway\":[\"#636efa\",\"#EF553B\",\"#00cc96\",\"#ab63fa\",\"#FFA15A\",\"#19d3f3\",\"#FF6692\",\"#B6E880\",\"#FF97FF\",\"#FECB52\"],\"font\":{\"color\":\"#2a3f5f\"},\"geo\":{\"bgcolor\":\"white\",\"lakecolor\":\"white\",\"landcolor\":\"#E5ECF6\",\"showlakes\":true,\"showland\":true,\"subunitcolor\":\"white\"},\"hoverlabel\":{\"align\":\"left\"},\"hovermode\":\"closest\",\"mapbox\":{\"style\":\"light\"},\"paper_bgcolor\":\"white\",\"plot_bgcolor\":\"#E5ECF6\",\"polar\":{\"angularaxis\":{\"gridcolor\":\"white\",\"linecolor\":\"white\",\"ticks\":\"\"},\"bgcolor\":\"#E5ECF6\",\"radialaxis\":{\"gridcolor\":\"white\",\"linecolor\":\"white\",\"ticks\":\"\"}},\"scene\":{\"xaxis\":{\"backgroundcolor\":\"#E5ECF6\",\"gridcolor\":\"white\",\"gridwidth\":2,\"linecolor\":\"white\",\"showbackground\":true,\"ticks\":\"\",\"zerolinecolor\":\"white\"},\"yaxis\":{\"backgroundcolor\":\"#E5ECF6\",\"gridcolor\":\"white\",\"gridwidth\":2,\"linecolor\":\"white\",\"showbackground\":true,\"ticks\":\"\",\"zerolinecolor\":\"white\"},\"zaxis\":{\"backgroundcolor\":\"#E5ECF6\",\"gridcolor\":\"white\",\"gridwidth\":2,\"linecolor\":\"white\",\"showbackground\":true,\"ticks\":\"\",\"zerolinecolor\":\"white\"}},\"shapedefaults\":{\"line\":{\"color\":\"#2a3f5f\"}},\"ternary\":{\"aaxis\":{\"gridcolor\":\"white\",\"linecolor\":\"white\",\"ticks\":\"\"},\"baxis\":{\"gridcolor\":\"white\",\"linecolor\":\"white\",\"ticks\":\"\"},\"bgcolor\":\"#E5ECF6\",\"caxis\":{\"gridcolor\":\"white\",\"linecolor\":\"white\",\"ticks\":\"\"}},\"title\":{\"x\":0.05},\"xaxis\":{\"automargin\":true,\"gridcolor\":\"white\",\"linecolor\":\"white\",\"ticks\":\"\",\"title\":{\"standoff\":15},\"zerolinecolor\":\"white\",\"zerolinewidth\":2},\"yaxis\":{\"automargin\":true,\"gridcolor\":\"white\",\"linecolor\":\"white\",\"ticks\":\"\",\"title\":{\"standoff\":15},\"zerolinecolor\":\"white\",\"zerolinewidth\":2}}},\"xaxis\":{\"anchor\":\"y\",\"domain\":[0.0,1.0],\"title\":{\"text\":\"month\"}},\"yaxis\":{\"anchor\":\"x\",\"domain\":[0.0,1.0],\"title\":{\"text\":\"cases\"}},\"legend\":{\"title\":{\"text\":\"year\"},\"tracegroupgap\":0},\"title\":{\"text\":\"Number of Signup Cases for Monthly Subscriptions\"}},                        {\"responsive\": true}                    )                };                            </script>        </div>\n",
       "</body>\n",
       "</html>"
      ]
     },
     "metadata": {
      "application/vnd.databricks.v1+output": {
       "addedWidgets": {},
       "arguments": {},
       "data": "<html>\n<head><meta charset=\"utf-8\" /></head>\n<body>\n    <div>            <script src=\"https://cdnjs.cloudflare.com/ajax/libs/mathjax/2.7.5/MathJax.js?config=TeX-AMS-MML_SVG\"></script><script type=\"text/javascript\">if (window.MathJax) {MathJax.Hub.Config({SVG: {font: \"STIX-Web\"}});}</script>                <script type=\"text/javascript\">window.PlotlyConfig = {MathJaxConfig: 'local'};</script>\n        <script src=\"https://cdn.plot.ly/plotly-2.9.0.min.js\"></script>                <div id=\"3f6e23eb-67cb-42b9-a1b9-3333ca3cafa3\" class=\"plotly-graph-div\" style=\"height:100%; width:100%;\"></div>            <script type=\"text/javascript\">                                    window.PLOTLYENV=window.PLOTLYENV || {};                                    if (document.getElementById(\"3f6e23eb-67cb-42b9-a1b9-3333ca3cafa3\")) {                    Plotly.newPlot(                        \"3f6e23eb-67cb-42b9-a1b9-3333ca3cafa3\",                        [{\"hovertemplate\":\"year=2017<br>month=%{x}<br>cases=%{y}<extra></extra>\",\"legendgroup\":\"2017\",\"line\":{\"color\":\"#636efa\",\"dash\":\"solid\"},\"marker\":{\"symbol\":\"circle\"},\"mode\":\"lines\",\"name\":\"2017\",\"orientation\":\"v\",\"showlegend\":true,\"x\":[1,2,3,4,5,6,7,8,9,10,11,12],\"xaxis\":\"x\",\"y\":[244,224,263,249,250,186,167,138,93,83,50,35],\"yaxis\":\"y\",\"type\":\"scatter\"},{\"hovertemplate\":\"year=2018<br>month=%{x}<br>cases=%{y}<extra></extra>\",\"legendgroup\":\"2018\",\"line\":{\"color\":\"#EF553B\",\"dash\":\"solid\"},\"marker\":{\"symbol\":\"circle\"},\"mode\":\"lines\",\"name\":\"2018\",\"orientation\":\"v\",\"showlegend\":true,\"x\":[1,2,3,4,5,6,7,8,9,10,11,12],\"xaxis\":\"x\",\"y\":[474,465,459,449,465,376,379,317,271,237,185,143],\"yaxis\":\"y\",\"type\":\"scatter\"},{\"hovertemplate\":\"year=2019<br>month=%{x}<br>cases=%{y}<extra></extra>\",\"legendgroup\":\"2019\",\"line\":{\"color\":\"#00cc96\",\"dash\":\"solid\"},\"marker\":{\"symbol\":\"circle\"},\"mode\":\"lines\",\"name\":\"2019\",\"orientation\":\"v\",\"showlegend\":true,\"x\":[1,2,3,4,5,6,7,8,9,10,11,12],\"xaxis\":\"x\",\"y\":[933,777,945,933,977,836,848,741,634,631,497,493],\"yaxis\":\"y\",\"type\":\"scatter\"},{\"hovertemplate\":\"year=2020<br>month=%{x}<br>cases=%{y}<extra></extra>\",\"legendgroup\":\"2020\",\"line\":{\"color\":\"#ab63fa\",\"dash\":\"solid\"},\"marker\":{\"symbol\":\"circle\"},\"mode\":\"lines\",\"name\":\"2020\",\"orientation\":\"v\",\"showlegend\":true,\"x\":[1,2,3,4,5,6,7,8,9,10,11,12],\"xaxis\":\"x\",\"y\":[1716,1534,1655,1630,1604,1575,1461,1248,1120,1013,784,735],\"yaxis\":\"y\",\"type\":\"scatter\"},{\"hovertemplate\":\"year=2021<br>month=%{x}<br>cases=%{y}<extra></extra>\",\"legendgroup\":\"2021\",\"line\":{\"color\":\"#FFA15A\",\"dash\":\"solid\"},\"marker\":{\"symbol\":\"circle\"},\"mode\":\"lines\",\"name\":\"2021\",\"orientation\":\"v\",\"showlegend\":true,\"x\":[1,2,3,4,5,6,7,8,9,10,11,12],\"xaxis\":\"x\",\"y\":[2303,2252,2593,2480,2386,2298,2021,1772,1495,1206,1097,888],\"yaxis\":\"y\",\"type\":\"scatter\"}],                        {\"template\":{\"data\":{\"bar\":[{\"error_x\":{\"color\":\"#2a3f5f\"},\"error_y\":{\"color\":\"#2a3f5f\"},\"marker\":{\"line\":{\"color\":\"#E5ECF6\",\"width\":0.5},\"pattern\":{\"fillmode\":\"overlay\",\"size\":10,\"solidity\":0.2}},\"type\":\"bar\"}],\"barpolar\":[{\"marker\":{\"line\":{\"color\":\"#E5ECF6\",\"width\":0.5},\"pattern\":{\"fillmode\":\"overlay\",\"size\":10,\"solidity\":0.2}},\"type\":\"barpolar\"}],\"carpet\":[{\"aaxis\":{\"endlinecolor\":\"#2a3f5f\",\"gridcolor\":\"white\",\"linecolor\":\"white\",\"minorgridcolor\":\"white\",\"startlinecolor\":\"#2a3f5f\"},\"baxis\":{\"endlinecolor\":\"#2a3f5f\",\"gridcolor\":\"white\",\"linecolor\":\"white\",\"minorgridcolor\":\"white\",\"startlinecolor\":\"#2a3f5f\"},\"type\":\"carpet\"}],\"choropleth\":[{\"colorbar\":{\"outlinewidth\":0,\"ticks\":\"\"},\"type\":\"choropleth\"}],\"contour\":[{\"colorbar\":{\"outlinewidth\":0,\"ticks\":\"\"},\"colorscale\":[[0.0,\"#0d0887\"],[0.1111111111111111,\"#46039f\"],[0.2222222222222222,\"#7201a8\"],[0.3333333333333333,\"#9c179e\"],[0.4444444444444444,\"#bd3786\"],[0.5555555555555556,\"#d8576b\"],[0.6666666666666666,\"#ed7953\"],[0.7777777777777778,\"#fb9f3a\"],[0.8888888888888888,\"#fdca26\"],[1.0,\"#f0f921\"]],\"type\":\"contour\"}],\"contourcarpet\":[{\"colorbar\":{\"outlinewidth\":0,\"ticks\":\"\"},\"type\":\"contourcarpet\"}],\"heatmap\":[{\"colorbar\":{\"outlinewidth\":0,\"ticks\":\"\"},\"colorscale\":[[0.0,\"#0d0887\"],[0.1111111111111111,\"#46039f\"],[0.2222222222222222,\"#7201a8\"],[0.3333333333333333,\"#9c179e\"],[0.4444444444444444,\"#bd3786\"],[0.5555555555555556,\"#d8576b\"],[0.6666666666666666,\"#ed7953\"],[0.7777777777777778,\"#fb9f3a\"],[0.8888888888888888,\"#fdca26\"],[1.0,\"#f0f921\"]],\"type\":\"heatmap\"}],\"heatmapgl\":[{\"colorbar\":{\"outlinewidth\":0,\"ticks\":\"\"},\"colorscale\":[[0.0,\"#0d0887\"],[0.1111111111111111,\"#46039f\"],[0.2222222222222222,\"#7201a8\"],[0.3333333333333333,\"#9c179e\"],[0.4444444444444444,\"#bd3786\"],[0.5555555555555556,\"#d8576b\"],[0.6666666666666666,\"#ed7953\"],[0.7777777777777778,\"#fb9f3a\"],[0.8888888888888888,\"#fdca26\"],[1.0,\"#f0f921\"]],\"type\":\"heatmapgl\"}],\"histogram\":[{\"marker\":{\"pattern\":{\"fillmode\":\"overlay\",\"size\":10,\"solidity\":0.2}},\"type\":\"histogram\"}],\"histogram2d\":[{\"colorbar\":{\"outlinewidth\":0,\"ticks\":\"\"},\"colorscale\":[[0.0,\"#0d0887\"],[0.1111111111111111,\"#46039f\"],[0.2222222222222222,\"#7201a8\"],[0.3333333333333333,\"#9c179e\"],[0.4444444444444444,\"#bd3786\"],[0.5555555555555556,\"#d8576b\"],[0.6666666666666666,\"#ed7953\"],[0.7777777777777778,\"#fb9f3a\"],[0.8888888888888888,\"#fdca26\"],[1.0,\"#f0f921\"]],\"type\":\"histogram2d\"}],\"histogram2dcontour\":[{\"colorbar\":{\"outlinewidth\":0,\"ticks\":\"\"},\"colorscale\":[[0.0,\"#0d0887\"],[0.1111111111111111,\"#46039f\"],[0.2222222222222222,\"#7201a8\"],[0.3333333333333333,\"#9c179e\"],[0.4444444444444444,\"#bd3786\"],[0.5555555555555556,\"#d8576b\"],[0.6666666666666666,\"#ed7953\"],[0.7777777777777778,\"#fb9f3a\"],[0.8888888888888888,\"#fdca26\"],[1.0,\"#f0f921\"]],\"type\":\"histogram2dcontour\"}],\"mesh3d\":[{\"colorbar\":{\"outlinewidth\":0,\"ticks\":\"\"},\"type\":\"mesh3d\"}],\"parcoords\":[{\"line\":{\"colorbar\":{\"outlinewidth\":0,\"ticks\":\"\"}},\"type\":\"parcoords\"}],\"pie\":[{\"automargin\":true,\"type\":\"pie\"}],\"scatter\":[{\"marker\":{\"colorbar\":{\"outlinewidth\":0,\"ticks\":\"\"}},\"type\":\"scatter\"}],\"scatter3d\":[{\"line\":{\"colorbar\":{\"outlinewidth\":0,\"ticks\":\"\"}},\"marker\":{\"colorbar\":{\"outlinewidth\":0,\"ticks\":\"\"}},\"type\":\"scatter3d\"}],\"scattercarpet\":[{\"marker\":{\"colorbar\":{\"outlinewidth\":0,\"ticks\":\"\"}},\"type\":\"scattercarpet\"}],\"scattergeo\":[{\"marker\":{\"colorbar\":{\"outlinewidth\":0,\"ticks\":\"\"}},\"type\":\"scattergeo\"}],\"scattergl\":[{\"marker\":{\"colorbar\":{\"outlinewidth\":0,\"ticks\":\"\"}},\"type\":\"scattergl\"}],\"scattermapbox\":[{\"marker\":{\"colorbar\":{\"outlinewidth\":0,\"ticks\":\"\"}},\"type\":\"scattermapbox\"}],\"scatterpolar\":[{\"marker\":{\"colorbar\":{\"outlinewidth\":0,\"ticks\":\"\"}},\"type\":\"scatterpolar\"}],\"scatterpolargl\":[{\"marker\":{\"colorbar\":{\"outlinewidth\":0,\"ticks\":\"\"}},\"type\":\"scatterpolargl\"}],\"scatterternary\":[{\"marker\":{\"colorbar\":{\"outlinewidth\":0,\"ticks\":\"\"}},\"type\":\"scatterternary\"}],\"surface\":[{\"colorbar\":{\"outlinewidth\":0,\"ticks\":\"\"},\"colorscale\":[[0.0,\"#0d0887\"],[0.1111111111111111,\"#46039f\"],[0.2222222222222222,\"#7201a8\"],[0.3333333333333333,\"#9c179e\"],[0.4444444444444444,\"#bd3786\"],[0.5555555555555556,\"#d8576b\"],[0.6666666666666666,\"#ed7953\"],[0.7777777777777778,\"#fb9f3a\"],[0.8888888888888888,\"#fdca26\"],[1.0,\"#f0f921\"]],\"type\":\"surface\"}],\"table\":[{\"cells\":{\"fill\":{\"color\":\"#EBF0F8\"},\"line\":{\"color\":\"white\"}},\"header\":{\"fill\":{\"color\":\"#C8D4E3\"},\"line\":{\"color\":\"white\"}},\"type\":\"table\"}]},\"layout\":{\"annotationdefaults\":{\"arrowcolor\":\"#2a3f5f\",\"arrowhead\":0,\"arrowwidth\":1},\"autotypenumbers\":\"strict\",\"coloraxis\":{\"colorbar\":{\"outlinewidth\":0,\"ticks\":\"\"}},\"colorscale\":{\"diverging\":[[0,\"#8e0152\"],[0.1,\"#c51b7d\"],[0.2,\"#de77ae\"],[0.3,\"#f1b6da\"],[0.4,\"#fde0ef\"],[0.5,\"#f7f7f7\"],[0.6,\"#e6f5d0\"],[0.7,\"#b8e186\"],[0.8,\"#7fbc41\"],[0.9,\"#4d9221\"],[1,\"#276419\"]],\"sequential\":[[0.0,\"#0d0887\"],[0.1111111111111111,\"#46039f\"],[0.2222222222222222,\"#7201a8\"],[0.3333333333333333,\"#9c179e\"],[0.4444444444444444,\"#bd3786\"],[0.5555555555555556,\"#d8576b\"],[0.6666666666666666,\"#ed7953\"],[0.7777777777777778,\"#fb9f3a\"],[0.8888888888888888,\"#fdca26\"],[1.0,\"#f0f921\"]],\"sequentialminus\":[[0.0,\"#0d0887\"],[0.1111111111111111,\"#46039f\"],[0.2222222222222222,\"#7201a8\"],[0.3333333333333333,\"#9c179e\"],[0.4444444444444444,\"#bd3786\"],[0.5555555555555556,\"#d8576b\"],[0.6666666666666666,\"#ed7953\"],[0.7777777777777778,\"#fb9f3a\"],[0.8888888888888888,\"#fdca26\"],[1.0,\"#f0f921\"]]},\"colorway\":[\"#636efa\",\"#EF553B\",\"#00cc96\",\"#ab63fa\",\"#FFA15A\",\"#19d3f3\",\"#FF6692\",\"#B6E880\",\"#FF97FF\",\"#FECB52\"],\"font\":{\"color\":\"#2a3f5f\"},\"geo\":{\"bgcolor\":\"white\",\"lakecolor\":\"white\",\"landcolor\":\"#E5ECF6\",\"showlakes\":true,\"showland\":true,\"subunitcolor\":\"white\"},\"hoverlabel\":{\"align\":\"left\"},\"hovermode\":\"closest\",\"mapbox\":{\"style\":\"light\"},\"paper_bgcolor\":\"white\",\"plot_bgcolor\":\"#E5ECF6\",\"polar\":{\"angularaxis\":{\"gridcolor\":\"white\",\"linecolor\":\"white\",\"ticks\":\"\"},\"bgcolor\":\"#E5ECF6\",\"radialaxis\":{\"gridcolor\":\"white\",\"linecolor\":\"white\",\"ticks\":\"\"}},\"scene\":{\"xaxis\":{\"backgroundcolor\":\"#E5ECF6\",\"gridcolor\":\"white\",\"gridwidth\":2,\"linecolor\":\"white\",\"showbackground\":true,\"ticks\":\"\",\"zerolinecolor\":\"white\"},\"yaxis\":{\"backgroundcolor\":\"#E5ECF6\",\"gridcolor\":\"white\",\"gridwidth\":2,\"linecolor\":\"white\",\"showbackground\":true,\"ticks\":\"\",\"zerolinecolor\":\"white\"},\"zaxis\":{\"backgroundcolor\":\"#E5ECF6\",\"gridcolor\":\"white\",\"gridwidth\":2,\"linecolor\":\"white\",\"showbackground\":true,\"ticks\":\"\",\"zerolinecolor\":\"white\"}},\"shapedefaults\":{\"line\":{\"color\":\"#2a3f5f\"}},\"ternary\":{\"aaxis\":{\"gridcolor\":\"white\",\"linecolor\":\"white\",\"ticks\":\"\"},\"baxis\":{\"gridcolor\":\"white\",\"linecolor\":\"white\",\"ticks\":\"\"},\"bgcolor\":\"#E5ECF6\",\"caxis\":{\"gridcolor\":\"white\",\"linecolor\":\"white\",\"ticks\":\"\"}},\"title\":{\"x\":0.05},\"xaxis\":{\"automargin\":true,\"gridcolor\":\"white\",\"linecolor\":\"white\",\"ticks\":\"\",\"title\":{\"standoff\":15},\"zerolinecolor\":\"white\",\"zerolinewidth\":2},\"yaxis\":{\"automargin\":true,\"gridcolor\":\"white\",\"linecolor\":\"white\",\"ticks\":\"\",\"title\":{\"standoff\":15},\"zerolinecolor\":\"white\",\"zerolinewidth\":2}}},\"xaxis\":{\"anchor\":\"y\",\"domain\":[0.0,1.0],\"title\":{\"text\":\"month\"}},\"yaxis\":{\"anchor\":\"x\",\"domain\":[0.0,1.0],\"title\":{\"text\":\"cases\"}},\"legend\":{\"title\":{\"text\":\"year\"},\"tracegroupgap\":0},\"title\":{\"text\":\"Number of Signup Cases for Monthly Subscriptions\"}},                        {\"responsive\": true}                    )                };                            </script>        </div>\n</body>\n</html>",
       "datasetInfos": [],
       "metadata": {},
       "removedWidgets": [],
       "textData": null,
       "type": "htmlSandbox"
      }
     },
     "output_type": "display_data"
    }
   ],
   "source": [
    "import pandas as pd\n",
    "import plotly.express as px\n",
    "\n",
    "df_cases= _sqldf.toPandas()\n",
    "df_filtered = df_cases[df_cases['reason'] == 'signup']\n",
    "fig = px.line(df_filtered, x='month', y='cases', color='year',\n",
    "              title='Number of Signup Cases for Monthly Subscriptions')\n",
    "fig.show()"
   ]
  },
  {
   "cell_type": "markdown",
   "metadata": {
    "application/vnd.databricks.v1+cell": {
     "cellMetadata": {
      "byteLimit": 2048000,
      "rowLimit": 10000
     },
     "inputWidgets": {},
     "nuid": "c28cdcfd-7913-4331-94fe-c9a7b2a525eb",
     "showTitle": false,
     "title": ""
    }
   },
   "source": [
    "Monthly model signups exhibit a consistent decline towards the end of each year."
   ]
  },
  {
   "cell_type": "code",
   "execution_count": 0,
   "metadata": {
    "application/vnd.databricks.v1+cell": {
     "cellMetadata": {
      "byteLimit": 2048000,
      "implicitDf": true,
      "rowLimit": 10000
     },
     "inputWidgets": {},
     "nuid": "45173541-db3e-4d6a-a399-d3b1d03744e3",
     "showTitle": false,
     "title": ""
    }
   },
   "outputs": [
    {
     "output_type": "display_data",
     "data": {
      "text/html": [
       "<html>\n",
       "<head><meta charset=\"utf-8\" /></head>\n",
       "<body>\n",
       "    <div>            <script src=\"https://cdnjs.cloudflare.com/ajax/libs/mathjax/2.7.5/MathJax.js?config=TeX-AMS-MML_SVG\"></script><script type=\"text/javascript\">if (window.MathJax) {MathJax.Hub.Config({SVG: {font: \"STIX-Web\"}});}</script>                <script type=\"text/javascript\">window.PlotlyConfig = {MathJaxConfig: 'local'};</script>\n",
       "        <script src=\"https://cdn.plot.ly/plotly-2.9.0.min.js\"></script>                <div id=\"666c50a6-2089-4d32-81e5-327b3289bd21\" class=\"plotly-graph-div\" style=\"height:100%; width:100%;\"></div>            <script type=\"text/javascript\">                                    window.PLOTLYENV=window.PLOTLYENV || {};                                    if (document.getElementById(\"666c50a6-2089-4d32-81e5-327b3289bd21\")) {                    Plotly.newPlot(                        \"666c50a6-2089-4d32-81e5-327b3289bd21\",                        [{\"hovertemplate\":\"year=2017<br>month=%{x}<br>cases=%{y}<extra></extra>\",\"legendgroup\":\"2017\",\"line\":{\"color\":\"#636efa\",\"dash\":\"solid\"},\"marker\":{\"symbol\":\"circle\"},\"mode\":\"lines\",\"name\":\"2017\",\"orientation\":\"v\",\"showlegend\":true,\"x\":[1,2,3,4,5,6,7,8,9,10,11,12],\"xaxis\":\"x\",\"y\":[26,54,89,122,182,186,220,230,212,222,206,176],\"yaxis\":\"y\",\"type\":\"scatter\"},{\"hovertemplate\":\"year=2018<br>month=%{x}<br>cases=%{y}<extra></extra>\",\"legendgroup\":\"2018\",\"line\":{\"color\":\"#EF553B\",\"dash\":\"solid\"},\"marker\":{\"symbol\":\"circle\"},\"mode\":\"lines\",\"name\":\"2018\",\"orientation\":\"v\",\"showlegend\":true,\"x\":[1,2,3,4,5,6,7,8,9,10,11,12],\"xaxis\":\"x\",\"y\":[220,251,294,339,448,484,474,507,498,509,457,427],\"yaxis\":\"y\",\"type\":\"scatter\"},{\"hovertemplate\":\"year=2019<br>month=%{x}<br>cases=%{y}<extra></extra>\",\"legendgroup\":\"2019\",\"line\":{\"color\":\"#00cc96\",\"dash\":\"solid\"},\"marker\":{\"symbol\":\"circle\"},\"mode\":\"lines\",\"name\":\"2019\",\"orientation\":\"v\",\"showlegend\":true,\"x\":[1,2,3,4,5,6,7,8,9,10,11,12],\"xaxis\":\"x\",\"y\":[456,499,623,707,792,923,851,920,888,906,836,770],\"yaxis\":\"y\",\"type\":\"scatter\"},{\"hovertemplate\":\"year=2020<br>month=%{x}<br>cases=%{y}<extra></extra>\",\"legendgroup\":\"2020\",\"line\":{\"color\":\"#ab63fa\",\"dash\":\"solid\"},\"marker\":{\"symbol\":\"circle\"},\"mode\":\"lines\",\"name\":\"2020\",\"orientation\":\"v\",\"showlegend\":true,\"x\":[1,2,3,4,5,6,7,8,9,10,11,12],\"xaxis\":\"x\",\"y\":[875,1027,1259,1439,1681,1735,1858,2011,1760,1796,1750,1601],\"yaxis\":\"y\",\"type\":\"scatter\"},{\"hovertemplate\":\"year=2021<br>month=%{x}<br>cases=%{y}<extra></extra>\",\"legendgroup\":\"2021\",\"line\":{\"color\":\"#FFA15A\",\"dash\":\"solid\"},\"marker\":{\"symbol\":\"circle\"},\"mode\":\"lines\",\"name\":\"2021\",\"orientation\":\"v\",\"showlegend\":true,\"x\":[1,2,3,4,5,6,7,8,9,10,11,12],\"xaxis\":\"x\",\"y\":[2006,2695,4165,5013,6235,6634,7644,8141,8297,8178,7356,6811],\"yaxis\":\"y\",\"type\":\"scatter\"},{\"hovertemplate\":\"year=2022<br>month=%{x}<br>cases=%{y}<extra></extra>\",\"legendgroup\":\"2022\",\"line\":{\"color\":\"#19d3f3\",\"dash\":\"solid\"},\"marker\":{\"symbol\":\"circle\"},\"mode\":\"lines\",\"name\":\"2022\",\"orientation\":\"v\",\"showlegend\":true,\"x\":[1],\"xaxis\":\"x\",\"y\":[1],\"yaxis\":\"y\",\"type\":\"scatter\"}],                        {\"template\":{\"data\":{\"bar\":[{\"error_x\":{\"color\":\"#2a3f5f\"},\"error_y\":{\"color\":\"#2a3f5f\"},\"marker\":{\"line\":{\"color\":\"#E5ECF6\",\"width\":0.5},\"pattern\":{\"fillmode\":\"overlay\",\"size\":10,\"solidity\":0.2}},\"type\":\"bar\"}],\"barpolar\":[{\"marker\":{\"line\":{\"color\":\"#E5ECF6\",\"width\":0.5},\"pattern\":{\"fillmode\":\"overlay\",\"size\":10,\"solidity\":0.2}},\"type\":\"barpolar\"}],\"carpet\":[{\"aaxis\":{\"endlinecolor\":\"#2a3f5f\",\"gridcolor\":\"white\",\"linecolor\":\"white\",\"minorgridcolor\":\"white\",\"startlinecolor\":\"#2a3f5f\"},\"baxis\":{\"endlinecolor\":\"#2a3f5f\",\"gridcolor\":\"white\",\"linecolor\":\"white\",\"minorgridcolor\":\"white\",\"startlinecolor\":\"#2a3f5f\"},\"type\":\"carpet\"}],\"choropleth\":[{\"colorbar\":{\"outlinewidth\":0,\"ticks\":\"\"},\"type\":\"choropleth\"}],\"contour\":[{\"colorbar\":{\"outlinewidth\":0,\"ticks\":\"\"},\"colorscale\":[[0.0,\"#0d0887\"],[0.1111111111111111,\"#46039f\"],[0.2222222222222222,\"#7201a8\"],[0.3333333333333333,\"#9c179e\"],[0.4444444444444444,\"#bd3786\"],[0.5555555555555556,\"#d8576b\"],[0.6666666666666666,\"#ed7953\"],[0.7777777777777778,\"#fb9f3a\"],[0.8888888888888888,\"#fdca26\"],[1.0,\"#f0f921\"]],\"type\":\"contour\"}],\"contourcarpet\":[{\"colorbar\":{\"outlinewidth\":0,\"ticks\":\"\"},\"type\":\"contourcarpet\"}],\"heatmap\":[{\"colorbar\":{\"outlinewidth\":0,\"ticks\":\"\"},\"colorscale\":[[0.0,\"#0d0887\"],[0.1111111111111111,\"#46039f\"],[0.2222222222222222,\"#7201a8\"],[0.3333333333333333,\"#9c179e\"],[0.4444444444444444,\"#bd3786\"],[0.5555555555555556,\"#d8576b\"],[0.6666666666666666,\"#ed7953\"],[0.7777777777777778,\"#fb9f3a\"],[0.8888888888888888,\"#fdca26\"],[1.0,\"#f0f921\"]],\"type\":\"heatmap\"}],\"heatmapgl\":[{\"colorbar\":{\"outlinewidth\":0,\"ticks\":\"\"},\"colorscale\":[[0.0,\"#0d0887\"],[0.1111111111111111,\"#46039f\"],[0.2222222222222222,\"#7201a8\"],[0.3333333333333333,\"#9c179e\"],[0.4444444444444444,\"#bd3786\"],[0.5555555555555556,\"#d8576b\"],[0.6666666666666666,\"#ed7953\"],[0.7777777777777778,\"#fb9f3a\"],[0.8888888888888888,\"#fdca26\"],[1.0,\"#f0f921\"]],\"type\":\"heatmapgl\"}],\"histogram\":[{\"marker\":{\"pattern\":{\"fillmode\":\"overlay\",\"size\":10,\"solidity\":0.2}},\"type\":\"histogram\"}],\"histogram2d\":[{\"colorbar\":{\"outlinewidth\":0,\"ticks\":\"\"},\"colorscale\":[[0.0,\"#0d0887\"],[0.1111111111111111,\"#46039f\"],[0.2222222222222222,\"#7201a8\"],[0.3333333333333333,\"#9c179e\"],[0.4444444444444444,\"#bd3786\"],[0.5555555555555556,\"#d8576b\"],[0.6666666666666666,\"#ed7953\"],[0.7777777777777778,\"#fb9f3a\"],[0.8888888888888888,\"#fdca26\"],[1.0,\"#f0f921\"]],\"type\":\"histogram2d\"}],\"histogram2dcontour\":[{\"colorbar\":{\"outlinewidth\":0,\"ticks\":\"\"},\"colorscale\":[[0.0,\"#0d0887\"],[0.1111111111111111,\"#46039f\"],[0.2222222222222222,\"#7201a8\"],[0.3333333333333333,\"#9c179e\"],[0.4444444444444444,\"#bd3786\"],[0.5555555555555556,\"#d8576b\"],[0.6666666666666666,\"#ed7953\"],[0.7777777777777778,\"#fb9f3a\"],[0.8888888888888888,\"#fdca26\"],[1.0,\"#f0f921\"]],\"type\":\"histogram2dcontour\"}],\"mesh3d\":[{\"colorbar\":{\"outlinewidth\":0,\"ticks\":\"\"},\"type\":\"mesh3d\"}],\"parcoords\":[{\"line\":{\"colorbar\":{\"outlinewidth\":0,\"ticks\":\"\"}},\"type\":\"parcoords\"}],\"pie\":[{\"automargin\":true,\"type\":\"pie\"}],\"scatter\":[{\"marker\":{\"colorbar\":{\"outlinewidth\":0,\"ticks\":\"\"}},\"type\":\"scatter\"}],\"scatter3d\":[{\"line\":{\"colorbar\":{\"outlinewidth\":0,\"ticks\":\"\"}},\"marker\":{\"colorbar\":{\"outlinewidth\":0,\"ticks\":\"\"}},\"type\":\"scatter3d\"}],\"scattercarpet\":[{\"marker\":{\"colorbar\":{\"outlinewidth\":0,\"ticks\":\"\"}},\"type\":\"scattercarpet\"}],\"scattergeo\":[{\"marker\":{\"colorbar\":{\"outlinewidth\":0,\"ticks\":\"\"}},\"type\":\"scattergeo\"}],\"scattergl\":[{\"marker\":{\"colorbar\":{\"outlinewidth\":0,\"ticks\":\"\"}},\"type\":\"scattergl\"}],\"scattermapbox\":[{\"marker\":{\"colorbar\":{\"outlinewidth\":0,\"ticks\":\"\"}},\"type\":\"scattermapbox\"}],\"scatterpolar\":[{\"marker\":{\"colorbar\":{\"outlinewidth\":0,\"ticks\":\"\"}},\"type\":\"scatterpolar\"}],\"scatterpolargl\":[{\"marker\":{\"colorbar\":{\"outlinewidth\":0,\"ticks\":\"\"}},\"type\":\"scatterpolargl\"}],\"scatterternary\":[{\"marker\":{\"colorbar\":{\"outlinewidth\":0,\"ticks\":\"\"}},\"type\":\"scatterternary\"}],\"surface\":[{\"colorbar\":{\"outlinewidth\":0,\"ticks\":\"\"},\"colorscale\":[[0.0,\"#0d0887\"],[0.1111111111111111,\"#46039f\"],[0.2222222222222222,\"#7201a8\"],[0.3333333333333333,\"#9c179e\"],[0.4444444444444444,\"#bd3786\"],[0.5555555555555556,\"#d8576b\"],[0.6666666666666666,\"#ed7953\"],[0.7777777777777778,\"#fb9f3a\"],[0.8888888888888888,\"#fdca26\"],[1.0,\"#f0f921\"]],\"type\":\"surface\"}],\"table\":[{\"cells\":{\"fill\":{\"color\":\"#EBF0F8\"},\"line\":{\"color\":\"white\"}},\"header\":{\"fill\":{\"color\":\"#C8D4E3\"},\"line\":{\"color\":\"white\"}},\"type\":\"table\"}]},\"layout\":{\"annotationdefaults\":{\"arrowcolor\":\"#2a3f5f\",\"arrowhead\":0,\"arrowwidth\":1},\"autotypenumbers\":\"strict\",\"coloraxis\":{\"colorbar\":{\"outlinewidth\":0,\"ticks\":\"\"}},\"colorscale\":{\"diverging\":[[0,\"#8e0152\"],[0.1,\"#c51b7d\"],[0.2,\"#de77ae\"],[0.3,\"#f1b6da\"],[0.4,\"#fde0ef\"],[0.5,\"#f7f7f7\"],[0.6,\"#e6f5d0\"],[0.7,\"#b8e186\"],[0.8,\"#7fbc41\"],[0.9,\"#4d9221\"],[1,\"#276419\"]],\"sequential\":[[0.0,\"#0d0887\"],[0.1111111111111111,\"#46039f\"],[0.2222222222222222,\"#7201a8\"],[0.3333333333333333,\"#9c179e\"],[0.4444444444444444,\"#bd3786\"],[0.5555555555555556,\"#d8576b\"],[0.6666666666666666,\"#ed7953\"],[0.7777777777777778,\"#fb9f3a\"],[0.8888888888888888,\"#fdca26\"],[1.0,\"#f0f921\"]],\"sequentialminus\":[[0.0,\"#0d0887\"],[0.1111111111111111,\"#46039f\"],[0.2222222222222222,\"#7201a8\"],[0.3333333333333333,\"#9c179e\"],[0.4444444444444444,\"#bd3786\"],[0.5555555555555556,\"#d8576b\"],[0.6666666666666666,\"#ed7953\"],[0.7777777777777778,\"#fb9f3a\"],[0.8888888888888888,\"#fdca26\"],[1.0,\"#f0f921\"]]},\"colorway\":[\"#636efa\",\"#EF553B\",\"#00cc96\",\"#ab63fa\",\"#FFA15A\",\"#19d3f3\",\"#FF6692\",\"#B6E880\",\"#FF97FF\",\"#FECB52\"],\"font\":{\"color\":\"#2a3f5f\"},\"geo\":{\"bgcolor\":\"white\",\"lakecolor\":\"white\",\"landcolor\":\"#E5ECF6\",\"showlakes\":true,\"showland\":true,\"subunitcolor\":\"white\"},\"hoverlabel\":{\"align\":\"left\"},\"hovermode\":\"closest\",\"mapbox\":{\"style\":\"light\"},\"paper_bgcolor\":\"white\",\"plot_bgcolor\":\"#E5ECF6\",\"polar\":{\"angularaxis\":{\"gridcolor\":\"white\",\"linecolor\":\"white\",\"ticks\":\"\"},\"bgcolor\":\"#E5ECF6\",\"radialaxis\":{\"gridcolor\":\"white\",\"linecolor\":\"white\",\"ticks\":\"\"}},\"scene\":{\"xaxis\":{\"backgroundcolor\":\"#E5ECF6\",\"gridcolor\":\"white\",\"gridwidth\":2,\"linecolor\":\"white\",\"showbackground\":true,\"ticks\":\"\",\"zerolinecolor\":\"white\"},\"yaxis\":{\"backgroundcolor\":\"#E5ECF6\",\"gridcolor\":\"white\",\"gridwidth\":2,\"linecolor\":\"white\",\"showbackground\":true,\"ticks\":\"\",\"zerolinecolor\":\"white\"},\"zaxis\":{\"backgroundcolor\":\"#E5ECF6\",\"gridcolor\":\"white\",\"gridwidth\":2,\"linecolor\":\"white\",\"showbackground\":true,\"ticks\":\"\",\"zerolinecolor\":\"white\"}},\"shapedefaults\":{\"line\":{\"color\":\"#2a3f5f\"}},\"ternary\":{\"aaxis\":{\"gridcolor\":\"white\",\"linecolor\":\"white\",\"ticks\":\"\"},\"baxis\":{\"gridcolor\":\"white\",\"linecolor\":\"white\",\"ticks\":\"\"},\"bgcolor\":\"#E5ECF6\",\"caxis\":{\"gridcolor\":\"white\",\"linecolor\":\"white\",\"ticks\":\"\"}},\"title\":{\"x\":0.05},\"xaxis\":{\"automargin\":true,\"gridcolor\":\"white\",\"linecolor\":\"white\",\"ticks\":\"\",\"title\":{\"standoff\":15},\"zerolinecolor\":\"white\",\"zerolinewidth\":2},\"yaxis\":{\"automargin\":true,\"gridcolor\":\"white\",\"linecolor\":\"white\",\"ticks\":\"\",\"title\":{\"standoff\":15},\"zerolinecolor\":\"white\",\"zerolinewidth\":2}}},\"xaxis\":{\"anchor\":\"y\",\"domain\":[0.0,1.0],\"title\":{\"text\":\"month\"}},\"yaxis\":{\"anchor\":\"x\",\"domain\":[0.0,1.0],\"title\":{\"text\":\"cases\"}},\"legend\":{\"title\":{\"text\":\"year\"},\"tracegroupgap\":0},\"title\":{\"text\":\"Number of Support Cases for Monthly Subscriptions\"}},                        {\"responsive\": true}                    )                };                            </script>        </div>\n",
       "</body>\n",
       "</html>"
      ]
     },
     "metadata": {
      "application/vnd.databricks.v1+output": {
       "addedWidgets": {},
       "arguments": {},
       "data": "<html>\n<head><meta charset=\"utf-8\" /></head>\n<body>\n    <div>            <script src=\"https://cdnjs.cloudflare.com/ajax/libs/mathjax/2.7.5/MathJax.js?config=TeX-AMS-MML_SVG\"></script><script type=\"text/javascript\">if (window.MathJax) {MathJax.Hub.Config({SVG: {font: \"STIX-Web\"}});}</script>                <script type=\"text/javascript\">window.PlotlyConfig = {MathJaxConfig: 'local'};</script>\n        <script src=\"https://cdn.plot.ly/plotly-2.9.0.min.js\"></script>                <div id=\"666c50a6-2089-4d32-81e5-327b3289bd21\" class=\"plotly-graph-div\" style=\"height:100%; width:100%;\"></div>            <script type=\"text/javascript\">                                    window.PLOTLYENV=window.PLOTLYENV || {};                                    if (document.getElementById(\"666c50a6-2089-4d32-81e5-327b3289bd21\")) {                    Plotly.newPlot(                        \"666c50a6-2089-4d32-81e5-327b3289bd21\",                        [{\"hovertemplate\":\"year=2017<br>month=%{x}<br>cases=%{y}<extra></extra>\",\"legendgroup\":\"2017\",\"line\":{\"color\":\"#636efa\",\"dash\":\"solid\"},\"marker\":{\"symbol\":\"circle\"},\"mode\":\"lines\",\"name\":\"2017\",\"orientation\":\"v\",\"showlegend\":true,\"x\":[1,2,3,4,5,6,7,8,9,10,11,12],\"xaxis\":\"x\",\"y\":[26,54,89,122,182,186,220,230,212,222,206,176],\"yaxis\":\"y\",\"type\":\"scatter\"},{\"hovertemplate\":\"year=2018<br>month=%{x}<br>cases=%{y}<extra></extra>\",\"legendgroup\":\"2018\",\"line\":{\"color\":\"#EF553B\",\"dash\":\"solid\"},\"marker\":{\"symbol\":\"circle\"},\"mode\":\"lines\",\"name\":\"2018\",\"orientation\":\"v\",\"showlegend\":true,\"x\":[1,2,3,4,5,6,7,8,9,10,11,12],\"xaxis\":\"x\",\"y\":[220,251,294,339,448,484,474,507,498,509,457,427],\"yaxis\":\"y\",\"type\":\"scatter\"},{\"hovertemplate\":\"year=2019<br>month=%{x}<br>cases=%{y}<extra></extra>\",\"legendgroup\":\"2019\",\"line\":{\"color\":\"#00cc96\",\"dash\":\"solid\"},\"marker\":{\"symbol\":\"circle\"},\"mode\":\"lines\",\"name\":\"2019\",\"orientation\":\"v\",\"showlegend\":true,\"x\":[1,2,3,4,5,6,7,8,9,10,11,12],\"xaxis\":\"x\",\"y\":[456,499,623,707,792,923,851,920,888,906,836,770],\"yaxis\":\"y\",\"type\":\"scatter\"},{\"hovertemplate\":\"year=2020<br>month=%{x}<br>cases=%{y}<extra></extra>\",\"legendgroup\":\"2020\",\"line\":{\"color\":\"#ab63fa\",\"dash\":\"solid\"},\"marker\":{\"symbol\":\"circle\"},\"mode\":\"lines\",\"name\":\"2020\",\"orientation\":\"v\",\"showlegend\":true,\"x\":[1,2,3,4,5,6,7,8,9,10,11,12],\"xaxis\":\"x\",\"y\":[875,1027,1259,1439,1681,1735,1858,2011,1760,1796,1750,1601],\"yaxis\":\"y\",\"type\":\"scatter\"},{\"hovertemplate\":\"year=2021<br>month=%{x}<br>cases=%{y}<extra></extra>\",\"legendgroup\":\"2021\",\"line\":{\"color\":\"#FFA15A\",\"dash\":\"solid\"},\"marker\":{\"symbol\":\"circle\"},\"mode\":\"lines\",\"name\":\"2021\",\"orientation\":\"v\",\"showlegend\":true,\"x\":[1,2,3,4,5,6,7,8,9,10,11,12],\"xaxis\":\"x\",\"y\":[2006,2695,4165,5013,6235,6634,7644,8141,8297,8178,7356,6811],\"yaxis\":\"y\",\"type\":\"scatter\"},{\"hovertemplate\":\"year=2022<br>month=%{x}<br>cases=%{y}<extra></extra>\",\"legendgroup\":\"2022\",\"line\":{\"color\":\"#19d3f3\",\"dash\":\"solid\"},\"marker\":{\"symbol\":\"circle\"},\"mode\":\"lines\",\"name\":\"2022\",\"orientation\":\"v\",\"showlegend\":true,\"x\":[1],\"xaxis\":\"x\",\"y\":[1],\"yaxis\":\"y\",\"type\":\"scatter\"}],                        {\"template\":{\"data\":{\"bar\":[{\"error_x\":{\"color\":\"#2a3f5f\"},\"error_y\":{\"color\":\"#2a3f5f\"},\"marker\":{\"line\":{\"color\":\"#E5ECF6\",\"width\":0.5},\"pattern\":{\"fillmode\":\"overlay\",\"size\":10,\"solidity\":0.2}},\"type\":\"bar\"}],\"barpolar\":[{\"marker\":{\"line\":{\"color\":\"#E5ECF6\",\"width\":0.5},\"pattern\":{\"fillmode\":\"overlay\",\"size\":10,\"solidity\":0.2}},\"type\":\"barpolar\"}],\"carpet\":[{\"aaxis\":{\"endlinecolor\":\"#2a3f5f\",\"gridcolor\":\"white\",\"linecolor\":\"white\",\"minorgridcolor\":\"white\",\"startlinecolor\":\"#2a3f5f\"},\"baxis\":{\"endlinecolor\":\"#2a3f5f\",\"gridcolor\":\"white\",\"linecolor\":\"white\",\"minorgridcolor\":\"white\",\"startlinecolor\":\"#2a3f5f\"},\"type\":\"carpet\"}],\"choropleth\":[{\"colorbar\":{\"outlinewidth\":0,\"ticks\":\"\"},\"type\":\"choropleth\"}],\"contour\":[{\"colorbar\":{\"outlinewidth\":0,\"ticks\":\"\"},\"colorscale\":[[0.0,\"#0d0887\"],[0.1111111111111111,\"#46039f\"],[0.2222222222222222,\"#7201a8\"],[0.3333333333333333,\"#9c179e\"],[0.4444444444444444,\"#bd3786\"],[0.5555555555555556,\"#d8576b\"],[0.6666666666666666,\"#ed7953\"],[0.7777777777777778,\"#fb9f3a\"],[0.8888888888888888,\"#fdca26\"],[1.0,\"#f0f921\"]],\"type\":\"contour\"}],\"contourcarpet\":[{\"colorbar\":{\"outlinewidth\":0,\"ticks\":\"\"},\"type\":\"contourcarpet\"}],\"heatmap\":[{\"colorbar\":{\"outlinewidth\":0,\"ticks\":\"\"},\"colorscale\":[[0.0,\"#0d0887\"],[0.1111111111111111,\"#46039f\"],[0.2222222222222222,\"#7201a8\"],[0.3333333333333333,\"#9c179e\"],[0.4444444444444444,\"#bd3786\"],[0.5555555555555556,\"#d8576b\"],[0.6666666666666666,\"#ed7953\"],[0.7777777777777778,\"#fb9f3a\"],[0.8888888888888888,\"#fdca26\"],[1.0,\"#f0f921\"]],\"type\":\"heatmap\"}],\"heatmapgl\":[{\"colorbar\":{\"outlinewidth\":0,\"ticks\":\"\"},\"colorscale\":[[0.0,\"#0d0887\"],[0.1111111111111111,\"#46039f\"],[0.2222222222222222,\"#7201a8\"],[0.3333333333333333,\"#9c179e\"],[0.4444444444444444,\"#bd3786\"],[0.5555555555555556,\"#d8576b\"],[0.6666666666666666,\"#ed7953\"],[0.7777777777777778,\"#fb9f3a\"],[0.8888888888888888,\"#fdca26\"],[1.0,\"#f0f921\"]],\"type\":\"heatmapgl\"}],\"histogram\":[{\"marker\":{\"pattern\":{\"fillmode\":\"overlay\",\"size\":10,\"solidity\":0.2}},\"type\":\"histogram\"}],\"histogram2d\":[{\"colorbar\":{\"outlinewidth\":0,\"ticks\":\"\"},\"colorscale\":[[0.0,\"#0d0887\"],[0.1111111111111111,\"#46039f\"],[0.2222222222222222,\"#7201a8\"],[0.3333333333333333,\"#9c179e\"],[0.4444444444444444,\"#bd3786\"],[0.5555555555555556,\"#d8576b\"],[0.6666666666666666,\"#ed7953\"],[0.7777777777777778,\"#fb9f3a\"],[0.8888888888888888,\"#fdca26\"],[1.0,\"#f0f921\"]],\"type\":\"histogram2d\"}],\"histogram2dcontour\":[{\"colorbar\":{\"outlinewidth\":0,\"ticks\":\"\"},\"colorscale\":[[0.0,\"#0d0887\"],[0.1111111111111111,\"#46039f\"],[0.2222222222222222,\"#7201a8\"],[0.3333333333333333,\"#9c179e\"],[0.4444444444444444,\"#bd3786\"],[0.5555555555555556,\"#d8576b\"],[0.6666666666666666,\"#ed7953\"],[0.7777777777777778,\"#fb9f3a\"],[0.8888888888888888,\"#fdca26\"],[1.0,\"#f0f921\"]],\"type\":\"histogram2dcontour\"}],\"mesh3d\":[{\"colorbar\":{\"outlinewidth\":0,\"ticks\":\"\"},\"type\":\"mesh3d\"}],\"parcoords\":[{\"line\":{\"colorbar\":{\"outlinewidth\":0,\"ticks\":\"\"}},\"type\":\"parcoords\"}],\"pie\":[{\"automargin\":true,\"type\":\"pie\"}],\"scatter\":[{\"marker\":{\"colorbar\":{\"outlinewidth\":0,\"ticks\":\"\"}},\"type\":\"scatter\"}],\"scatter3d\":[{\"line\":{\"colorbar\":{\"outlinewidth\":0,\"ticks\":\"\"}},\"marker\":{\"colorbar\":{\"outlinewidth\":0,\"ticks\":\"\"}},\"type\":\"scatter3d\"}],\"scattercarpet\":[{\"marker\":{\"colorbar\":{\"outlinewidth\":0,\"ticks\":\"\"}},\"type\":\"scattercarpet\"}],\"scattergeo\":[{\"marker\":{\"colorbar\":{\"outlinewidth\":0,\"ticks\":\"\"}},\"type\":\"scattergeo\"}],\"scattergl\":[{\"marker\":{\"colorbar\":{\"outlinewidth\":0,\"ticks\":\"\"}},\"type\":\"scattergl\"}],\"scattermapbox\":[{\"marker\":{\"colorbar\":{\"outlinewidth\":0,\"ticks\":\"\"}},\"type\":\"scattermapbox\"}],\"scatterpolar\":[{\"marker\":{\"colorbar\":{\"outlinewidth\":0,\"ticks\":\"\"}},\"type\":\"scatterpolar\"}],\"scatterpolargl\":[{\"marker\":{\"colorbar\":{\"outlinewidth\":0,\"ticks\":\"\"}},\"type\":\"scatterpolargl\"}],\"scatterternary\":[{\"marker\":{\"colorbar\":{\"outlinewidth\":0,\"ticks\":\"\"}},\"type\":\"scatterternary\"}],\"surface\":[{\"colorbar\":{\"outlinewidth\":0,\"ticks\":\"\"},\"colorscale\":[[0.0,\"#0d0887\"],[0.1111111111111111,\"#46039f\"],[0.2222222222222222,\"#7201a8\"],[0.3333333333333333,\"#9c179e\"],[0.4444444444444444,\"#bd3786\"],[0.5555555555555556,\"#d8576b\"],[0.6666666666666666,\"#ed7953\"],[0.7777777777777778,\"#fb9f3a\"],[0.8888888888888888,\"#fdca26\"],[1.0,\"#f0f921\"]],\"type\":\"surface\"}],\"table\":[{\"cells\":{\"fill\":{\"color\":\"#EBF0F8\"},\"line\":{\"color\":\"white\"}},\"header\":{\"fill\":{\"color\":\"#C8D4E3\"},\"line\":{\"color\":\"white\"}},\"type\":\"table\"}]},\"layout\":{\"annotationdefaults\":{\"arrowcolor\":\"#2a3f5f\",\"arrowhead\":0,\"arrowwidth\":1},\"autotypenumbers\":\"strict\",\"coloraxis\":{\"colorbar\":{\"outlinewidth\":0,\"ticks\":\"\"}},\"colorscale\":{\"diverging\":[[0,\"#8e0152\"],[0.1,\"#c51b7d\"],[0.2,\"#de77ae\"],[0.3,\"#f1b6da\"],[0.4,\"#fde0ef\"],[0.5,\"#f7f7f7\"],[0.6,\"#e6f5d0\"],[0.7,\"#b8e186\"],[0.8,\"#7fbc41\"],[0.9,\"#4d9221\"],[1,\"#276419\"]],\"sequential\":[[0.0,\"#0d0887\"],[0.1111111111111111,\"#46039f\"],[0.2222222222222222,\"#7201a8\"],[0.3333333333333333,\"#9c179e\"],[0.4444444444444444,\"#bd3786\"],[0.5555555555555556,\"#d8576b\"],[0.6666666666666666,\"#ed7953\"],[0.7777777777777778,\"#fb9f3a\"],[0.8888888888888888,\"#fdca26\"],[1.0,\"#f0f921\"]],\"sequentialminus\":[[0.0,\"#0d0887\"],[0.1111111111111111,\"#46039f\"],[0.2222222222222222,\"#7201a8\"],[0.3333333333333333,\"#9c179e\"],[0.4444444444444444,\"#bd3786\"],[0.5555555555555556,\"#d8576b\"],[0.6666666666666666,\"#ed7953\"],[0.7777777777777778,\"#fb9f3a\"],[0.8888888888888888,\"#fdca26\"],[1.0,\"#f0f921\"]]},\"colorway\":[\"#636efa\",\"#EF553B\",\"#00cc96\",\"#ab63fa\",\"#FFA15A\",\"#19d3f3\",\"#FF6692\",\"#B6E880\",\"#FF97FF\",\"#FECB52\"],\"font\":{\"color\":\"#2a3f5f\"},\"geo\":{\"bgcolor\":\"white\",\"lakecolor\":\"white\",\"landcolor\":\"#E5ECF6\",\"showlakes\":true,\"showland\":true,\"subunitcolor\":\"white\"},\"hoverlabel\":{\"align\":\"left\"},\"hovermode\":\"closest\",\"mapbox\":{\"style\":\"light\"},\"paper_bgcolor\":\"white\",\"plot_bgcolor\":\"#E5ECF6\",\"polar\":{\"angularaxis\":{\"gridcolor\":\"white\",\"linecolor\":\"white\",\"ticks\":\"\"},\"bgcolor\":\"#E5ECF6\",\"radialaxis\":{\"gridcolor\":\"white\",\"linecolor\":\"white\",\"ticks\":\"\"}},\"scene\":{\"xaxis\":{\"backgroundcolor\":\"#E5ECF6\",\"gridcolor\":\"white\",\"gridwidth\":2,\"linecolor\":\"white\",\"showbackground\":true,\"ticks\":\"\",\"zerolinecolor\":\"white\"},\"yaxis\":{\"backgroundcolor\":\"#E5ECF6\",\"gridcolor\":\"white\",\"gridwidth\":2,\"linecolor\":\"white\",\"showbackground\":true,\"ticks\":\"\",\"zerolinecolor\":\"white\"},\"zaxis\":{\"backgroundcolor\":\"#E5ECF6\",\"gridcolor\":\"white\",\"gridwidth\":2,\"linecolor\":\"white\",\"showbackground\":true,\"ticks\":\"\",\"zerolinecolor\":\"white\"}},\"shapedefaults\":{\"line\":{\"color\":\"#2a3f5f\"}},\"ternary\":{\"aaxis\":{\"gridcolor\":\"white\",\"linecolor\":\"white\",\"ticks\":\"\"},\"baxis\":{\"gridcolor\":\"white\",\"linecolor\":\"white\",\"ticks\":\"\"},\"bgcolor\":\"#E5ECF6\",\"caxis\":{\"gridcolor\":\"white\",\"linecolor\":\"white\",\"ticks\":\"\"}},\"title\":{\"x\":0.05},\"xaxis\":{\"automargin\":true,\"gridcolor\":\"white\",\"linecolor\":\"white\",\"ticks\":\"\",\"title\":{\"standoff\":15},\"zerolinecolor\":\"white\",\"zerolinewidth\":2},\"yaxis\":{\"automargin\":true,\"gridcolor\":\"white\",\"linecolor\":\"white\",\"ticks\":\"\",\"title\":{\"standoff\":15},\"zerolinecolor\":\"white\",\"zerolinewidth\":2}}},\"xaxis\":{\"anchor\":\"y\",\"domain\":[0.0,1.0],\"title\":{\"text\":\"month\"}},\"yaxis\":{\"anchor\":\"x\",\"domain\":[0.0,1.0],\"title\":{\"text\":\"cases\"}},\"legend\":{\"title\":{\"text\":\"year\"},\"tracegroupgap\":0},\"title\":{\"text\":\"Number of Support Cases for Monthly Subscriptions\"}},                        {\"responsive\": true}                    )                };                            </script>        </div>\n</body>\n</html>",
       "datasetInfos": [],
       "metadata": {},
       "removedWidgets": [],
       "textData": null,
       "type": "htmlSandbox"
      }
     },
     "output_type": "display_data"
    }
   ],
   "source": [
    "df_filtered = df_cases[df_cases['reason'] == 'support']\n",
    "fig = px.line(df_filtered, x='month', y='cases', color='year',\n",
    "              title='Number of Support Cases for Monthly Subscriptions')\n",
    "fig.show()"
   ]
  },
  {
   "cell_type": "markdown",
   "metadata": {
    "application/vnd.databricks.v1+cell": {
     "cellMetadata": {
      "byteLimit": 2048000,
      "rowLimit": 10000
     },
     "inputWidgets": {},
     "nuid": "bc52ad42-7d75-41aa-91e2-540a718c591a",
     "showTitle": false,
     "title": ""
    }
   },
   "source": [
    "While the overall trend is for an increase in cases as the customer base grows, the significant spike in cases observed in 2021 could be a contributing factor to the rise in churn rate."
   ]
  },
  {
   "cell_type": "code",
   "execution_count": 0,
   "metadata": {
    "application/vnd.databricks.v1+cell": {
     "cellMetadata": {
      "byteLimit": 2048000,
      "implicitDf": true,
      "rowLimit": 10000
     },
     "inputWidgets": {},
     "nuid": "8cb07861-95bf-4397-9ff4-ea12500625c4",
     "showTitle": false,
     "title": ""
    }
   },
   "outputs": [
    {
     "output_type": "display_data",
     "data": {
      "text/html": [
       "<style scoped>\n",
       "  .table-result-container {\n",
       "    max-height: 300px;\n",
       "    overflow: auto;\n",
       "  }\n",
       "  table, th, td {\n",
       "    border: 1px solid black;\n",
       "    border-collapse: collapse;\n",
       "  }\n",
       "  th, td {\n",
       "    padding: 5px;\n",
       "  }\n",
       "  th {\n",
       "    text-align: left;\n",
       "  }\n",
       "</style><div class='table-result-container'><table class='table-result'><thead style='background-color: white'><tr><th>year</th><th>month</th><th>reason</th><th>cases</th></tr></thead><tbody><tr><td>2017</td><td>1</td><td>signup</td><td>1062</td></tr><tr><td>2017</td><td>1</td><td>support</td><td>39</td></tr><tr><td>2017</td><td>2</td><td>signup</td><td>959</td></tr><tr><td>2017</td><td>2</td><td>support</td><td>113</td></tr><tr><td>2017</td><td>3</td><td>signup</td><td>1104</td></tr><tr><td>2017</td><td>3</td><td>support</td><td>241</td></tr><tr><td>2017</td><td>4</td><td>signup</td><td>933</td></tr><tr><td>2017</td><td>4</td><td>support</td><td>322</td></tr><tr><td>2017</td><td>5</td><td>signup</td><td>1049</td></tr><tr><td>2017</td><td>5</td><td>support</td><td>413</td></tr><tr><td>2017</td><td>6</td><td>signup</td><td>804</td></tr><tr><td>2017</td><td>6</td><td>support</td><td>460</td></tr><tr><td>2017</td><td>7</td><td>signup</td><td>742</td></tr><tr><td>2017</td><td>7</td><td>support</td><td>627</td></tr><tr><td>2017</td><td>8</td><td>signup</td><td>583</td></tr><tr><td>2017</td><td>8</td><td>support</td><td>647</td></tr><tr><td>2017</td><td>9</td><td>signup</td><td>420</td></tr><tr><td>2017</td><td>9</td><td>support</td><td>663</td></tr><tr><td>2017</td><td>10</td><td>signup</td><td>348</td></tr><tr><td>2017</td><td>10</td><td>support</td><td>690</td></tr><tr><td>2017</td><td>11</td><td>signup</td><td>286</td></tr><tr><td>2017</td><td>11</td><td>support</td><td>640</td></tr><tr><td>2017</td><td>12</td><td>signup</td><td>153</td></tr><tr><td>2017</td><td>12</td><td>support</td><td>618</td></tr><tr><td>2018</td><td>1</td><td>signup</td><td>1414</td></tr><tr><td>2018</td><td>1</td><td>support</td><td>674</td></tr><tr><td>2018</td><td>2</td><td>signup</td><td>1259</td></tr><tr><td>2018</td><td>2</td><td>support</td><td>670</td></tr><tr><td>2018</td><td>3</td><td>signup</td><td>1453</td></tr><tr><td>2018</td><td>3</td><td>support</td><td>767</td></tr><tr><td>2018</td><td>4</td><td>signup</td><td>1393</td></tr><tr><td>2018</td><td>4</td><td>support</td><td>817</td></tr><tr><td>2018</td><td>5</td><td>signup</td><td>1341</td></tr><tr><td>2018</td><td>5</td><td>support</td><td>1019</td></tr><tr><td>2018</td><td>6</td><td>signup</td><td>1195</td></tr><tr><td>2018</td><td>6</td><td>support</td><td>1033</td></tr><tr><td>2018</td><td>7</td><td>signup</td><td>1127</td></tr><tr><td>2018</td><td>7</td><td>support</td><td>1183</td></tr><tr><td>2018</td><td>8</td><td>signup</td><td>1030</td></tr><tr><td>2018</td><td>8</td><td>support</td><td>1239</td></tr><tr><td>2018</td><td>9</td><td>signup</td><td>765</td></tr><tr><td>2018</td><td>9</td><td>support</td><td>1296</td></tr><tr><td>2018</td><td>10</td><td>signup</td><td>754</td></tr><tr><td>2018</td><td>10</td><td>support</td><td>1270</td></tr><tr><td>2018</td><td>11</td><td>signup</td><td>578</td></tr><tr><td>2018</td><td>11</td><td>support</td><td>1189</td></tr><tr><td>2018</td><td>12</td><td>signup</td><td>391</td></tr><tr><td>2018</td><td>12</td><td>support</td><td>1208</td></tr><tr><td>2019</td><td>1</td><td>signup</td><td>2102</td></tr><tr><td>2019</td><td>1</td><td>support</td><td>1210</td></tr><tr><td>2019</td><td>2</td><td>signup</td><td>1839</td></tr><tr><td>2019</td><td>2</td><td>support</td><td>1177</td></tr><tr><td>2019</td><td>3</td><td>signup</td><td>2056</td></tr><tr><td>2019</td><td>3</td><td>support</td><td>1543</td></tr><tr><td>2019</td><td>4</td><td>signup</td><td>2115</td></tr><tr><td>2019</td><td>4</td><td>support</td><td>1664</td></tr><tr><td>2019</td><td>5</td><td>signup</td><td>2038</td></tr><tr><td>2019</td><td>5</td><td>support</td><td>1755</td></tr><tr><td>2019</td><td>6</td><td>signup</td><td>1843</td></tr><tr><td>2019</td><td>6</td><td>support</td><td>1895</td></tr><tr><td>2019</td><td>7</td><td>signup</td><td>1958</td></tr><tr><td>2019</td><td>7</td><td>support</td><td>2169</td></tr><tr><td>2019</td><td>8</td><td>signup</td><td>1675</td></tr><tr><td>2019</td><td>8</td><td>support</td><td>2314</td></tr><tr><td>2019</td><td>9</td><td>signup</td><td>1577</td></tr><tr><td>2019</td><td>9</td><td>support</td><td>2208</td></tr><tr><td>2019</td><td>10</td><td>signup</td><td>1403</td></tr><tr><td>2019</td><td>10</td><td>support</td><td>2158</td></tr><tr><td>2019</td><td>11</td><td>signup</td><td>1095</td></tr><tr><td>2019</td><td>11</td><td>support</td><td>2105</td></tr><tr><td>2019</td><td>12</td><td>signup</td><td>1096</td></tr><tr><td>2019</td><td>12</td><td>support</td><td>2155</td></tr><tr><td>2020</td><td>1</td><td>signup</td><td>1959</td></tr><tr><td>2020</td><td>1</td><td>support</td><td>2105</td></tr><tr><td>2020</td><td>2</td><td>signup</td><td>1758</td></tr><tr><td>2020</td><td>2</td><td>support</td><td>2045</td></tr><tr><td>2020</td><td>3</td><td>signup</td><td>1920</td></tr><tr><td>2020</td><td>3</td><td>support</td><td>2232</td></tr><tr><td>2020</td><td>4</td><td>signup</td><td>1922</td></tr><tr><td>2020</td><td>4</td><td>support</td><td>2275</td></tr><tr><td>2020</td><td>5</td><td>signup</td><td>1767</td></tr><tr><td>2020</td><td>5</td><td>support</td><td>2392</td></tr><tr><td>2020</td><td>6</td><td>signup</td><td>1826</td></tr><tr><td>2020</td><td>6</td><td>support</td><td>2478</td></tr><tr><td>2020</td><td>7</td><td>signup</td><td>1677</td></tr><tr><td>2020</td><td>7</td><td>support</td><td>2679</td></tr><tr><td>2020</td><td>8</td><td>signup</td><td>1496</td></tr><tr><td>2020</td><td>8</td><td>support</td><td>2544</td></tr><tr><td>2020</td><td>9</td><td>signup</td><td>1288</td></tr><tr><td>2020</td><td>9</td><td>support</td><td>2464</td></tr><tr><td>2020</td><td>10</td><td>signup</td><td>1115</td></tr><tr><td>2020</td><td>10</td><td>support</td><td>2367</td></tr><tr><td>2020</td><td>11</td><td>signup</td><td>924</td></tr><tr><td>2020</td><td>11</td><td>support</td><td>2260</td></tr><tr><td>2020</td><td>12</td><td>signup</td><td>799</td></tr><tr><td>2020</td><td>12</td><td>support</td><td>2231</td></tr><tr><td>2021</td><td>1</td><td>signup</td><td>1588</td></tr><tr><td>2021</td><td>1</td><td>support</td><td>2178</td></tr><tr><td>2021</td><td>2</td><td>signup</td><td>1403</td></tr><tr><td>2021</td><td>2</td><td>support</td><td>1968</td></tr><tr><td>2021</td><td>3</td><td>signup</td><td>1728</td></tr><tr><td>2021</td><td>3</td><td>support</td><td>2192</td></tr><tr><td>2021</td><td>4</td><td>signup</td><td>1639</td></tr><tr><td>2021</td><td>4</td><td>support</td><td>2048</td></tr><tr><td>2021</td><td>5</td><td>signup</td><td>1534</td></tr><tr><td>2021</td><td>5</td><td>support</td><td>2222</td></tr><tr><td>2021</td><td>6</td><td>signup</td><td>1435</td></tr><tr><td>2021</td><td>6</td><td>support</td><td>2236</td></tr><tr><td>2021</td><td>7</td><td>signup</td><td>1257</td></tr><tr><td>2021</td><td>7</td><td>support</td><td>2229</td></tr><tr><td>2021</td><td>8</td><td>signup</td><td>1153</td></tr><tr><td>2021</td><td>8</td><td>support</td><td>2187</td></tr><tr><td>2021</td><td>9</td><td>signup</td><td>1020</td></tr><tr><td>2021</td><td>9</td><td>support</td><td>2019</td></tr><tr><td>2021</td><td>10</td><td>signup</td><td>818</td></tr><tr><td>2021</td><td>10</td><td>support</td><td>1924</td></tr><tr><td>2021</td><td>11</td><td>signup</td><td>670</td></tr><tr><td>2021</td><td>11</td><td>support</td><td>1804</td></tr><tr><td>2021</td><td>12</td><td>signup</td><td>578</td></tr><tr><td>2021</td><td>12</td><td>support</td><td>1743</td></tr></tbody></table></div>"
      ]
     },
     "metadata": {
      "application/vnd.databricks.v1+output": {
       "addedWidgets": {},
       "aggData": [],
       "aggError": "",
       "aggOverflow": false,
       "aggSchema": [],
       "aggSeriesLimitReached": false,
       "aggType": "",
       "arguments": {},
       "columnCustomDisplayInfos": {},
       "data": [
        [
         2017,
         1,
         "signup",
         1062
        ],
        [
         2017,
         1,
         "support",
         39
        ],
        [
         2017,
         2,
         "signup",
         959
        ],
        [
         2017,
         2,
         "support",
         113
        ],
        [
         2017,
         3,
         "signup",
         1104
        ],
        [
         2017,
         3,
         "support",
         241
        ],
        [
         2017,
         4,
         "signup",
         933
        ],
        [
         2017,
         4,
         "support",
         322
        ],
        [
         2017,
         5,
         "signup",
         1049
        ],
        [
         2017,
         5,
         "support",
         413
        ],
        [
         2017,
         6,
         "signup",
         804
        ],
        [
         2017,
         6,
         "support",
         460
        ],
        [
         2017,
         7,
         "signup",
         742
        ],
        [
         2017,
         7,
         "support",
         627
        ],
        [
         2017,
         8,
         "signup",
         583
        ],
        [
         2017,
         8,
         "support",
         647
        ],
        [
         2017,
         9,
         "signup",
         420
        ],
        [
         2017,
         9,
         "support",
         663
        ],
        [
         2017,
         10,
         "signup",
         348
        ],
        [
         2017,
         10,
         "support",
         690
        ],
        [
         2017,
         11,
         "signup",
         286
        ],
        [
         2017,
         11,
         "support",
         640
        ],
        [
         2017,
         12,
         "signup",
         153
        ],
        [
         2017,
         12,
         "support",
         618
        ],
        [
         2018,
         1,
         "signup",
         1414
        ],
        [
         2018,
         1,
         "support",
         674
        ],
        [
         2018,
         2,
         "signup",
         1259
        ],
        [
         2018,
         2,
         "support",
         670
        ],
        [
         2018,
         3,
         "signup",
         1453
        ],
        [
         2018,
         3,
         "support",
         767
        ],
        [
         2018,
         4,
         "signup",
         1393
        ],
        [
         2018,
         4,
         "support",
         817
        ],
        [
         2018,
         5,
         "signup",
         1341
        ],
        [
         2018,
         5,
         "support",
         1019
        ],
        [
         2018,
         6,
         "signup",
         1195
        ],
        [
         2018,
         6,
         "support",
         1033
        ],
        [
         2018,
         7,
         "signup",
         1127
        ],
        [
         2018,
         7,
         "support",
         1183
        ],
        [
         2018,
         8,
         "signup",
         1030
        ],
        [
         2018,
         8,
         "support",
         1239
        ],
        [
         2018,
         9,
         "signup",
         765
        ],
        [
         2018,
         9,
         "support",
         1296
        ],
        [
         2018,
         10,
         "signup",
         754
        ],
        [
         2018,
         10,
         "support",
         1270
        ],
        [
         2018,
         11,
         "signup",
         578
        ],
        [
         2018,
         11,
         "support",
         1189
        ],
        [
         2018,
         12,
         "signup",
         391
        ],
        [
         2018,
         12,
         "support",
         1208
        ],
        [
         2019,
         1,
         "signup",
         2102
        ],
        [
         2019,
         1,
         "support",
         1210
        ],
        [
         2019,
         2,
         "signup",
         1839
        ],
        [
         2019,
         2,
         "support",
         1177
        ],
        [
         2019,
         3,
         "signup",
         2056
        ],
        [
         2019,
         3,
         "support",
         1543
        ],
        [
         2019,
         4,
         "signup",
         2115
        ],
        [
         2019,
         4,
         "support",
         1664
        ],
        [
         2019,
         5,
         "signup",
         2038
        ],
        [
         2019,
         5,
         "support",
         1755
        ],
        [
         2019,
         6,
         "signup",
         1843
        ],
        [
         2019,
         6,
         "support",
         1895
        ],
        [
         2019,
         7,
         "signup",
         1958
        ],
        [
         2019,
         7,
         "support",
         2169
        ],
        [
         2019,
         8,
         "signup",
         1675
        ],
        [
         2019,
         8,
         "support",
         2314
        ],
        [
         2019,
         9,
         "signup",
         1577
        ],
        [
         2019,
         9,
         "support",
         2208
        ],
        [
         2019,
         10,
         "signup",
         1403
        ],
        [
         2019,
         10,
         "support",
         2158
        ],
        [
         2019,
         11,
         "signup",
         1095
        ],
        [
         2019,
         11,
         "support",
         2105
        ],
        [
         2019,
         12,
         "signup",
         1096
        ],
        [
         2019,
         12,
         "support",
         2155
        ],
        [
         2020,
         1,
         "signup",
         1959
        ],
        [
         2020,
         1,
         "support",
         2105
        ],
        [
         2020,
         2,
         "signup",
         1758
        ],
        [
         2020,
         2,
         "support",
         2045
        ],
        [
         2020,
         3,
         "signup",
         1920
        ],
        [
         2020,
         3,
         "support",
         2232
        ],
        [
         2020,
         4,
         "signup",
         1922
        ],
        [
         2020,
         4,
         "support",
         2275
        ],
        [
         2020,
         5,
         "signup",
         1767
        ],
        [
         2020,
         5,
         "support",
         2392
        ],
        [
         2020,
         6,
         "signup",
         1826
        ],
        [
         2020,
         6,
         "support",
         2478
        ],
        [
         2020,
         7,
         "signup",
         1677
        ],
        [
         2020,
         7,
         "support",
         2679
        ],
        [
         2020,
         8,
         "signup",
         1496
        ],
        [
         2020,
         8,
         "support",
         2544
        ],
        [
         2020,
         9,
         "signup",
         1288
        ],
        [
         2020,
         9,
         "support",
         2464
        ],
        [
         2020,
         10,
         "signup",
         1115
        ],
        [
         2020,
         10,
         "support",
         2367
        ],
        [
         2020,
         11,
         "signup",
         924
        ],
        [
         2020,
         11,
         "support",
         2260
        ],
        [
         2020,
         12,
         "signup",
         799
        ],
        [
         2020,
         12,
         "support",
         2231
        ],
        [
         2021,
         1,
         "signup",
         1588
        ],
        [
         2021,
         1,
         "support",
         2178
        ],
        [
         2021,
         2,
         "signup",
         1403
        ],
        [
         2021,
         2,
         "support",
         1968
        ],
        [
         2021,
         3,
         "signup",
         1728
        ],
        [
         2021,
         3,
         "support",
         2192
        ],
        [
         2021,
         4,
         "signup",
         1639
        ],
        [
         2021,
         4,
         "support",
         2048
        ],
        [
         2021,
         5,
         "signup",
         1534
        ],
        [
         2021,
         5,
         "support",
         2222
        ],
        [
         2021,
         6,
         "signup",
         1435
        ],
        [
         2021,
         6,
         "support",
         2236
        ],
        [
         2021,
         7,
         "signup",
         1257
        ],
        [
         2021,
         7,
         "support",
         2229
        ],
        [
         2021,
         8,
         "signup",
         1153
        ],
        [
         2021,
         8,
         "support",
         2187
        ],
        [
         2021,
         9,
         "signup",
         1020
        ],
        [
         2021,
         9,
         "support",
         2019
        ],
        [
         2021,
         10,
         "signup",
         818
        ],
        [
         2021,
         10,
         "support",
         1924
        ],
        [
         2021,
         11,
         "signup",
         670
        ],
        [
         2021,
         11,
         "support",
         1804
        ],
        [
         2021,
         12,
         "signup",
         578
        ],
        [
         2021,
         12,
         "support",
         1743
        ]
       ],
       "datasetInfos": [],
       "dbfsResultPath": null,
       "isJsonSchema": true,
       "metadata": {},
       "overflow": false,
       "plotOptions": {
        "customPlotOptions": {},
        "displayType": "table",
        "pivotAggregation": null,
        "pivotColumns": null,
        "xColumns": null,
        "yColumns": null
       },
       "removedWidgets": [],
       "schema": [
        {
         "metadata": "{}",
         "name": "year",
         "type": "\"integer\""
        },
        {
         "metadata": "{}",
         "name": "month",
         "type": "\"integer\""
        },
        {
         "metadata": "{}",
         "name": "reason",
         "type": "\"string\""
        },
        {
         "metadata": "{}",
         "name": "cases",
         "type": "\"long\""
        }
       ],
       "type": "table"
      }
     },
     "output_type": "display_data"
    }
   ],
   "source": [
    "%sql\n",
    "select year(date_time) as year, month(date_time) as month,reason, count(case_id) as cases from customer_cases left join customer_product on customer_cases.customer_id=customer_product.customer_id\n",
    "where product = 'prd_1'\n",
    "group by year(date_time),month(date_time),reason\n",
    "order by year,month,reason;"
   ]
  },
  {
   "cell_type": "code",
   "execution_count": 0,
   "metadata": {
    "application/vnd.databricks.v1+cell": {
     "cellMetadata": {
      "byteLimit": 2048000,
      "rowLimit": 10000
     },
     "inputWidgets": {},
     "nuid": "c14464fd-ab3d-4f28-a0c7-c5e622be64d5",
     "showTitle": false,
     "title": ""
    }
   },
   "outputs": [
    {
     "output_type": "display_data",
     "data": {
      "text/html": [
       "<html>\n",
       "<head><meta charset=\"utf-8\" /></head>\n",
       "<body>\n",
       "    <div>            <script src=\"https://cdnjs.cloudflare.com/ajax/libs/mathjax/2.7.5/MathJax.js?config=TeX-AMS-MML_SVG\"></script><script type=\"text/javascript\">if (window.MathJax) {MathJax.Hub.Config({SVG: {font: \"STIX-Web\"}});}</script>                <script type=\"text/javascript\">window.PlotlyConfig = {MathJaxConfig: 'local'};</script>\n",
       "        <script src=\"https://cdn.plot.ly/plotly-2.9.0.min.js\"></script>                <div id=\"b58a1129-dda5-470b-88e1-fbe1d1b4ebbb\" class=\"plotly-graph-div\" style=\"height:100%; width:100%;\"></div>            <script type=\"text/javascript\">                                    window.PLOTLYENV=window.PLOTLYENV || {};                                    if (document.getElementById(\"b58a1129-dda5-470b-88e1-fbe1d1b4ebbb\")) {                    Plotly.newPlot(                        \"b58a1129-dda5-470b-88e1-fbe1d1b4ebbb\",                        [{\"hovertemplate\":\"year=2017<br>month=%{x}<br>cases=%{y}<extra></extra>\",\"legendgroup\":\"2017\",\"line\":{\"color\":\"#636efa\",\"dash\":\"solid\"},\"marker\":{\"symbol\":\"circle\"},\"mode\":\"lines\",\"name\":\"2017\",\"orientation\":\"v\",\"showlegend\":true,\"x\":[1,2,3,4,5,6,7,8,9,10,11,12],\"xaxis\":\"x\",\"y\":[1062,959,1104,933,1049,804,742,583,420,348,286,153],\"yaxis\":\"y\",\"type\":\"scatter\"},{\"hovertemplate\":\"year=2018<br>month=%{x}<br>cases=%{y}<extra></extra>\",\"legendgroup\":\"2018\",\"line\":{\"color\":\"#EF553B\",\"dash\":\"solid\"},\"marker\":{\"symbol\":\"circle\"},\"mode\":\"lines\",\"name\":\"2018\",\"orientation\":\"v\",\"showlegend\":true,\"x\":[1,2,3,4,5,6,7,8,9,10,11,12],\"xaxis\":\"x\",\"y\":[1414,1259,1453,1393,1341,1195,1127,1030,765,754,578,391],\"yaxis\":\"y\",\"type\":\"scatter\"},{\"hovertemplate\":\"year=2019<br>month=%{x}<br>cases=%{y}<extra></extra>\",\"legendgroup\":\"2019\",\"line\":{\"color\":\"#00cc96\",\"dash\":\"solid\"},\"marker\":{\"symbol\":\"circle\"},\"mode\":\"lines\",\"name\":\"2019\",\"orientation\":\"v\",\"showlegend\":true,\"x\":[1,2,3,4,5,6,7,8,9,10,11,12],\"xaxis\":\"x\",\"y\":[2102,1839,2056,2115,2038,1843,1958,1675,1577,1403,1095,1096],\"yaxis\":\"y\",\"type\":\"scatter\"},{\"hovertemplate\":\"year=2020<br>month=%{x}<br>cases=%{y}<extra></extra>\",\"legendgroup\":\"2020\",\"line\":{\"color\":\"#ab63fa\",\"dash\":\"solid\"},\"marker\":{\"symbol\":\"circle\"},\"mode\":\"lines\",\"name\":\"2020\",\"orientation\":\"v\",\"showlegend\":true,\"x\":[1,2,3,4,5,6,7,8,9,10,11,12],\"xaxis\":\"x\",\"y\":[1959,1758,1920,1922,1767,1826,1677,1496,1288,1115,924,799],\"yaxis\":\"y\",\"type\":\"scatter\"},{\"hovertemplate\":\"year=2021<br>month=%{x}<br>cases=%{y}<extra></extra>\",\"legendgroup\":\"2021\",\"line\":{\"color\":\"#FFA15A\",\"dash\":\"solid\"},\"marker\":{\"symbol\":\"circle\"},\"mode\":\"lines\",\"name\":\"2021\",\"orientation\":\"v\",\"showlegend\":true,\"x\":[1,2,3,4,5,6,7,8,9,10,11,12],\"xaxis\":\"x\",\"y\":[1588,1403,1728,1639,1534,1435,1257,1153,1020,818,670,578],\"yaxis\":\"y\",\"type\":\"scatter\"}],                        {\"template\":{\"data\":{\"bar\":[{\"error_x\":{\"color\":\"#2a3f5f\"},\"error_y\":{\"color\":\"#2a3f5f\"},\"marker\":{\"line\":{\"color\":\"#E5ECF6\",\"width\":0.5},\"pattern\":{\"fillmode\":\"overlay\",\"size\":10,\"solidity\":0.2}},\"type\":\"bar\"}],\"barpolar\":[{\"marker\":{\"line\":{\"color\":\"#E5ECF6\",\"width\":0.5},\"pattern\":{\"fillmode\":\"overlay\",\"size\":10,\"solidity\":0.2}},\"type\":\"barpolar\"}],\"carpet\":[{\"aaxis\":{\"endlinecolor\":\"#2a3f5f\",\"gridcolor\":\"white\",\"linecolor\":\"white\",\"minorgridcolor\":\"white\",\"startlinecolor\":\"#2a3f5f\"},\"baxis\":{\"endlinecolor\":\"#2a3f5f\",\"gridcolor\":\"white\",\"linecolor\":\"white\",\"minorgridcolor\":\"white\",\"startlinecolor\":\"#2a3f5f\"},\"type\":\"carpet\"}],\"choropleth\":[{\"colorbar\":{\"outlinewidth\":0,\"ticks\":\"\"},\"type\":\"choropleth\"}],\"contour\":[{\"colorbar\":{\"outlinewidth\":0,\"ticks\":\"\"},\"colorscale\":[[0.0,\"#0d0887\"],[0.1111111111111111,\"#46039f\"],[0.2222222222222222,\"#7201a8\"],[0.3333333333333333,\"#9c179e\"],[0.4444444444444444,\"#bd3786\"],[0.5555555555555556,\"#d8576b\"],[0.6666666666666666,\"#ed7953\"],[0.7777777777777778,\"#fb9f3a\"],[0.8888888888888888,\"#fdca26\"],[1.0,\"#f0f921\"]],\"type\":\"contour\"}],\"contourcarpet\":[{\"colorbar\":{\"outlinewidth\":0,\"ticks\":\"\"},\"type\":\"contourcarpet\"}],\"heatmap\":[{\"colorbar\":{\"outlinewidth\":0,\"ticks\":\"\"},\"colorscale\":[[0.0,\"#0d0887\"],[0.1111111111111111,\"#46039f\"],[0.2222222222222222,\"#7201a8\"],[0.3333333333333333,\"#9c179e\"],[0.4444444444444444,\"#bd3786\"],[0.5555555555555556,\"#d8576b\"],[0.6666666666666666,\"#ed7953\"],[0.7777777777777778,\"#fb9f3a\"],[0.8888888888888888,\"#fdca26\"],[1.0,\"#f0f921\"]],\"type\":\"heatmap\"}],\"heatmapgl\":[{\"colorbar\":{\"outlinewidth\":0,\"ticks\":\"\"},\"colorscale\":[[0.0,\"#0d0887\"],[0.1111111111111111,\"#46039f\"],[0.2222222222222222,\"#7201a8\"],[0.3333333333333333,\"#9c179e\"],[0.4444444444444444,\"#bd3786\"],[0.5555555555555556,\"#d8576b\"],[0.6666666666666666,\"#ed7953\"],[0.7777777777777778,\"#fb9f3a\"],[0.8888888888888888,\"#fdca26\"],[1.0,\"#f0f921\"]],\"type\":\"heatmapgl\"}],\"histogram\":[{\"marker\":{\"pattern\":{\"fillmode\":\"overlay\",\"size\":10,\"solidity\":0.2}},\"type\":\"histogram\"}],\"histogram2d\":[{\"colorbar\":{\"outlinewidth\":0,\"ticks\":\"\"},\"colorscale\":[[0.0,\"#0d0887\"],[0.1111111111111111,\"#46039f\"],[0.2222222222222222,\"#7201a8\"],[0.3333333333333333,\"#9c179e\"],[0.4444444444444444,\"#bd3786\"],[0.5555555555555556,\"#d8576b\"],[0.6666666666666666,\"#ed7953\"],[0.7777777777777778,\"#fb9f3a\"],[0.8888888888888888,\"#fdca26\"],[1.0,\"#f0f921\"]],\"type\":\"histogram2d\"}],\"histogram2dcontour\":[{\"colorbar\":{\"outlinewidth\":0,\"ticks\":\"\"},\"colorscale\":[[0.0,\"#0d0887\"],[0.1111111111111111,\"#46039f\"],[0.2222222222222222,\"#7201a8\"],[0.3333333333333333,\"#9c179e\"],[0.4444444444444444,\"#bd3786\"],[0.5555555555555556,\"#d8576b\"],[0.6666666666666666,\"#ed7953\"],[0.7777777777777778,\"#fb9f3a\"],[0.8888888888888888,\"#fdca26\"],[1.0,\"#f0f921\"]],\"type\":\"histogram2dcontour\"}],\"mesh3d\":[{\"colorbar\":{\"outlinewidth\":0,\"ticks\":\"\"},\"type\":\"mesh3d\"}],\"parcoords\":[{\"line\":{\"colorbar\":{\"outlinewidth\":0,\"ticks\":\"\"}},\"type\":\"parcoords\"}],\"pie\":[{\"automargin\":true,\"type\":\"pie\"}],\"scatter\":[{\"marker\":{\"colorbar\":{\"outlinewidth\":0,\"ticks\":\"\"}},\"type\":\"scatter\"}],\"scatter3d\":[{\"line\":{\"colorbar\":{\"outlinewidth\":0,\"ticks\":\"\"}},\"marker\":{\"colorbar\":{\"outlinewidth\":0,\"ticks\":\"\"}},\"type\":\"scatter3d\"}],\"scattercarpet\":[{\"marker\":{\"colorbar\":{\"outlinewidth\":0,\"ticks\":\"\"}},\"type\":\"scattercarpet\"}],\"scattergeo\":[{\"marker\":{\"colorbar\":{\"outlinewidth\":0,\"ticks\":\"\"}},\"type\":\"scattergeo\"}],\"scattergl\":[{\"marker\":{\"colorbar\":{\"outlinewidth\":0,\"ticks\":\"\"}},\"type\":\"scattergl\"}],\"scattermapbox\":[{\"marker\":{\"colorbar\":{\"outlinewidth\":0,\"ticks\":\"\"}},\"type\":\"scattermapbox\"}],\"scatterpolar\":[{\"marker\":{\"colorbar\":{\"outlinewidth\":0,\"ticks\":\"\"}},\"type\":\"scatterpolar\"}],\"scatterpolargl\":[{\"marker\":{\"colorbar\":{\"outlinewidth\":0,\"ticks\":\"\"}},\"type\":\"scatterpolargl\"}],\"scatterternary\":[{\"marker\":{\"colorbar\":{\"outlinewidth\":0,\"ticks\":\"\"}},\"type\":\"scatterternary\"}],\"surface\":[{\"colorbar\":{\"outlinewidth\":0,\"ticks\":\"\"},\"colorscale\":[[0.0,\"#0d0887\"],[0.1111111111111111,\"#46039f\"],[0.2222222222222222,\"#7201a8\"],[0.3333333333333333,\"#9c179e\"],[0.4444444444444444,\"#bd3786\"],[0.5555555555555556,\"#d8576b\"],[0.6666666666666666,\"#ed7953\"],[0.7777777777777778,\"#fb9f3a\"],[0.8888888888888888,\"#fdca26\"],[1.0,\"#f0f921\"]],\"type\":\"surface\"}],\"table\":[{\"cells\":{\"fill\":{\"color\":\"#EBF0F8\"},\"line\":{\"color\":\"white\"}},\"header\":{\"fill\":{\"color\":\"#C8D4E3\"},\"line\":{\"color\":\"white\"}},\"type\":\"table\"}]},\"layout\":{\"annotationdefaults\":{\"arrowcolor\":\"#2a3f5f\",\"arrowhead\":0,\"arrowwidth\":1},\"autotypenumbers\":\"strict\",\"coloraxis\":{\"colorbar\":{\"outlinewidth\":0,\"ticks\":\"\"}},\"colorscale\":{\"diverging\":[[0,\"#8e0152\"],[0.1,\"#c51b7d\"],[0.2,\"#de77ae\"],[0.3,\"#f1b6da\"],[0.4,\"#fde0ef\"],[0.5,\"#f7f7f7\"],[0.6,\"#e6f5d0\"],[0.7,\"#b8e186\"],[0.8,\"#7fbc41\"],[0.9,\"#4d9221\"],[1,\"#276419\"]],\"sequential\":[[0.0,\"#0d0887\"],[0.1111111111111111,\"#46039f\"],[0.2222222222222222,\"#7201a8\"],[0.3333333333333333,\"#9c179e\"],[0.4444444444444444,\"#bd3786\"],[0.5555555555555556,\"#d8576b\"],[0.6666666666666666,\"#ed7953\"],[0.7777777777777778,\"#fb9f3a\"],[0.8888888888888888,\"#fdca26\"],[1.0,\"#f0f921\"]],\"sequentialminus\":[[0.0,\"#0d0887\"],[0.1111111111111111,\"#46039f\"],[0.2222222222222222,\"#7201a8\"],[0.3333333333333333,\"#9c179e\"],[0.4444444444444444,\"#bd3786\"],[0.5555555555555556,\"#d8576b\"],[0.6666666666666666,\"#ed7953\"],[0.7777777777777778,\"#fb9f3a\"],[0.8888888888888888,\"#fdca26\"],[1.0,\"#f0f921\"]]},\"colorway\":[\"#636efa\",\"#EF553B\",\"#00cc96\",\"#ab63fa\",\"#FFA15A\",\"#19d3f3\",\"#FF6692\",\"#B6E880\",\"#FF97FF\",\"#FECB52\"],\"font\":{\"color\":\"#2a3f5f\"},\"geo\":{\"bgcolor\":\"white\",\"lakecolor\":\"white\",\"landcolor\":\"#E5ECF6\",\"showlakes\":true,\"showland\":true,\"subunitcolor\":\"white\"},\"hoverlabel\":{\"align\":\"left\"},\"hovermode\":\"closest\",\"mapbox\":{\"style\":\"light\"},\"paper_bgcolor\":\"white\",\"plot_bgcolor\":\"#E5ECF6\",\"polar\":{\"angularaxis\":{\"gridcolor\":\"white\",\"linecolor\":\"white\",\"ticks\":\"\"},\"bgcolor\":\"#E5ECF6\",\"radialaxis\":{\"gridcolor\":\"white\",\"linecolor\":\"white\",\"ticks\":\"\"}},\"scene\":{\"xaxis\":{\"backgroundcolor\":\"#E5ECF6\",\"gridcolor\":\"white\",\"gridwidth\":2,\"linecolor\":\"white\",\"showbackground\":true,\"ticks\":\"\",\"zerolinecolor\":\"white\"},\"yaxis\":{\"backgroundcolor\":\"#E5ECF6\",\"gridcolor\":\"white\",\"gridwidth\":2,\"linecolor\":\"white\",\"showbackground\":true,\"ticks\":\"\",\"zerolinecolor\":\"white\"},\"zaxis\":{\"backgroundcolor\":\"#E5ECF6\",\"gridcolor\":\"white\",\"gridwidth\":2,\"linecolor\":\"white\",\"showbackground\":true,\"ticks\":\"\",\"zerolinecolor\":\"white\"}},\"shapedefaults\":{\"line\":{\"color\":\"#2a3f5f\"}},\"ternary\":{\"aaxis\":{\"gridcolor\":\"white\",\"linecolor\":\"white\",\"ticks\":\"\"},\"baxis\":{\"gridcolor\":\"white\",\"linecolor\":\"white\",\"ticks\":\"\"},\"bgcolor\":\"#E5ECF6\",\"caxis\":{\"gridcolor\":\"white\",\"linecolor\":\"white\",\"ticks\":\"\"}},\"title\":{\"x\":0.05},\"xaxis\":{\"automargin\":true,\"gridcolor\":\"white\",\"linecolor\":\"white\",\"ticks\":\"\",\"title\":{\"standoff\":15},\"zerolinecolor\":\"white\",\"zerolinewidth\":2},\"yaxis\":{\"automargin\":true,\"gridcolor\":\"white\",\"linecolor\":\"white\",\"ticks\":\"\",\"title\":{\"standoff\":15},\"zerolinecolor\":\"white\",\"zerolinewidth\":2}}},\"xaxis\":{\"anchor\":\"y\",\"domain\":[0.0,1.0],\"title\":{\"text\":\"month\"}},\"yaxis\":{\"anchor\":\"x\",\"domain\":[0.0,1.0],\"title\":{\"text\":\"cases\"}},\"legend\":{\"title\":{\"text\":\"year\"},\"tracegroupgap\":0},\"title\":{\"text\":\"Number of Signup Cases for Annual Subscriptions\"}},                        {\"responsive\": true}                    )                };                            </script>        </div>\n",
       "</body>\n",
       "</html>"
      ]
     },
     "metadata": {
      "application/vnd.databricks.v1+output": {
       "addedWidgets": {},
       "arguments": {},
       "data": "<html>\n<head><meta charset=\"utf-8\" /></head>\n<body>\n    <div>            <script src=\"https://cdnjs.cloudflare.com/ajax/libs/mathjax/2.7.5/MathJax.js?config=TeX-AMS-MML_SVG\"></script><script type=\"text/javascript\">if (window.MathJax) {MathJax.Hub.Config({SVG: {font: \"STIX-Web\"}});}</script>                <script type=\"text/javascript\">window.PlotlyConfig = {MathJaxConfig: 'local'};</script>\n        <script src=\"https://cdn.plot.ly/plotly-2.9.0.min.js\"></script>                <div id=\"b58a1129-dda5-470b-88e1-fbe1d1b4ebbb\" class=\"plotly-graph-div\" style=\"height:100%; width:100%;\"></div>            <script type=\"text/javascript\">                                    window.PLOTLYENV=window.PLOTLYENV || {};                                    if (document.getElementById(\"b58a1129-dda5-470b-88e1-fbe1d1b4ebbb\")) {                    Plotly.newPlot(                        \"b58a1129-dda5-470b-88e1-fbe1d1b4ebbb\",                        [{\"hovertemplate\":\"year=2017<br>month=%{x}<br>cases=%{y}<extra></extra>\",\"legendgroup\":\"2017\",\"line\":{\"color\":\"#636efa\",\"dash\":\"solid\"},\"marker\":{\"symbol\":\"circle\"},\"mode\":\"lines\",\"name\":\"2017\",\"orientation\":\"v\",\"showlegend\":true,\"x\":[1,2,3,4,5,6,7,8,9,10,11,12],\"xaxis\":\"x\",\"y\":[1062,959,1104,933,1049,804,742,583,420,348,286,153],\"yaxis\":\"y\",\"type\":\"scatter\"},{\"hovertemplate\":\"year=2018<br>month=%{x}<br>cases=%{y}<extra></extra>\",\"legendgroup\":\"2018\",\"line\":{\"color\":\"#EF553B\",\"dash\":\"solid\"},\"marker\":{\"symbol\":\"circle\"},\"mode\":\"lines\",\"name\":\"2018\",\"orientation\":\"v\",\"showlegend\":true,\"x\":[1,2,3,4,5,6,7,8,9,10,11,12],\"xaxis\":\"x\",\"y\":[1414,1259,1453,1393,1341,1195,1127,1030,765,754,578,391],\"yaxis\":\"y\",\"type\":\"scatter\"},{\"hovertemplate\":\"year=2019<br>month=%{x}<br>cases=%{y}<extra></extra>\",\"legendgroup\":\"2019\",\"line\":{\"color\":\"#00cc96\",\"dash\":\"solid\"},\"marker\":{\"symbol\":\"circle\"},\"mode\":\"lines\",\"name\":\"2019\",\"orientation\":\"v\",\"showlegend\":true,\"x\":[1,2,3,4,5,6,7,8,9,10,11,12],\"xaxis\":\"x\",\"y\":[2102,1839,2056,2115,2038,1843,1958,1675,1577,1403,1095,1096],\"yaxis\":\"y\",\"type\":\"scatter\"},{\"hovertemplate\":\"year=2020<br>month=%{x}<br>cases=%{y}<extra></extra>\",\"legendgroup\":\"2020\",\"line\":{\"color\":\"#ab63fa\",\"dash\":\"solid\"},\"marker\":{\"symbol\":\"circle\"},\"mode\":\"lines\",\"name\":\"2020\",\"orientation\":\"v\",\"showlegend\":true,\"x\":[1,2,3,4,5,6,7,8,9,10,11,12],\"xaxis\":\"x\",\"y\":[1959,1758,1920,1922,1767,1826,1677,1496,1288,1115,924,799],\"yaxis\":\"y\",\"type\":\"scatter\"},{\"hovertemplate\":\"year=2021<br>month=%{x}<br>cases=%{y}<extra></extra>\",\"legendgroup\":\"2021\",\"line\":{\"color\":\"#FFA15A\",\"dash\":\"solid\"},\"marker\":{\"symbol\":\"circle\"},\"mode\":\"lines\",\"name\":\"2021\",\"orientation\":\"v\",\"showlegend\":true,\"x\":[1,2,3,4,5,6,7,8,9,10,11,12],\"xaxis\":\"x\",\"y\":[1588,1403,1728,1639,1534,1435,1257,1153,1020,818,670,578],\"yaxis\":\"y\",\"type\":\"scatter\"}],                        {\"template\":{\"data\":{\"bar\":[{\"error_x\":{\"color\":\"#2a3f5f\"},\"error_y\":{\"color\":\"#2a3f5f\"},\"marker\":{\"line\":{\"color\":\"#E5ECF6\",\"width\":0.5},\"pattern\":{\"fillmode\":\"overlay\",\"size\":10,\"solidity\":0.2}},\"type\":\"bar\"}],\"barpolar\":[{\"marker\":{\"line\":{\"color\":\"#E5ECF6\",\"width\":0.5},\"pattern\":{\"fillmode\":\"overlay\",\"size\":10,\"solidity\":0.2}},\"type\":\"barpolar\"}],\"carpet\":[{\"aaxis\":{\"endlinecolor\":\"#2a3f5f\",\"gridcolor\":\"white\",\"linecolor\":\"white\",\"minorgridcolor\":\"white\",\"startlinecolor\":\"#2a3f5f\"},\"baxis\":{\"endlinecolor\":\"#2a3f5f\",\"gridcolor\":\"white\",\"linecolor\":\"white\",\"minorgridcolor\":\"white\",\"startlinecolor\":\"#2a3f5f\"},\"type\":\"carpet\"}],\"choropleth\":[{\"colorbar\":{\"outlinewidth\":0,\"ticks\":\"\"},\"type\":\"choropleth\"}],\"contour\":[{\"colorbar\":{\"outlinewidth\":0,\"ticks\":\"\"},\"colorscale\":[[0.0,\"#0d0887\"],[0.1111111111111111,\"#46039f\"],[0.2222222222222222,\"#7201a8\"],[0.3333333333333333,\"#9c179e\"],[0.4444444444444444,\"#bd3786\"],[0.5555555555555556,\"#d8576b\"],[0.6666666666666666,\"#ed7953\"],[0.7777777777777778,\"#fb9f3a\"],[0.8888888888888888,\"#fdca26\"],[1.0,\"#f0f921\"]],\"type\":\"contour\"}],\"contourcarpet\":[{\"colorbar\":{\"outlinewidth\":0,\"ticks\":\"\"},\"type\":\"contourcarpet\"}],\"heatmap\":[{\"colorbar\":{\"outlinewidth\":0,\"ticks\":\"\"},\"colorscale\":[[0.0,\"#0d0887\"],[0.1111111111111111,\"#46039f\"],[0.2222222222222222,\"#7201a8\"],[0.3333333333333333,\"#9c179e\"],[0.4444444444444444,\"#bd3786\"],[0.5555555555555556,\"#d8576b\"],[0.6666666666666666,\"#ed7953\"],[0.7777777777777778,\"#fb9f3a\"],[0.8888888888888888,\"#fdca26\"],[1.0,\"#f0f921\"]],\"type\":\"heatmap\"}],\"heatmapgl\":[{\"colorbar\":{\"outlinewidth\":0,\"ticks\":\"\"},\"colorscale\":[[0.0,\"#0d0887\"],[0.1111111111111111,\"#46039f\"],[0.2222222222222222,\"#7201a8\"],[0.3333333333333333,\"#9c179e\"],[0.4444444444444444,\"#bd3786\"],[0.5555555555555556,\"#d8576b\"],[0.6666666666666666,\"#ed7953\"],[0.7777777777777778,\"#fb9f3a\"],[0.8888888888888888,\"#fdca26\"],[1.0,\"#f0f921\"]],\"type\":\"heatmapgl\"}],\"histogram\":[{\"marker\":{\"pattern\":{\"fillmode\":\"overlay\",\"size\":10,\"solidity\":0.2}},\"type\":\"histogram\"}],\"histogram2d\":[{\"colorbar\":{\"outlinewidth\":0,\"ticks\":\"\"},\"colorscale\":[[0.0,\"#0d0887\"],[0.1111111111111111,\"#46039f\"],[0.2222222222222222,\"#7201a8\"],[0.3333333333333333,\"#9c179e\"],[0.4444444444444444,\"#bd3786\"],[0.5555555555555556,\"#d8576b\"],[0.6666666666666666,\"#ed7953\"],[0.7777777777777778,\"#fb9f3a\"],[0.8888888888888888,\"#fdca26\"],[1.0,\"#f0f921\"]],\"type\":\"histogram2d\"}],\"histogram2dcontour\":[{\"colorbar\":{\"outlinewidth\":0,\"ticks\":\"\"},\"colorscale\":[[0.0,\"#0d0887\"],[0.1111111111111111,\"#46039f\"],[0.2222222222222222,\"#7201a8\"],[0.3333333333333333,\"#9c179e\"],[0.4444444444444444,\"#bd3786\"],[0.5555555555555556,\"#d8576b\"],[0.6666666666666666,\"#ed7953\"],[0.7777777777777778,\"#fb9f3a\"],[0.8888888888888888,\"#fdca26\"],[1.0,\"#f0f921\"]],\"type\":\"histogram2dcontour\"}],\"mesh3d\":[{\"colorbar\":{\"outlinewidth\":0,\"ticks\":\"\"},\"type\":\"mesh3d\"}],\"parcoords\":[{\"line\":{\"colorbar\":{\"outlinewidth\":0,\"ticks\":\"\"}},\"type\":\"parcoords\"}],\"pie\":[{\"automargin\":true,\"type\":\"pie\"}],\"scatter\":[{\"marker\":{\"colorbar\":{\"outlinewidth\":0,\"ticks\":\"\"}},\"type\":\"scatter\"}],\"scatter3d\":[{\"line\":{\"colorbar\":{\"outlinewidth\":0,\"ticks\":\"\"}},\"marker\":{\"colorbar\":{\"outlinewidth\":0,\"ticks\":\"\"}},\"type\":\"scatter3d\"}],\"scattercarpet\":[{\"marker\":{\"colorbar\":{\"outlinewidth\":0,\"ticks\":\"\"}},\"type\":\"scattercarpet\"}],\"scattergeo\":[{\"marker\":{\"colorbar\":{\"outlinewidth\":0,\"ticks\":\"\"}},\"type\":\"scattergeo\"}],\"scattergl\":[{\"marker\":{\"colorbar\":{\"outlinewidth\":0,\"ticks\":\"\"}},\"type\":\"scattergl\"}],\"scattermapbox\":[{\"marker\":{\"colorbar\":{\"outlinewidth\":0,\"ticks\":\"\"}},\"type\":\"scattermapbox\"}],\"scatterpolar\":[{\"marker\":{\"colorbar\":{\"outlinewidth\":0,\"ticks\":\"\"}},\"type\":\"scatterpolar\"}],\"scatterpolargl\":[{\"marker\":{\"colorbar\":{\"outlinewidth\":0,\"ticks\":\"\"}},\"type\":\"scatterpolargl\"}],\"scatterternary\":[{\"marker\":{\"colorbar\":{\"outlinewidth\":0,\"ticks\":\"\"}},\"type\":\"scatterternary\"}],\"surface\":[{\"colorbar\":{\"outlinewidth\":0,\"ticks\":\"\"},\"colorscale\":[[0.0,\"#0d0887\"],[0.1111111111111111,\"#46039f\"],[0.2222222222222222,\"#7201a8\"],[0.3333333333333333,\"#9c179e\"],[0.4444444444444444,\"#bd3786\"],[0.5555555555555556,\"#d8576b\"],[0.6666666666666666,\"#ed7953\"],[0.7777777777777778,\"#fb9f3a\"],[0.8888888888888888,\"#fdca26\"],[1.0,\"#f0f921\"]],\"type\":\"surface\"}],\"table\":[{\"cells\":{\"fill\":{\"color\":\"#EBF0F8\"},\"line\":{\"color\":\"white\"}},\"header\":{\"fill\":{\"color\":\"#C8D4E3\"},\"line\":{\"color\":\"white\"}},\"type\":\"table\"}]},\"layout\":{\"annotationdefaults\":{\"arrowcolor\":\"#2a3f5f\",\"arrowhead\":0,\"arrowwidth\":1},\"autotypenumbers\":\"strict\",\"coloraxis\":{\"colorbar\":{\"outlinewidth\":0,\"ticks\":\"\"}},\"colorscale\":{\"diverging\":[[0,\"#8e0152\"],[0.1,\"#c51b7d\"],[0.2,\"#de77ae\"],[0.3,\"#f1b6da\"],[0.4,\"#fde0ef\"],[0.5,\"#f7f7f7\"],[0.6,\"#e6f5d0\"],[0.7,\"#b8e186\"],[0.8,\"#7fbc41\"],[0.9,\"#4d9221\"],[1,\"#276419\"]],\"sequential\":[[0.0,\"#0d0887\"],[0.1111111111111111,\"#46039f\"],[0.2222222222222222,\"#7201a8\"],[0.3333333333333333,\"#9c179e\"],[0.4444444444444444,\"#bd3786\"],[0.5555555555555556,\"#d8576b\"],[0.6666666666666666,\"#ed7953\"],[0.7777777777777778,\"#fb9f3a\"],[0.8888888888888888,\"#fdca26\"],[1.0,\"#f0f921\"]],\"sequentialminus\":[[0.0,\"#0d0887\"],[0.1111111111111111,\"#46039f\"],[0.2222222222222222,\"#7201a8\"],[0.3333333333333333,\"#9c179e\"],[0.4444444444444444,\"#bd3786\"],[0.5555555555555556,\"#d8576b\"],[0.6666666666666666,\"#ed7953\"],[0.7777777777777778,\"#fb9f3a\"],[0.8888888888888888,\"#fdca26\"],[1.0,\"#f0f921\"]]},\"colorway\":[\"#636efa\",\"#EF553B\",\"#00cc96\",\"#ab63fa\",\"#FFA15A\",\"#19d3f3\",\"#FF6692\",\"#B6E880\",\"#FF97FF\",\"#FECB52\"],\"font\":{\"color\":\"#2a3f5f\"},\"geo\":{\"bgcolor\":\"white\",\"lakecolor\":\"white\",\"landcolor\":\"#E5ECF6\",\"showlakes\":true,\"showland\":true,\"subunitcolor\":\"white\"},\"hoverlabel\":{\"align\":\"left\"},\"hovermode\":\"closest\",\"mapbox\":{\"style\":\"light\"},\"paper_bgcolor\":\"white\",\"plot_bgcolor\":\"#E5ECF6\",\"polar\":{\"angularaxis\":{\"gridcolor\":\"white\",\"linecolor\":\"white\",\"ticks\":\"\"},\"bgcolor\":\"#E5ECF6\",\"radialaxis\":{\"gridcolor\":\"white\",\"linecolor\":\"white\",\"ticks\":\"\"}},\"scene\":{\"xaxis\":{\"backgroundcolor\":\"#E5ECF6\",\"gridcolor\":\"white\",\"gridwidth\":2,\"linecolor\":\"white\",\"showbackground\":true,\"ticks\":\"\",\"zerolinecolor\":\"white\"},\"yaxis\":{\"backgroundcolor\":\"#E5ECF6\",\"gridcolor\":\"white\",\"gridwidth\":2,\"linecolor\":\"white\",\"showbackground\":true,\"ticks\":\"\",\"zerolinecolor\":\"white\"},\"zaxis\":{\"backgroundcolor\":\"#E5ECF6\",\"gridcolor\":\"white\",\"gridwidth\":2,\"linecolor\":\"white\",\"showbackground\":true,\"ticks\":\"\",\"zerolinecolor\":\"white\"}},\"shapedefaults\":{\"line\":{\"color\":\"#2a3f5f\"}},\"ternary\":{\"aaxis\":{\"gridcolor\":\"white\",\"linecolor\":\"white\",\"ticks\":\"\"},\"baxis\":{\"gridcolor\":\"white\",\"linecolor\":\"white\",\"ticks\":\"\"},\"bgcolor\":\"#E5ECF6\",\"caxis\":{\"gridcolor\":\"white\",\"linecolor\":\"white\",\"ticks\":\"\"}},\"title\":{\"x\":0.05},\"xaxis\":{\"automargin\":true,\"gridcolor\":\"white\",\"linecolor\":\"white\",\"ticks\":\"\",\"title\":{\"standoff\":15},\"zerolinecolor\":\"white\",\"zerolinewidth\":2},\"yaxis\":{\"automargin\":true,\"gridcolor\":\"white\",\"linecolor\":\"white\",\"ticks\":\"\",\"title\":{\"standoff\":15},\"zerolinecolor\":\"white\",\"zerolinewidth\":2}}},\"xaxis\":{\"anchor\":\"y\",\"domain\":[0.0,1.0],\"title\":{\"text\":\"month\"}},\"yaxis\":{\"anchor\":\"x\",\"domain\":[0.0,1.0],\"title\":{\"text\":\"cases\"}},\"legend\":{\"title\":{\"text\":\"year\"},\"tracegroupgap\":0},\"title\":{\"text\":\"Number of Signup Cases for Annual Subscriptions\"}},                        {\"responsive\": true}                    )                };                            </script>        </div>\n</body>\n</html>",
       "datasetInfos": [],
       "metadata": {},
       "removedWidgets": [],
       "textData": null,
       "type": "htmlSandbox"
      }
     },
     "output_type": "display_data"
    }
   ],
   "source": [
    "df_cases= _sqldf.toPandas()\n",
    "df_filtered = df_cases[df_cases['reason'] == 'signup']\n",
    "fig = px.line(df_filtered, x='month', y='cases', color='year',\n",
    "              title='Number of Signup Cases for Annual Subscriptions')\n",
    "fig.show()"
   ]
  },
  {
   "cell_type": "markdown",
   "metadata": {
    "application/vnd.databricks.v1+cell": {
     "cellMetadata": {
      "byteLimit": 2048000,
      "rowLimit": 10000
     },
     "inputWidgets": {},
     "nuid": "9138cfc9-c4ac-4ed3-ae43-87bc0c105676",
     "showTitle": false,
     "title": ""
    }
   },
   "source": [
    "While annual subscription models consistently outperform monthly models in terms of signups, both exhibit a common trend of declining towards the end of each year.\n",
    "However, a notable difference emerged in 2019, where annual subscriptions experienced a significant surge compared to 2020 and 2021. This surge likely contributed to the relatively stable churn rate in 2019, despite a spike in cancelled customers. And an increased churn rate in 2021"
   ]
  },
  {
   "cell_type": "code",
   "execution_count": 0,
   "metadata": {
    "application/vnd.databricks.v1+cell": {
     "cellMetadata": {
      "byteLimit": 2048000,
      "implicitDf": true,
      "rowLimit": 10000
     },
     "inputWidgets": {},
     "nuid": "15b503db-f1af-497f-a379-081835584e22",
     "showTitle": false,
     "title": ""
    }
   },
   "outputs": [
    {
     "output_type": "display_data",
     "data": {
      "text/html": [
       "<html>\n",
       "<head><meta charset=\"utf-8\" /></head>\n",
       "<body>\n",
       "    <div>            <script src=\"https://cdnjs.cloudflare.com/ajax/libs/mathjax/2.7.5/MathJax.js?config=TeX-AMS-MML_SVG\"></script><script type=\"text/javascript\">if (window.MathJax) {MathJax.Hub.Config({SVG: {font: \"STIX-Web\"}});}</script>                <script type=\"text/javascript\">window.PlotlyConfig = {MathJaxConfig: 'local'};</script>\n",
       "        <script src=\"https://cdn.plot.ly/plotly-2.9.0.min.js\"></script>                <div id=\"325a1655-280a-44bd-87c6-9cccd9597060\" class=\"plotly-graph-div\" style=\"height:100%; width:100%;\"></div>            <script type=\"text/javascript\">                                    window.PLOTLYENV=window.PLOTLYENV || {};                                    if (document.getElementById(\"325a1655-280a-44bd-87c6-9cccd9597060\")) {                    Plotly.newPlot(                        \"325a1655-280a-44bd-87c6-9cccd9597060\",                        [{\"hovertemplate\":\"year=2017<br>month=%{x}<br>cases=%{y}<extra></extra>\",\"legendgroup\":\"2017\",\"line\":{\"color\":\"#636efa\",\"dash\":\"solid\"},\"marker\":{\"symbol\":\"circle\"},\"mode\":\"lines\",\"name\":\"2017\",\"orientation\":\"v\",\"showlegend\":true,\"x\":[1,2,3,4,5,6,7,8,9,10,11,12],\"xaxis\":\"x\",\"y\":[39,113,241,322,413,460,627,647,663,690,640,618],\"yaxis\":\"y\",\"type\":\"scatter\"},{\"hovertemplate\":\"year=2018<br>month=%{x}<br>cases=%{y}<extra></extra>\",\"legendgroup\":\"2018\",\"line\":{\"color\":\"#EF553B\",\"dash\":\"solid\"},\"marker\":{\"symbol\":\"circle\"},\"mode\":\"lines\",\"name\":\"2018\",\"orientation\":\"v\",\"showlegend\":true,\"x\":[1,2,3,4,5,6,7,8,9,10,11,12],\"xaxis\":\"x\",\"y\":[674,670,767,817,1019,1033,1183,1239,1296,1270,1189,1208],\"yaxis\":\"y\",\"type\":\"scatter\"},{\"hovertemplate\":\"year=2019<br>month=%{x}<br>cases=%{y}<extra></extra>\",\"legendgroup\":\"2019\",\"line\":{\"color\":\"#00cc96\",\"dash\":\"solid\"},\"marker\":{\"symbol\":\"circle\"},\"mode\":\"lines\",\"name\":\"2019\",\"orientation\":\"v\",\"showlegend\":true,\"x\":[1,2,3,4,5,6,7,8,9,10,11,12],\"xaxis\":\"x\",\"y\":[1210,1177,1543,1664,1755,1895,2169,2314,2208,2158,2105,2155],\"yaxis\":\"y\",\"type\":\"scatter\"},{\"hovertemplate\":\"year=2020<br>month=%{x}<br>cases=%{y}<extra></extra>\",\"legendgroup\":\"2020\",\"line\":{\"color\":\"#ab63fa\",\"dash\":\"solid\"},\"marker\":{\"symbol\":\"circle\"},\"mode\":\"lines\",\"name\":\"2020\",\"orientation\":\"v\",\"showlegend\":true,\"x\":[1,2,3,4,5,6,7,8,9,10,11,12],\"xaxis\":\"x\",\"y\":[2105,2045,2232,2275,2392,2478,2679,2544,2464,2367,2260,2231],\"yaxis\":\"y\",\"type\":\"scatter\"},{\"hovertemplate\":\"year=2021<br>month=%{x}<br>cases=%{y}<extra></extra>\",\"legendgroup\":\"2021\",\"line\":{\"color\":\"#FFA15A\",\"dash\":\"solid\"},\"marker\":{\"symbol\":\"circle\"},\"mode\":\"lines\",\"name\":\"2021\",\"orientation\":\"v\",\"showlegend\":true,\"x\":[1,2,3,4,5,6,7,8,9,10,11,12],\"xaxis\":\"x\",\"y\":[2178,1968,2192,2048,2222,2236,2229,2187,2019,1924,1804,1743],\"yaxis\":\"y\",\"type\":\"scatter\"}],                        {\"template\":{\"data\":{\"bar\":[{\"error_x\":{\"color\":\"#2a3f5f\"},\"error_y\":{\"color\":\"#2a3f5f\"},\"marker\":{\"line\":{\"color\":\"#E5ECF6\",\"width\":0.5},\"pattern\":{\"fillmode\":\"overlay\",\"size\":10,\"solidity\":0.2}},\"type\":\"bar\"}],\"barpolar\":[{\"marker\":{\"line\":{\"color\":\"#E5ECF6\",\"width\":0.5},\"pattern\":{\"fillmode\":\"overlay\",\"size\":10,\"solidity\":0.2}},\"type\":\"barpolar\"}],\"carpet\":[{\"aaxis\":{\"endlinecolor\":\"#2a3f5f\",\"gridcolor\":\"white\",\"linecolor\":\"white\",\"minorgridcolor\":\"white\",\"startlinecolor\":\"#2a3f5f\"},\"baxis\":{\"endlinecolor\":\"#2a3f5f\",\"gridcolor\":\"white\",\"linecolor\":\"white\",\"minorgridcolor\":\"white\",\"startlinecolor\":\"#2a3f5f\"},\"type\":\"carpet\"}],\"choropleth\":[{\"colorbar\":{\"outlinewidth\":0,\"ticks\":\"\"},\"type\":\"choropleth\"}],\"contour\":[{\"colorbar\":{\"outlinewidth\":0,\"ticks\":\"\"},\"colorscale\":[[0.0,\"#0d0887\"],[0.1111111111111111,\"#46039f\"],[0.2222222222222222,\"#7201a8\"],[0.3333333333333333,\"#9c179e\"],[0.4444444444444444,\"#bd3786\"],[0.5555555555555556,\"#d8576b\"],[0.6666666666666666,\"#ed7953\"],[0.7777777777777778,\"#fb9f3a\"],[0.8888888888888888,\"#fdca26\"],[1.0,\"#f0f921\"]],\"type\":\"contour\"}],\"contourcarpet\":[{\"colorbar\":{\"outlinewidth\":0,\"ticks\":\"\"},\"type\":\"contourcarpet\"}],\"heatmap\":[{\"colorbar\":{\"outlinewidth\":0,\"ticks\":\"\"},\"colorscale\":[[0.0,\"#0d0887\"],[0.1111111111111111,\"#46039f\"],[0.2222222222222222,\"#7201a8\"],[0.3333333333333333,\"#9c179e\"],[0.4444444444444444,\"#bd3786\"],[0.5555555555555556,\"#d8576b\"],[0.6666666666666666,\"#ed7953\"],[0.7777777777777778,\"#fb9f3a\"],[0.8888888888888888,\"#fdca26\"],[1.0,\"#f0f921\"]],\"type\":\"heatmap\"}],\"heatmapgl\":[{\"colorbar\":{\"outlinewidth\":0,\"ticks\":\"\"},\"colorscale\":[[0.0,\"#0d0887\"],[0.1111111111111111,\"#46039f\"],[0.2222222222222222,\"#7201a8\"],[0.3333333333333333,\"#9c179e\"],[0.4444444444444444,\"#bd3786\"],[0.5555555555555556,\"#d8576b\"],[0.6666666666666666,\"#ed7953\"],[0.7777777777777778,\"#fb9f3a\"],[0.8888888888888888,\"#fdca26\"],[1.0,\"#f0f921\"]],\"type\":\"heatmapgl\"}],\"histogram\":[{\"marker\":{\"pattern\":{\"fillmode\":\"overlay\",\"size\":10,\"solidity\":0.2}},\"type\":\"histogram\"}],\"histogram2d\":[{\"colorbar\":{\"outlinewidth\":0,\"ticks\":\"\"},\"colorscale\":[[0.0,\"#0d0887\"],[0.1111111111111111,\"#46039f\"],[0.2222222222222222,\"#7201a8\"],[0.3333333333333333,\"#9c179e\"],[0.4444444444444444,\"#bd3786\"],[0.5555555555555556,\"#d8576b\"],[0.6666666666666666,\"#ed7953\"],[0.7777777777777778,\"#fb9f3a\"],[0.8888888888888888,\"#fdca26\"],[1.0,\"#f0f921\"]],\"type\":\"histogram2d\"}],\"histogram2dcontour\":[{\"colorbar\":{\"outlinewidth\":0,\"ticks\":\"\"},\"colorscale\":[[0.0,\"#0d0887\"],[0.1111111111111111,\"#46039f\"],[0.2222222222222222,\"#7201a8\"],[0.3333333333333333,\"#9c179e\"],[0.4444444444444444,\"#bd3786\"],[0.5555555555555556,\"#d8576b\"],[0.6666666666666666,\"#ed7953\"],[0.7777777777777778,\"#fb9f3a\"],[0.8888888888888888,\"#fdca26\"],[1.0,\"#f0f921\"]],\"type\":\"histogram2dcontour\"}],\"mesh3d\":[{\"colorbar\":{\"outlinewidth\":0,\"ticks\":\"\"},\"type\":\"mesh3d\"}],\"parcoords\":[{\"line\":{\"colorbar\":{\"outlinewidth\":0,\"ticks\":\"\"}},\"type\":\"parcoords\"}],\"pie\":[{\"automargin\":true,\"type\":\"pie\"}],\"scatter\":[{\"marker\":{\"colorbar\":{\"outlinewidth\":0,\"ticks\":\"\"}},\"type\":\"scatter\"}],\"scatter3d\":[{\"line\":{\"colorbar\":{\"outlinewidth\":0,\"ticks\":\"\"}},\"marker\":{\"colorbar\":{\"outlinewidth\":0,\"ticks\":\"\"}},\"type\":\"scatter3d\"}],\"scattercarpet\":[{\"marker\":{\"colorbar\":{\"outlinewidth\":0,\"ticks\":\"\"}},\"type\":\"scattercarpet\"}],\"scattergeo\":[{\"marker\":{\"colorbar\":{\"outlinewidth\":0,\"ticks\":\"\"}},\"type\":\"scattergeo\"}],\"scattergl\":[{\"marker\":{\"colorbar\":{\"outlinewidth\":0,\"ticks\":\"\"}},\"type\":\"scattergl\"}],\"scattermapbox\":[{\"marker\":{\"colorbar\":{\"outlinewidth\":0,\"ticks\":\"\"}},\"type\":\"scattermapbox\"}],\"scatterpolar\":[{\"marker\":{\"colorbar\":{\"outlinewidth\":0,\"ticks\":\"\"}},\"type\":\"scatterpolar\"}],\"scatterpolargl\":[{\"marker\":{\"colorbar\":{\"outlinewidth\":0,\"ticks\":\"\"}},\"type\":\"scatterpolargl\"}],\"scatterternary\":[{\"marker\":{\"colorbar\":{\"outlinewidth\":0,\"ticks\":\"\"}},\"type\":\"scatterternary\"}],\"surface\":[{\"colorbar\":{\"outlinewidth\":0,\"ticks\":\"\"},\"colorscale\":[[0.0,\"#0d0887\"],[0.1111111111111111,\"#46039f\"],[0.2222222222222222,\"#7201a8\"],[0.3333333333333333,\"#9c179e\"],[0.4444444444444444,\"#bd3786\"],[0.5555555555555556,\"#d8576b\"],[0.6666666666666666,\"#ed7953\"],[0.7777777777777778,\"#fb9f3a\"],[0.8888888888888888,\"#fdca26\"],[1.0,\"#f0f921\"]],\"type\":\"surface\"}],\"table\":[{\"cells\":{\"fill\":{\"color\":\"#EBF0F8\"},\"line\":{\"color\":\"white\"}},\"header\":{\"fill\":{\"color\":\"#C8D4E3\"},\"line\":{\"color\":\"white\"}},\"type\":\"table\"}]},\"layout\":{\"annotationdefaults\":{\"arrowcolor\":\"#2a3f5f\",\"arrowhead\":0,\"arrowwidth\":1},\"autotypenumbers\":\"strict\",\"coloraxis\":{\"colorbar\":{\"outlinewidth\":0,\"ticks\":\"\"}},\"colorscale\":{\"diverging\":[[0,\"#8e0152\"],[0.1,\"#c51b7d\"],[0.2,\"#de77ae\"],[0.3,\"#f1b6da\"],[0.4,\"#fde0ef\"],[0.5,\"#f7f7f7\"],[0.6,\"#e6f5d0\"],[0.7,\"#b8e186\"],[0.8,\"#7fbc41\"],[0.9,\"#4d9221\"],[1,\"#276419\"]],\"sequential\":[[0.0,\"#0d0887\"],[0.1111111111111111,\"#46039f\"],[0.2222222222222222,\"#7201a8\"],[0.3333333333333333,\"#9c179e\"],[0.4444444444444444,\"#bd3786\"],[0.5555555555555556,\"#d8576b\"],[0.6666666666666666,\"#ed7953\"],[0.7777777777777778,\"#fb9f3a\"],[0.8888888888888888,\"#fdca26\"],[1.0,\"#f0f921\"]],\"sequentialminus\":[[0.0,\"#0d0887\"],[0.1111111111111111,\"#46039f\"],[0.2222222222222222,\"#7201a8\"],[0.3333333333333333,\"#9c179e\"],[0.4444444444444444,\"#bd3786\"],[0.5555555555555556,\"#d8576b\"],[0.6666666666666666,\"#ed7953\"],[0.7777777777777778,\"#fb9f3a\"],[0.8888888888888888,\"#fdca26\"],[1.0,\"#f0f921\"]]},\"colorway\":[\"#636efa\",\"#EF553B\",\"#00cc96\",\"#ab63fa\",\"#FFA15A\",\"#19d3f3\",\"#FF6692\",\"#B6E880\",\"#FF97FF\",\"#FECB52\"],\"font\":{\"color\":\"#2a3f5f\"},\"geo\":{\"bgcolor\":\"white\",\"lakecolor\":\"white\",\"landcolor\":\"#E5ECF6\",\"showlakes\":true,\"showland\":true,\"subunitcolor\":\"white\"},\"hoverlabel\":{\"align\":\"left\"},\"hovermode\":\"closest\",\"mapbox\":{\"style\":\"light\"},\"paper_bgcolor\":\"white\",\"plot_bgcolor\":\"#E5ECF6\",\"polar\":{\"angularaxis\":{\"gridcolor\":\"white\",\"linecolor\":\"white\",\"ticks\":\"\"},\"bgcolor\":\"#E5ECF6\",\"radialaxis\":{\"gridcolor\":\"white\",\"linecolor\":\"white\",\"ticks\":\"\"}},\"scene\":{\"xaxis\":{\"backgroundcolor\":\"#E5ECF6\",\"gridcolor\":\"white\",\"gridwidth\":2,\"linecolor\":\"white\",\"showbackground\":true,\"ticks\":\"\",\"zerolinecolor\":\"white\"},\"yaxis\":{\"backgroundcolor\":\"#E5ECF6\",\"gridcolor\":\"white\",\"gridwidth\":2,\"linecolor\":\"white\",\"showbackground\":true,\"ticks\":\"\",\"zerolinecolor\":\"white\"},\"zaxis\":{\"backgroundcolor\":\"#E5ECF6\",\"gridcolor\":\"white\",\"gridwidth\":2,\"linecolor\":\"white\",\"showbackground\":true,\"ticks\":\"\",\"zerolinecolor\":\"white\"}},\"shapedefaults\":{\"line\":{\"color\":\"#2a3f5f\"}},\"ternary\":{\"aaxis\":{\"gridcolor\":\"white\",\"linecolor\":\"white\",\"ticks\":\"\"},\"baxis\":{\"gridcolor\":\"white\",\"linecolor\":\"white\",\"ticks\":\"\"},\"bgcolor\":\"#E5ECF6\",\"caxis\":{\"gridcolor\":\"white\",\"linecolor\":\"white\",\"ticks\":\"\"}},\"title\":{\"x\":0.05},\"xaxis\":{\"automargin\":true,\"gridcolor\":\"white\",\"linecolor\":\"white\",\"ticks\":\"\",\"title\":{\"standoff\":15},\"zerolinecolor\":\"white\",\"zerolinewidth\":2},\"yaxis\":{\"automargin\":true,\"gridcolor\":\"white\",\"linecolor\":\"white\",\"ticks\":\"\",\"title\":{\"standoff\":15},\"zerolinecolor\":\"white\",\"zerolinewidth\":2}}},\"xaxis\":{\"anchor\":\"y\",\"domain\":[0.0,1.0],\"title\":{\"text\":\"month\"}},\"yaxis\":{\"anchor\":\"x\",\"domain\":[0.0,1.0],\"title\":{\"text\":\"cases\"}},\"legend\":{\"title\":{\"text\":\"year\"},\"tracegroupgap\":0},\"title\":{\"text\":\"Number of Support Cases for Annual Subscriptions\"}},                        {\"responsive\": true}                    )                };                            </script>        </div>\n",
       "</body>\n",
       "</html>"
      ]
     },
     "metadata": {
      "application/vnd.databricks.v1+output": {
       "addedWidgets": {},
       "arguments": {},
       "data": "<html>\n<head><meta charset=\"utf-8\" /></head>\n<body>\n    <div>            <script src=\"https://cdnjs.cloudflare.com/ajax/libs/mathjax/2.7.5/MathJax.js?config=TeX-AMS-MML_SVG\"></script><script type=\"text/javascript\">if (window.MathJax) {MathJax.Hub.Config({SVG: {font: \"STIX-Web\"}});}</script>                <script type=\"text/javascript\">window.PlotlyConfig = {MathJaxConfig: 'local'};</script>\n        <script src=\"https://cdn.plot.ly/plotly-2.9.0.min.js\"></script>                <div id=\"325a1655-280a-44bd-87c6-9cccd9597060\" class=\"plotly-graph-div\" style=\"height:100%; width:100%;\"></div>            <script type=\"text/javascript\">                                    window.PLOTLYENV=window.PLOTLYENV || {};                                    if (document.getElementById(\"325a1655-280a-44bd-87c6-9cccd9597060\")) {                    Plotly.newPlot(                        \"325a1655-280a-44bd-87c6-9cccd9597060\",                        [{\"hovertemplate\":\"year=2017<br>month=%{x}<br>cases=%{y}<extra></extra>\",\"legendgroup\":\"2017\",\"line\":{\"color\":\"#636efa\",\"dash\":\"solid\"},\"marker\":{\"symbol\":\"circle\"},\"mode\":\"lines\",\"name\":\"2017\",\"orientation\":\"v\",\"showlegend\":true,\"x\":[1,2,3,4,5,6,7,8,9,10,11,12],\"xaxis\":\"x\",\"y\":[39,113,241,322,413,460,627,647,663,690,640,618],\"yaxis\":\"y\",\"type\":\"scatter\"},{\"hovertemplate\":\"year=2018<br>month=%{x}<br>cases=%{y}<extra></extra>\",\"legendgroup\":\"2018\",\"line\":{\"color\":\"#EF553B\",\"dash\":\"solid\"},\"marker\":{\"symbol\":\"circle\"},\"mode\":\"lines\",\"name\":\"2018\",\"orientation\":\"v\",\"showlegend\":true,\"x\":[1,2,3,4,5,6,7,8,9,10,11,12],\"xaxis\":\"x\",\"y\":[674,670,767,817,1019,1033,1183,1239,1296,1270,1189,1208],\"yaxis\":\"y\",\"type\":\"scatter\"},{\"hovertemplate\":\"year=2019<br>month=%{x}<br>cases=%{y}<extra></extra>\",\"legendgroup\":\"2019\",\"line\":{\"color\":\"#00cc96\",\"dash\":\"solid\"},\"marker\":{\"symbol\":\"circle\"},\"mode\":\"lines\",\"name\":\"2019\",\"orientation\":\"v\",\"showlegend\":true,\"x\":[1,2,3,4,5,6,7,8,9,10,11,12],\"xaxis\":\"x\",\"y\":[1210,1177,1543,1664,1755,1895,2169,2314,2208,2158,2105,2155],\"yaxis\":\"y\",\"type\":\"scatter\"},{\"hovertemplate\":\"year=2020<br>month=%{x}<br>cases=%{y}<extra></extra>\",\"legendgroup\":\"2020\",\"line\":{\"color\":\"#ab63fa\",\"dash\":\"solid\"},\"marker\":{\"symbol\":\"circle\"},\"mode\":\"lines\",\"name\":\"2020\",\"orientation\":\"v\",\"showlegend\":true,\"x\":[1,2,3,4,5,6,7,8,9,10,11,12],\"xaxis\":\"x\",\"y\":[2105,2045,2232,2275,2392,2478,2679,2544,2464,2367,2260,2231],\"yaxis\":\"y\",\"type\":\"scatter\"},{\"hovertemplate\":\"year=2021<br>month=%{x}<br>cases=%{y}<extra></extra>\",\"legendgroup\":\"2021\",\"line\":{\"color\":\"#FFA15A\",\"dash\":\"solid\"},\"marker\":{\"symbol\":\"circle\"},\"mode\":\"lines\",\"name\":\"2021\",\"orientation\":\"v\",\"showlegend\":true,\"x\":[1,2,3,4,5,6,7,8,9,10,11,12],\"xaxis\":\"x\",\"y\":[2178,1968,2192,2048,2222,2236,2229,2187,2019,1924,1804,1743],\"yaxis\":\"y\",\"type\":\"scatter\"}],                        {\"template\":{\"data\":{\"bar\":[{\"error_x\":{\"color\":\"#2a3f5f\"},\"error_y\":{\"color\":\"#2a3f5f\"},\"marker\":{\"line\":{\"color\":\"#E5ECF6\",\"width\":0.5},\"pattern\":{\"fillmode\":\"overlay\",\"size\":10,\"solidity\":0.2}},\"type\":\"bar\"}],\"barpolar\":[{\"marker\":{\"line\":{\"color\":\"#E5ECF6\",\"width\":0.5},\"pattern\":{\"fillmode\":\"overlay\",\"size\":10,\"solidity\":0.2}},\"type\":\"barpolar\"}],\"carpet\":[{\"aaxis\":{\"endlinecolor\":\"#2a3f5f\",\"gridcolor\":\"white\",\"linecolor\":\"white\",\"minorgridcolor\":\"white\",\"startlinecolor\":\"#2a3f5f\"},\"baxis\":{\"endlinecolor\":\"#2a3f5f\",\"gridcolor\":\"white\",\"linecolor\":\"white\",\"minorgridcolor\":\"white\",\"startlinecolor\":\"#2a3f5f\"},\"type\":\"carpet\"}],\"choropleth\":[{\"colorbar\":{\"outlinewidth\":0,\"ticks\":\"\"},\"type\":\"choropleth\"}],\"contour\":[{\"colorbar\":{\"outlinewidth\":0,\"ticks\":\"\"},\"colorscale\":[[0.0,\"#0d0887\"],[0.1111111111111111,\"#46039f\"],[0.2222222222222222,\"#7201a8\"],[0.3333333333333333,\"#9c179e\"],[0.4444444444444444,\"#bd3786\"],[0.5555555555555556,\"#d8576b\"],[0.6666666666666666,\"#ed7953\"],[0.7777777777777778,\"#fb9f3a\"],[0.8888888888888888,\"#fdca26\"],[1.0,\"#f0f921\"]],\"type\":\"contour\"}],\"contourcarpet\":[{\"colorbar\":{\"outlinewidth\":0,\"ticks\":\"\"},\"type\":\"contourcarpet\"}],\"heatmap\":[{\"colorbar\":{\"outlinewidth\":0,\"ticks\":\"\"},\"colorscale\":[[0.0,\"#0d0887\"],[0.1111111111111111,\"#46039f\"],[0.2222222222222222,\"#7201a8\"],[0.3333333333333333,\"#9c179e\"],[0.4444444444444444,\"#bd3786\"],[0.5555555555555556,\"#d8576b\"],[0.6666666666666666,\"#ed7953\"],[0.7777777777777778,\"#fb9f3a\"],[0.8888888888888888,\"#fdca26\"],[1.0,\"#f0f921\"]],\"type\":\"heatmap\"}],\"heatmapgl\":[{\"colorbar\":{\"outlinewidth\":0,\"ticks\":\"\"},\"colorscale\":[[0.0,\"#0d0887\"],[0.1111111111111111,\"#46039f\"],[0.2222222222222222,\"#7201a8\"],[0.3333333333333333,\"#9c179e\"],[0.4444444444444444,\"#bd3786\"],[0.5555555555555556,\"#d8576b\"],[0.6666666666666666,\"#ed7953\"],[0.7777777777777778,\"#fb9f3a\"],[0.8888888888888888,\"#fdca26\"],[1.0,\"#f0f921\"]],\"type\":\"heatmapgl\"}],\"histogram\":[{\"marker\":{\"pattern\":{\"fillmode\":\"overlay\",\"size\":10,\"solidity\":0.2}},\"type\":\"histogram\"}],\"histogram2d\":[{\"colorbar\":{\"outlinewidth\":0,\"ticks\":\"\"},\"colorscale\":[[0.0,\"#0d0887\"],[0.1111111111111111,\"#46039f\"],[0.2222222222222222,\"#7201a8\"],[0.3333333333333333,\"#9c179e\"],[0.4444444444444444,\"#bd3786\"],[0.5555555555555556,\"#d8576b\"],[0.6666666666666666,\"#ed7953\"],[0.7777777777777778,\"#fb9f3a\"],[0.8888888888888888,\"#fdca26\"],[1.0,\"#f0f921\"]],\"type\":\"histogram2d\"}],\"histogram2dcontour\":[{\"colorbar\":{\"outlinewidth\":0,\"ticks\":\"\"},\"colorscale\":[[0.0,\"#0d0887\"],[0.1111111111111111,\"#46039f\"],[0.2222222222222222,\"#7201a8\"],[0.3333333333333333,\"#9c179e\"],[0.4444444444444444,\"#bd3786\"],[0.5555555555555556,\"#d8576b\"],[0.6666666666666666,\"#ed7953\"],[0.7777777777777778,\"#fb9f3a\"],[0.8888888888888888,\"#fdca26\"],[1.0,\"#f0f921\"]],\"type\":\"histogram2dcontour\"}],\"mesh3d\":[{\"colorbar\":{\"outlinewidth\":0,\"ticks\":\"\"},\"type\":\"mesh3d\"}],\"parcoords\":[{\"line\":{\"colorbar\":{\"outlinewidth\":0,\"ticks\":\"\"}},\"type\":\"parcoords\"}],\"pie\":[{\"automargin\":true,\"type\":\"pie\"}],\"scatter\":[{\"marker\":{\"colorbar\":{\"outlinewidth\":0,\"ticks\":\"\"}},\"type\":\"scatter\"}],\"scatter3d\":[{\"line\":{\"colorbar\":{\"outlinewidth\":0,\"ticks\":\"\"}},\"marker\":{\"colorbar\":{\"outlinewidth\":0,\"ticks\":\"\"}},\"type\":\"scatter3d\"}],\"scattercarpet\":[{\"marker\":{\"colorbar\":{\"outlinewidth\":0,\"ticks\":\"\"}},\"type\":\"scattercarpet\"}],\"scattergeo\":[{\"marker\":{\"colorbar\":{\"outlinewidth\":0,\"ticks\":\"\"}},\"type\":\"scattergeo\"}],\"scattergl\":[{\"marker\":{\"colorbar\":{\"outlinewidth\":0,\"ticks\":\"\"}},\"type\":\"scattergl\"}],\"scattermapbox\":[{\"marker\":{\"colorbar\":{\"outlinewidth\":0,\"ticks\":\"\"}},\"type\":\"scattermapbox\"}],\"scatterpolar\":[{\"marker\":{\"colorbar\":{\"outlinewidth\":0,\"ticks\":\"\"}},\"type\":\"scatterpolar\"}],\"scatterpolargl\":[{\"marker\":{\"colorbar\":{\"outlinewidth\":0,\"ticks\":\"\"}},\"type\":\"scatterpolargl\"}],\"scatterternary\":[{\"marker\":{\"colorbar\":{\"outlinewidth\":0,\"ticks\":\"\"}},\"type\":\"scatterternary\"}],\"surface\":[{\"colorbar\":{\"outlinewidth\":0,\"ticks\":\"\"},\"colorscale\":[[0.0,\"#0d0887\"],[0.1111111111111111,\"#46039f\"],[0.2222222222222222,\"#7201a8\"],[0.3333333333333333,\"#9c179e\"],[0.4444444444444444,\"#bd3786\"],[0.5555555555555556,\"#d8576b\"],[0.6666666666666666,\"#ed7953\"],[0.7777777777777778,\"#fb9f3a\"],[0.8888888888888888,\"#fdca26\"],[1.0,\"#f0f921\"]],\"type\":\"surface\"}],\"table\":[{\"cells\":{\"fill\":{\"color\":\"#EBF0F8\"},\"line\":{\"color\":\"white\"}},\"header\":{\"fill\":{\"color\":\"#C8D4E3\"},\"line\":{\"color\":\"white\"}},\"type\":\"table\"}]},\"layout\":{\"annotationdefaults\":{\"arrowcolor\":\"#2a3f5f\",\"arrowhead\":0,\"arrowwidth\":1},\"autotypenumbers\":\"strict\",\"coloraxis\":{\"colorbar\":{\"outlinewidth\":0,\"ticks\":\"\"}},\"colorscale\":{\"diverging\":[[0,\"#8e0152\"],[0.1,\"#c51b7d\"],[0.2,\"#de77ae\"],[0.3,\"#f1b6da\"],[0.4,\"#fde0ef\"],[0.5,\"#f7f7f7\"],[0.6,\"#e6f5d0\"],[0.7,\"#b8e186\"],[0.8,\"#7fbc41\"],[0.9,\"#4d9221\"],[1,\"#276419\"]],\"sequential\":[[0.0,\"#0d0887\"],[0.1111111111111111,\"#46039f\"],[0.2222222222222222,\"#7201a8\"],[0.3333333333333333,\"#9c179e\"],[0.4444444444444444,\"#bd3786\"],[0.5555555555555556,\"#d8576b\"],[0.6666666666666666,\"#ed7953\"],[0.7777777777777778,\"#fb9f3a\"],[0.8888888888888888,\"#fdca26\"],[1.0,\"#f0f921\"]],\"sequentialminus\":[[0.0,\"#0d0887\"],[0.1111111111111111,\"#46039f\"],[0.2222222222222222,\"#7201a8\"],[0.3333333333333333,\"#9c179e\"],[0.4444444444444444,\"#bd3786\"],[0.5555555555555556,\"#d8576b\"],[0.6666666666666666,\"#ed7953\"],[0.7777777777777778,\"#fb9f3a\"],[0.8888888888888888,\"#fdca26\"],[1.0,\"#f0f921\"]]},\"colorway\":[\"#636efa\",\"#EF553B\",\"#00cc96\",\"#ab63fa\",\"#FFA15A\",\"#19d3f3\",\"#FF6692\",\"#B6E880\",\"#FF97FF\",\"#FECB52\"],\"font\":{\"color\":\"#2a3f5f\"},\"geo\":{\"bgcolor\":\"white\",\"lakecolor\":\"white\",\"landcolor\":\"#E5ECF6\",\"showlakes\":true,\"showland\":true,\"subunitcolor\":\"white\"},\"hoverlabel\":{\"align\":\"left\"},\"hovermode\":\"closest\",\"mapbox\":{\"style\":\"light\"},\"paper_bgcolor\":\"white\",\"plot_bgcolor\":\"#E5ECF6\",\"polar\":{\"angularaxis\":{\"gridcolor\":\"white\",\"linecolor\":\"white\",\"ticks\":\"\"},\"bgcolor\":\"#E5ECF6\",\"radialaxis\":{\"gridcolor\":\"white\",\"linecolor\":\"white\",\"ticks\":\"\"}},\"scene\":{\"xaxis\":{\"backgroundcolor\":\"#E5ECF6\",\"gridcolor\":\"white\",\"gridwidth\":2,\"linecolor\":\"white\",\"showbackground\":true,\"ticks\":\"\",\"zerolinecolor\":\"white\"},\"yaxis\":{\"backgroundcolor\":\"#E5ECF6\",\"gridcolor\":\"white\",\"gridwidth\":2,\"linecolor\":\"white\",\"showbackground\":true,\"ticks\":\"\",\"zerolinecolor\":\"white\"},\"zaxis\":{\"backgroundcolor\":\"#E5ECF6\",\"gridcolor\":\"white\",\"gridwidth\":2,\"linecolor\":\"white\",\"showbackground\":true,\"ticks\":\"\",\"zerolinecolor\":\"white\"}},\"shapedefaults\":{\"line\":{\"color\":\"#2a3f5f\"}},\"ternary\":{\"aaxis\":{\"gridcolor\":\"white\",\"linecolor\":\"white\",\"ticks\":\"\"},\"baxis\":{\"gridcolor\":\"white\",\"linecolor\":\"white\",\"ticks\":\"\"},\"bgcolor\":\"#E5ECF6\",\"caxis\":{\"gridcolor\":\"white\",\"linecolor\":\"white\",\"ticks\":\"\"}},\"title\":{\"x\":0.05},\"xaxis\":{\"automargin\":true,\"gridcolor\":\"white\",\"linecolor\":\"white\",\"ticks\":\"\",\"title\":{\"standoff\":15},\"zerolinecolor\":\"white\",\"zerolinewidth\":2},\"yaxis\":{\"automargin\":true,\"gridcolor\":\"white\",\"linecolor\":\"white\",\"ticks\":\"\",\"title\":{\"standoff\":15},\"zerolinecolor\":\"white\",\"zerolinewidth\":2}}},\"xaxis\":{\"anchor\":\"y\",\"domain\":[0.0,1.0],\"title\":{\"text\":\"month\"}},\"yaxis\":{\"anchor\":\"x\",\"domain\":[0.0,1.0],\"title\":{\"text\":\"cases\"}},\"legend\":{\"title\":{\"text\":\"year\"},\"tracegroupgap\":0},\"title\":{\"text\":\"Number of Support Cases for Annual Subscriptions\"}},                        {\"responsive\": true}                    )                };                            </script>        </div>\n</body>\n</html>",
       "datasetInfos": [],
       "metadata": {},
       "removedWidgets": [],
       "textData": null,
       "type": "htmlSandbox"
      }
     },
     "output_type": "display_data"
    }
   ],
   "source": [
    "df_filtered = df_cases[df_cases['reason'] == 'support']\n",
    "fig = px.line(df_filtered, x='month', y='cases', color='year',\n",
    "              title='Number of Support Cases for Annual Subscriptions')\n",
    "fig.show()"
   ]
  },
  {
   "cell_type": "markdown",
   "metadata": {
    "application/vnd.databricks.v1+cell": {
     "cellMetadata": {
      "byteLimit": 2048000,
      "rowLimit": 10000
     },
     "inputWidgets": {},
     "nuid": "10a1831c-d267-487d-8c35-c212ef224ae7",
     "showTitle": false,
     "title": ""
    }
   },
   "source": [
    "Unlike the monthly subscription model, the annual subscription model has experienced a steady increase in support cases towards the end of each year. This trend was particularly pronounced in 2019, as evidenced by the steepest slope in the line chart for that year."
   ]
  }
 ],
 "metadata": {
  "application/vnd.databricks.v1+notebook": {
   "dashboards": [],
   "environmentMetadata": null,
   "language": "python",
   "notebookMetadata": {
    "mostRecentlyExecutedCommandWithImplicitDF": {
     "commandId": -1,
     "dataframes": [
      "_sqldf"
     ]
    },
    "pythonIndentUnit": 4
   },
   "notebookName": "SAAS_analysis",
   "widgets": {}
  }
 },
 "nbformat": 4,
 "nbformat_minor": 0
}
